{
 "cells": [
  {
   "cell_type": "code",
   "execution_count": 71,
   "metadata": {
    "collapsed": false
   },
   "outputs": [
    {
     "name": "stdout",
     "output_type": "stream",
     "text": [
      "IPython: 3.1.0\n",
      "numpy: 1.9.2\n",
      "scipy: 0.15.1\n",
      "matplotlib: 1.4.3\n",
      "scikit-learn: 0.16.1\n",
      "seaborn 0.5.1\n",
      "pandas 0.16.0\n"
     ]
    }
   ],
   "source": [
    "from __future__ import print_function\n",
    "\n",
    "import IPython\n",
    "print('IPython:', IPython.__version__)\n",
    "\n",
    "import numpy as np\n",
    "print('numpy:', np.__version__)\n",
    "\n",
    "import scipy as sp\n",
    "print('scipy:', sp.__version__)\n",
    "\n",
    "import matplotlib\n",
    "print('matplotlib:', matplotlib.__version__)\n",
    "\n",
    "import matplotlib.pyplot as plt\n",
    "\n",
    "import sklearn\n",
    "print('scikit-learn:', sklearn.__version__)\n",
    "\n",
    "import seaborn\n",
    "print('seaborn', seaborn.__version__)\n",
    "\n",
    "import pandas as pd\n",
    "print('pandas', pd.__version__)"
   ]
  },
  {
   "cell_type": "code",
   "execution_count": 2,
   "metadata": {
    "collapsed": false
   },
   "outputs": [],
   "source": [
    "seaborn.set()"
   ]
  },
  {
   "cell_type": "code",
   "execution_count": 3,
   "metadata": {
    "collapsed": true
   },
   "outputs": [],
   "source": [
    "%matplotlib inline"
   ]
  },
  {
   "cell_type": "markdown",
   "metadata": {},
   "source": [
    "##Data Exploration"
   ]
  },
  {
   "cell_type": "code",
   "execution_count": 4,
   "metadata": {
    "collapsed": true
   },
   "outputs": [],
   "source": [
    "#Get our data\n",
    "titanicData = pd.read_csv('data/train.csv')\n"
   ]
  },
  {
   "cell_type": "code",
   "execution_count": 5,
   "metadata": {
    "collapsed": false
   },
   "outputs": [
    {
     "name": "stdout",
     "output_type": "stream",
     "text": [
      "shape of training DF (891, 12)\n"
     ]
    }
   ],
   "source": [
    "print('shape of training DF', titanicData.shape)"
   ]
  },
  {
   "cell_type": "code",
   "execution_count": 6,
   "metadata": {
    "collapsed": false,
    "scrolled": true
   },
   "outputs": [
    {
     "name": "stdout",
     "output_type": "stream",
     "text": [
      "shape of training batch (713, 12)\n",
      "shape of testing batch (89, 12)\n"
     ]
    }
   ],
   "source": [
    "#Split training data into an 80/20 split\n",
    "titanicTrainingBatch = pd.DataFrame()\n",
    "titanicTestingBatch = pd.DataFrame()\n",
    "\n",
    "trainingMask = titanicData['PassengerId'] % 10 < 8\n",
    "testingMask  = titanicData['PassengerId'] % 10 > 8\n",
    "\n",
    "titanicTrainingBatch = titanicData[trainingMask]\n",
    "titanicTestingBatch  = titanicData[testingMask]\n",
    "\n",
    "print('shape of training batch', titanicTrainingBatch.shape)\n",
    "print('shape of testing batch', titanicTestingBatch.shape)"
   ]
  },
  {
   "cell_type": "code",
   "execution_count": 7,
   "metadata": {
    "collapsed": false
   },
   "outputs": [
    {
     "data": {
      "text/html": [
       "<div style=\"max-height:1000px;max-width:1500px;overflow:auto;\">\n",
       "<table border=\"1\" class=\"dataframe\">\n",
       "  <thead>\n",
       "    <tr style=\"text-align: right;\">\n",
       "      <th></th>\n",
       "      <th>PassengerId</th>\n",
       "      <th>Survived</th>\n",
       "      <th>Pclass</th>\n",
       "      <th>Name</th>\n",
       "      <th>Sex</th>\n",
       "      <th>Age</th>\n",
       "      <th>SibSp</th>\n",
       "      <th>Parch</th>\n",
       "      <th>Ticket</th>\n",
       "      <th>Fare</th>\n",
       "      <th>Cabin</th>\n",
       "      <th>Embarked</th>\n",
       "    </tr>\n",
       "  </thead>\n",
       "  <tbody>\n",
       "    <tr>\n",
       "      <th>0</th>\n",
       "      <td>1</td>\n",
       "      <td>0</td>\n",
       "      <td>3</td>\n",
       "      <td>Braund, Mr. Owen Harris</td>\n",
       "      <td>male</td>\n",
       "      <td>22</td>\n",
       "      <td>1</td>\n",
       "      <td>0</td>\n",
       "      <td>A/5 21171</td>\n",
       "      <td>7.2500</td>\n",
       "      <td>NaN</td>\n",
       "      <td>S</td>\n",
       "    </tr>\n",
       "    <tr>\n",
       "      <th>1</th>\n",
       "      <td>2</td>\n",
       "      <td>1</td>\n",
       "      <td>1</td>\n",
       "      <td>Cumings, Mrs. John Bradley (Florence Briggs Th...</td>\n",
       "      <td>female</td>\n",
       "      <td>38</td>\n",
       "      <td>1</td>\n",
       "      <td>0</td>\n",
       "      <td>PC 17599</td>\n",
       "      <td>71.2833</td>\n",
       "      <td>C85</td>\n",
       "      <td>C</td>\n",
       "    </tr>\n",
       "    <tr>\n",
       "      <th>2</th>\n",
       "      <td>3</td>\n",
       "      <td>1</td>\n",
       "      <td>3</td>\n",
       "      <td>Heikkinen, Miss. Laina</td>\n",
       "      <td>female</td>\n",
       "      <td>26</td>\n",
       "      <td>0</td>\n",
       "      <td>0</td>\n",
       "      <td>STON/O2. 3101282</td>\n",
       "      <td>7.9250</td>\n",
       "      <td>NaN</td>\n",
       "      <td>S</td>\n",
       "    </tr>\n",
       "    <tr>\n",
       "      <th>3</th>\n",
       "      <td>4</td>\n",
       "      <td>1</td>\n",
       "      <td>1</td>\n",
       "      <td>Futrelle, Mrs. Jacques Heath (Lily May Peel)</td>\n",
       "      <td>female</td>\n",
       "      <td>35</td>\n",
       "      <td>1</td>\n",
       "      <td>0</td>\n",
       "      <td>113803</td>\n",
       "      <td>53.1000</td>\n",
       "      <td>C123</td>\n",
       "      <td>S</td>\n",
       "    </tr>\n",
       "    <tr>\n",
       "      <th>4</th>\n",
       "      <td>5</td>\n",
       "      <td>0</td>\n",
       "      <td>3</td>\n",
       "      <td>Allen, Mr. William Henry</td>\n",
       "      <td>male</td>\n",
       "      <td>35</td>\n",
       "      <td>0</td>\n",
       "      <td>0</td>\n",
       "      <td>373450</td>\n",
       "      <td>8.0500</td>\n",
       "      <td>NaN</td>\n",
       "      <td>S</td>\n",
       "    </tr>\n",
       "  </tbody>\n",
       "</table>\n",
       "</div>"
      ],
      "text/plain": [
       "   PassengerId  Survived  Pclass  \\\n",
       "0            1         0       3   \n",
       "1            2         1       1   \n",
       "2            3         1       3   \n",
       "3            4         1       1   \n",
       "4            5         0       3   \n",
       "\n",
       "                                                Name     Sex  Age  SibSp  \\\n",
       "0                            Braund, Mr. Owen Harris    male   22      1   \n",
       "1  Cumings, Mrs. John Bradley (Florence Briggs Th...  female   38      1   \n",
       "2                             Heikkinen, Miss. Laina  female   26      0   \n",
       "3       Futrelle, Mrs. Jacques Heath (Lily May Peel)  female   35      1   \n",
       "4                           Allen, Mr. William Henry    male   35      0   \n",
       "\n",
       "   Parch            Ticket     Fare Cabin Embarked  \n",
       "0      0         A/5 21171   7.2500   NaN        S  \n",
       "1      0          PC 17599  71.2833   C85        C  \n",
       "2      0  STON/O2. 3101282   7.9250   NaN        S  \n",
       "3      0            113803  53.1000  C123        S  \n",
       "4      0            373450   8.0500   NaN        S  "
      ]
     },
     "execution_count": 7,
     "metadata": {},
     "output_type": "execute_result"
    }
   ],
   "source": [
    "titanicTrainingBatch.head()"
   ]
  },
  {
   "cell_type": "code",
   "execution_count": 8,
   "metadata": {
    "collapsed": false
   },
   "outputs": [
    {
     "data": {
      "text/plain": [
       "Index([u'PassengerId', u'Survived', u'Pclass', u'Name', u'Sex', u'Age', u'SibSp', u'Parch', u'Ticket', u'Fare', u'Cabin', u'Embarked'], dtype='object')"
      ]
     },
     "execution_count": 8,
     "metadata": {},
     "output_type": "execute_result"
    }
   ],
   "source": [
    "#make a series holding the columns\n",
    "titanicDataFeatures = titanicTrainingBatch.columns\n",
    "titanicDataFeatures.view()"
   ]
  },
  {
   "cell_type": "code",
   "execution_count": 9,
   "metadata": {
    "collapsed": false
   },
   "outputs": [
    {
     "data": {
      "text/html": [
       "<div style=\"max-height:1000px;max-width:1500px;overflow:auto;\">\n",
       "<table border=\"1\" class=\"dataframe\">\n",
       "  <thead>\n",
       "    <tr style=\"text-align: right;\">\n",
       "      <th></th>\n",
       "      <th>PassengerId</th>\n",
       "      <th>Survived</th>\n",
       "      <th>Pclass</th>\n",
       "      <th>Age</th>\n",
       "      <th>SibSp</th>\n",
       "      <th>Parch</th>\n",
       "      <th>Fare</th>\n",
       "    </tr>\n",
       "  </thead>\n",
       "  <tbody>\n",
       "    <tr>\n",
       "      <th>count</th>\n",
       "      <td>713.000000</td>\n",
       "      <td>713.000000</td>\n",
       "      <td>713.000000</td>\n",
       "      <td>580.000000</td>\n",
       "      <td>713.000000</td>\n",
       "      <td>713.000000</td>\n",
       "      <td>713.000000</td>\n",
       "    </tr>\n",
       "    <tr>\n",
       "      <th>mean</th>\n",
       "      <td>445.375877</td>\n",
       "      <td>0.373072</td>\n",
       "      <td>2.314165</td>\n",
       "      <td>29.966103</td>\n",
       "      <td>0.552595</td>\n",
       "      <td>0.349229</td>\n",
       "      <td>30.228967</td>\n",
       "    </tr>\n",
       "    <tr>\n",
       "      <th>std</th>\n",
       "      <td>257.462104</td>\n",
       "      <td>0.483960</td>\n",
       "      <td>0.837689</td>\n",
       "      <td>14.736764</td>\n",
       "      <td>1.167369</td>\n",
       "      <td>0.743929</td>\n",
       "      <td>41.915033</td>\n",
       "    </tr>\n",
       "    <tr>\n",
       "      <th>min</th>\n",
       "      <td>1.000000</td>\n",
       "      <td>0.000000</td>\n",
       "      <td>1.000000</td>\n",
       "      <td>0.420000</td>\n",
       "      <td>0.000000</td>\n",
       "      <td>0.000000</td>\n",
       "      <td>0.000000</td>\n",
       "    </tr>\n",
       "    <tr>\n",
       "      <th>25%</th>\n",
       "      <td>223.000000</td>\n",
       "      <td>0.000000</td>\n",
       "      <td>2.000000</td>\n",
       "      <td>21.000000</td>\n",
       "      <td>0.000000</td>\n",
       "      <td>0.000000</td>\n",
       "      <td>7.895800</td>\n",
       "    </tr>\n",
       "    <tr>\n",
       "      <th>50%</th>\n",
       "      <td>445.000000</td>\n",
       "      <td>0.000000</td>\n",
       "      <td>3.000000</td>\n",
       "      <td>28.000000</td>\n",
       "      <td>0.000000</td>\n",
       "      <td>0.000000</td>\n",
       "      <td>14.400000</td>\n",
       "    </tr>\n",
       "    <tr>\n",
       "      <th>75%</th>\n",
       "      <td>667.000000</td>\n",
       "      <td>1.000000</td>\n",
       "      <td>3.000000</td>\n",
       "      <td>39.000000</td>\n",
       "      <td>1.000000</td>\n",
       "      <td>0.000000</td>\n",
       "      <td>31.275000</td>\n",
       "    </tr>\n",
       "    <tr>\n",
       "      <th>max</th>\n",
       "      <td>891.000000</td>\n",
       "      <td>1.000000</td>\n",
       "      <td>3.000000</td>\n",
       "      <td>80.000000</td>\n",
       "      <td>8.000000</td>\n",
       "      <td>5.000000</td>\n",
       "      <td>512.329200</td>\n",
       "    </tr>\n",
       "  </tbody>\n",
       "</table>\n",
       "</div>"
      ],
      "text/plain": [
       "       PassengerId    Survived      Pclass         Age       SibSp  \\\n",
       "count   713.000000  713.000000  713.000000  580.000000  713.000000   \n",
       "mean    445.375877    0.373072    2.314165   29.966103    0.552595   \n",
       "std     257.462104    0.483960    0.837689   14.736764    1.167369   \n",
       "min       1.000000    0.000000    1.000000    0.420000    0.000000   \n",
       "25%     223.000000    0.000000    2.000000   21.000000    0.000000   \n",
       "50%     445.000000    0.000000    3.000000   28.000000    0.000000   \n",
       "75%     667.000000    1.000000    3.000000   39.000000    1.000000   \n",
       "max     891.000000    1.000000    3.000000   80.000000    8.000000   \n",
       "\n",
       "            Parch        Fare  \n",
       "count  713.000000  713.000000  \n",
       "mean     0.349229   30.228967  \n",
       "std      0.743929   41.915033  \n",
       "min      0.000000    0.000000  \n",
       "25%      0.000000    7.895800  \n",
       "50%      0.000000   14.400000  \n",
       "75%      0.000000   31.275000  \n",
       "max      5.000000  512.329200  "
      ]
     },
     "execution_count": 9,
     "metadata": {},
     "output_type": "execute_result"
    }
   ],
   "source": [
    "#Basic Statistic Values\n",
    "titanicTrainingBatch.describe()"
   ]
  },
  {
   "cell_type": "code",
   "execution_count": 10,
   "metadata": {
    "collapsed": false
   },
   "outputs": [
    {
     "data": {
      "text/plain": [
       "(-1, 3)"
      ]
     },
     "execution_count": 10,
     "metadata": {},
     "output_type": "execute_result"
    },
    {
     "data": {
      "image/png": "[encoded data removed]",
      "text/plain": [
       "<matplotlib.figure.Figure at 0x109c22190>"
      ]
     },
     "metadata": {},
     "output_type": "display_data"
    }
   ],
   "source": [
    "#Specify parameters of graphs\n",
    "SurvivalFigure = plt.figure(figsize=(16,6), dpi=1600)\n",
    "alpha_scatterplot = 0.2\n",
    "alpha_barchart = 0.55\n",
    "\n",
    "#Basic survival plot\n",
    "ax1 = plt.subplot2grid((2,3), (0,0))\n",
    "titanicTrainingBatch.loc[ : , 'Survived'].value_counts().plot(kind='bar',alpha=alpha_barchart)\n",
    "ax1.set_xlim(-1,2)\n",
    "plt.title('Distribution of Survival (1=Survived)')\n",
    "\n",
    "#Survival By Age\n",
    "ax2 = plt.subplot2grid((2,3), (0,1))\n",
    "plt.scatter(titanicTrainingBatch.loc[:, 'Survived'],titanicTrainingBatch.loc[:, 'Age'], c=titanicTrainingBatch.loc[:, 'Survived'], cmap='summer', alpha=alpha_scatterplot )\n",
    "plt.grid(b=True, which='major', axis='y')\n",
    "plt.ylabel('age')\n",
    "plt.title('Survival by Age, (Yellow=Survived)')\n",
    "\n",
    "#Passenger Class Distribution\n",
    "ax3 = plt.subplot2grid((2,3), (0,2))\n",
    "titanicTrainingBatch.loc[:, 'Pclass'].value_counts().plot(kind='barh', alpha=alpha_barchart)\n",
    "plt.ylabel('Passenger Class')\n",
    "plt.xlabel('Number of passengers')\n",
    "plt.title('Breakdown of number of passengers per class')\n",
    "\n",
    "#Kernel Density Estimate of Age Distribution within classes\n",
    "ax4 = plt.subplot2grid((2,3), (1,0), colspan=2)\n",
    "for classNum in range(3):\n",
    "    titanicTrainingBatch.loc[:, 'Age'][titanicTrainingBatch.Pclass == classNum+1].plot(kind='kde')\n",
    "plt.xlabel('Age')\n",
    "plt.title('Age Distribution within Classes')\n",
    "plt.legend(('1st class', '2nd class', '3rd class'), loc='best')\n",
    "\n",
    "#Passengers by boarding loc\n",
    "ax5 = plt.subplot2grid((2,3), (1,2))\n",
    "titanicTrainingBatch.loc[: , 'Embarked'].value_counts().plot(kind='bar', alpha=alpha_barchart)\n",
    "plt.title('Number of Passengers per boarding loc')\n",
    "ax5.set_xlim(-1,len(titanicTrainingBatch.Embarked.value_counts()))"
   ]
  },
  {
   "cell_type": "markdown",
   "metadata": {},
   "source": [
    "###Explore Survival/Death"
   ]
  },
  {
   "cell_type": "code",
   "execution_count": 11,
   "metadata": {
    "collapsed": false
   },
   "outputs": [
    {
     "data": {
      "text/plain": [
       "<matplotlib.text.Text at 0x10a62d390>"
      ]
     },
     "execution_count": 11,
     "metadata": {},
     "output_type": "execute_result"
    },
    {
     "data": {
      "text/plain": [
       "<matplotlib.figure.Figure at 0x109e3f790>"
      ]
     },
     "metadata": {},
     "output_type": "display_data"
    },
    {
     "data": {
      "image/png": "[encoded data removed]",
      "text/plain": [
       "<matplotlib.figure.Figure at 0x109e3f7d0>"
      ]
     },
     "metadata": {},
     "output_type": "display_data"
    }
   ],
   "source": [
    "plt.figure(figsize=(16,6))\n",
    "fig, ax = plt.subplots()\n",
    "titanicTrainingBatch.loc[:, 'Survived'].value_counts().plot(kind='bar', alpha=alpha_barchart)\n",
    "plt.xlabel('number of people')\n",
    "plt.title('Survival Breakdown 1=survived 0=died')"
   ]
  },
  {
   "cell_type": "markdown",
   "metadata": {},
   "source": [
    "####Survival Breakdown by Gender"
   ]
  },
  {
   "cell_type": "code",
   "execution_count": 12,
   "metadata": {
    "collapsed": false
   },
   "outputs": [
    {
     "data": {
      "text/plain": [
       "<matplotlib.text.Text at 0x10ad15f90>"
      ]
     },
     "execution_count": 12,
     "metadata": {},
     "output_type": "execute_result"
    },
    {
     "data": {
      "image/png": "[encoded data removed]",
      "text/plain": [
       "<matplotlib.figure.Figure at 0x10a354550>"
      ]
     },
     "metadata": {},
     "output_type": "display_data"
    }
   ],
   "source": [
    "genderFigure = plt.figure(figsize=(16,4))\n",
    "\n",
    "maleAxes = genderFigure.add_subplot(1,2,1)\n",
    "maleMask = titanicTrainingBatch.Sex == 'male'\n",
    "maleSurvivalCounts = titanicTrainingBatch.Survived[maleMask].value_counts()\n",
    "maleSurvivalCounts.plot(kind='bar', alpha=alpha_barchart)\n",
    "plt.xlabel('Survived/Died')\n",
    "plt.ylabel('Number of people')\n",
    "plt.title('Breakdown of male survival (1=survived)')\n",
    "\n",
    "femaleAxes = genderFigure.add_subplot(1,2,2, sharey=maleAxes)\n",
    "femaleMask = titanicTrainingBatch.Sex == 'female'\n",
    "femaleSurvivalCounts = titanicTrainingBatch.Survived[femaleMask].value_counts()\n",
    "femaleSurvivalCounts.sort(0) #so both display same x axis\n",
    "femaleSurvivalCounts.plot(kind='bar', alpha=alpha_barchart, color='pink')\n",
    "plt.xlabel('Survived/Died')\n",
    "plt.ylabel('Number of people')\n",
    "plt.title('Breakdown of female survival (1=survived)')"
   ]
  },
  {
   "cell_type": "code",
   "execution_count": 13,
   "metadata": {
    "collapsed": true
   },
   "outputs": [],
   "source": [
    "#Graph survival in terms of percentages\n",
    "numberOfWomen = len(titanicTrainingBatch[femaleMask])\n",
    "numberOfMen = len(titanicTrainingBatch[maleMask])"
   ]
  },
  {
   "cell_type": "code",
   "execution_count": 14,
   "metadata": {
    "collapsed": false
   },
   "outputs": [
    {
     "data": {
      "text/plain": [
       "<matplotlib.text.Text at 0x10afabc10>"
      ]
     },
     "execution_count": 14,
     "metadata": {},
     "output_type": "execute_result"
    },
    {
     "data": {
      "image/png": "[encoded data removed]",
      "text/plain": [
       "<matplotlib.figure.Figure at 0x10a354b50>"
      ]
     },
     "metadata": {},
     "output_type": "display_data"
    }
   ],
   "source": [
    "genderPercentagesFigure = plt.figure(figsize=(16,6))\n",
    "\n",
    "maleAxes = genderPercentagesFigure.add_subplot(1,2,1)\n",
    "maleSurvivalPercentages = maleSurvivalCounts / numberOfMen\n",
    "maleSurvivalPercentages.plot(kind='bar', alpha=alpha_barchart)\n",
    "plt.ylabel('Percentage')\n",
    "plt.title('Percentage of men who survived 1=survived')\n",
    "\n",
    "femaleAxes = genderPercentagesFigure.add_subplot(1,2,2, sharey=maleAxes)\n",
    "femaleSurvivalPercentages = femaleSurvivalCounts / numberOfWomen\n",
    "femaleSurvivalPercentages.plot(kind='bar', alpha=alpha_barchart, color='pink')\n",
    "plt.ylabel('Perctange')\n",
    "plt.title('Percentage of women who survived 1=survived')\n",
    "\n"
   ]
  },
  {
   "cell_type": "markdown",
   "metadata": {},
   "source": [
    "####Gender Survival Breakdown Into Passenger Class"
   ]
  },
  {
   "cell_type": "code",
   "execution_count": 15,
   "metadata": {
    "collapsed": true
   },
   "outputs": [],
   "source": [
    "#Get the three classes\n",
    "upperClass = titanicTrainingBatch[titanicTrainingBatch.Pclass==1]\n",
    "middleClass = titanicTrainingBatch[titanicTrainingBatch.Pclass==2]\n",
    "lowerClass = titanicTrainingBatch[titanicTrainingBatch.Pclass==3]"
   ]
  },
  {
   "cell_type": "code",
   "execution_count": 16,
   "metadata": {
    "collapsed": false
   },
   "outputs": [
    {
     "name": "stderr",
     "output_type": "stream",
     "text": [
      "/Users/Jslice/anaconda/lib/python2.7/site-packages/pandas/core/frame.py:1815: UserWarning: Boolean Series key will be reindexed to match DataFrame index.\n",
      "  \"DataFrame index.\", UserWarning)\n"
     ]
    },
    {
     "data": {
      "text/plain": [
       "<matplotlib.text.Text at 0x10bf2a450>"
      ]
     },
     "execution_count": 16,
     "metadata": {},
     "output_type": "execute_result"
    },
    {
     "data": {
      "image/png": "[encoded data removed]",
      "text/plain": [
       "<matplotlib.figure.Figure at 0x10b82d390>"
      ]
     },
     "metadata": {},
     "output_type": "display_data"
    }
   ],
   "source": [
    "#make gender survival classes for all 3 classes\n",
    "classGenderFigure = plt.figure(figsize=(16,10))\n",
    "\n",
    "##Upper Class##\n",
    "upperClassMaleAx = classGenderFigure.add_subplot(3,2,1)\n",
    "upperClassMaleCount = len(upperClass[maleMask])\n",
    "upperClassMPercentages = upperClass.Survived[maleMask].value_counts() / upperClassMaleCount\n",
    "upperClassMPercentages.plot(kind='bar', alpha=alpha_barchart)\n",
    "plt.title('Upper Class Male Survival Rates (1=survived)')\n",
    "\n",
    "\n",
    "upperClassFemaleAx = classGenderFigure.add_subplot(3,2,2)\n",
    "upperClassFemaleCount = len(upperClass[femaleMask])\n",
    "upperClassFPercentages = upperClass.Survived[femaleMask].value_counts() / upperClassFemaleCount\n",
    "upperClassFPercentages.sort()\n",
    "upperClassFPercentages.plot(kind='bar', alpha=alpha_barchart, color='pink')\n",
    "plt.title('Upper Class Female Survival Rates (1=survived)')\n",
    "\n",
    "\n",
    "##Middle Class##\n",
    "middleClassMaleAx = classGenderFigure.add_subplot(3,2,3)\n",
    "middleClassMaleCount = len(middleClass[maleMask])\n",
    "middleClassMPercentages = middleClass.Survived[maleMask].value_counts() / middleClassMaleCount\n",
    "middleClassMPercentages.plot(kind='bar', alpha=alpha_barchart)\n",
    "plt.title('Middle Class Male Survival Rates (1=survived)')\n",
    "\n",
    "middleClassFemaleAx = classGenderFigure.add_subplot(3,2,4)\n",
    "middleClassFemaleCount = len(middleClass[femaleMask])\n",
    "middleClassFPercentages = middleClass.Survived[femaleMask].value_counts() / middleClassFemaleCount\n",
    "middleClassFPercentages.sort(0)\n",
    "middleClassFPercentages.plot(kind='bar', alpha=alpha_barchart, color='pink')\n",
    "plt.title('Middle Class Female Survival Rates (1=survived)')\n",
    "\n",
    "##Lower Class##\n",
    "lowerClassMaleAx = classGenderFigure.add_subplot(3,2,5)\n",
    "lowerClassMaleCount = len(lowerClass[maleMask])\n",
    "lowerClassMPercentanges = lowerClass.Survived[maleMask].value_counts() / lowerClassMaleCount\n",
    "lowerClassMPercentanges.plot(kind='bar', alpha=alpha_barchart)\n",
    "plt.title('Lower Class Male Survival Rates (1=survived)')\n",
    "\n",
    "\n",
    "lowerClassFemaleAx = classGenderFigure.add_subplot(3,2,6)\n",
    "lowerClassFemaleCount = len(lowerClass[femaleMask])\n",
    "lowerClassFPercentanges = lowerClass.Survived[femaleMask].value_counts() / lowerClassFemaleCount\n",
    "lowerClassFPercentanges.sort(ascending=False)\n",
    "lowerClassFPercentanges.plot(kind='bar', alpha=alpha_barchart, color='pink')\n",
    "plt.title('Lower Class Female Survival Rates (1=survived)')\n",
    "\n",
    "\n"
   ]
  },
  {
   "cell_type": "markdown",
   "metadata": {},
   "source": [
    "####Higher Dimensional Scatterplot Analysis"
   ]
  },
  {
   "cell_type": "code",
   "execution_count": 17,
   "metadata": {
    "collapsed": false
   },
   "outputs": [],
   "source": [
    "titanicTrainingAge = titanicTrainingBatch.loc[: , 'Age']\n",
    "titanicTrainingFare = titanicTrainingBatch.loc[: ,'Fare']\n",
    "titanicTrainingSurvived = titanicTrainingBatch.loc[:, 'Survived']\n"
   ]
  },
  {
   "cell_type": "code",
   "execution_count": 18,
   "metadata": {
    "collapsed": false
   },
   "outputs": [
    {
     "data": {
      "text/plain": [
       "<matplotlib.text.Text at 0x10c6a9990>"
      ]
     },
     "execution_count": 18,
     "metadata": {},
     "output_type": "execute_result"
    },
    {
     "data": {
      "image/png": "[encoded data removed]",
      "text/plain": [
       "<matplotlib.figure.Figure at 0x10af82a90>"
      ]
     },
     "metadata": {},
     "output_type": "display_data"
    }
   ],
   "source": [
    "plt.scatter(titanicTrainingAge, titanicTrainingFare, c=titanicTrainingSurvived, s=80, cmap='spring', alpha=0.5)\n",
    "plt.colorbar()\n",
    "plt.xlabel('Age')\n",
    "plt.ylabel('Fare')\n",
    "plt.ylim(0,600)\n",
    "plt.title('Plot of Age vs Fare, Yellow=Survived, Pink = Died')"
   ]
  },
  {
   "cell_type": "markdown",
   "metadata": {},
   "source": [
    "###Identify Families/Traveling Groups and Analyze Survival Rates"
   ]
  },
  {
   "cell_type": "code",
   "execution_count": 19,
   "metadata": {
    "collapsed": true
   },
   "outputs": [],
   "source": [
    "ticketGrouping = titanicTrainingBatch.groupby(titanicTrainingBatch['Ticket'])\n",
    "ticketGroupingSurvivalData = ticketGrouping['Survived'].agg([np.sum, len])\n",
    "ticketGroupingSurvivalData['percentLived'] = ticketGroupingSurvivalData['sum'] / ticketGroupingSurvivalData['len']"
   ]
  },
  {
   "cell_type": "code",
   "execution_count": 20,
   "metadata": {
    "collapsed": false
   },
   "outputs": [
    {
     "data": {
      "text/html": [
       "<div style=\"max-height:1000px;max-width:1500px;overflow:auto;\">\n",
       "<table border=\"1\" class=\"dataframe\">\n",
       "  <thead>\n",
       "    <tr style=\"text-align: right;\">\n",
       "      <th></th>\n",
       "      <th></th>\n",
       "      <th>percentLived</th>\n",
       "      <th>sum</th>\n",
       "    </tr>\n",
       "    <tr>\n",
       "      <th>len</th>\n",
       "      <th></th>\n",
       "      <th></th>\n",
       "      <th></th>\n",
       "    </tr>\n",
       "  </thead>\n",
       "  <tbody>\n",
       "    <tr>\n",
       "      <th rowspan=\"8\" valign=\"top\">1</th>\n",
       "      <th>count</th>\n",
       "      <td>472.000000</td>\n",
       "      <td>472.000000</td>\n",
       "    </tr>\n",
       "    <tr>\n",
       "      <th>mean</th>\n",
       "      <td>0.302966</td>\n",
       "      <td>0.302966</td>\n",
       "    </tr>\n",
       "    <tr>\n",
       "      <th>std</th>\n",
       "      <td>0.460028</td>\n",
       "      <td>0.460028</td>\n",
       "    </tr>\n",
       "    <tr>\n",
       "      <th>min</th>\n",
       "      <td>0.000000</td>\n",
       "      <td>0.000000</td>\n",
       "    </tr>\n",
       "    <tr>\n",
       "      <th>25%</th>\n",
       "      <td>0.000000</td>\n",
       "      <td>0.000000</td>\n",
       "    </tr>\n",
       "    <tr>\n",
       "      <th>50%</th>\n",
       "      <td>0.000000</td>\n",
       "      <td>0.000000</td>\n",
       "    </tr>\n",
       "    <tr>\n",
       "      <th>75%</th>\n",
       "      <td>1.000000</td>\n",
       "      <td>1.000000</td>\n",
       "    </tr>\n",
       "    <tr>\n",
       "      <th>max</th>\n",
       "      <td>1.000000</td>\n",
       "      <td>1.000000</td>\n",
       "    </tr>\n",
       "    <tr>\n",
       "      <th rowspan=\"8\" valign=\"top\">2</th>\n",
       "      <th>count</th>\n",
       "      <td>78.000000</td>\n",
       "      <td>78.000000</td>\n",
       "    </tr>\n",
       "    <tr>\n",
       "      <th>mean</th>\n",
       "      <td>0.596154</td>\n",
       "      <td>1.192308</td>\n",
       "    </tr>\n",
       "    <tr>\n",
       "      <th>std</th>\n",
       "      <td>0.411346</td>\n",
       "      <td>0.822693</td>\n",
       "    </tr>\n",
       "    <tr>\n",
       "      <th>min</th>\n",
       "      <td>0.000000</td>\n",
       "      <td>0.000000</td>\n",
       "    </tr>\n",
       "    <tr>\n",
       "      <th>25%</th>\n",
       "      <td>0.125000</td>\n",
       "      <td>0.250000</td>\n",
       "    </tr>\n",
       "    <tr>\n",
       "      <th>50%</th>\n",
       "      <td>0.500000</td>\n",
       "      <td>1.000000</td>\n",
       "    </tr>\n",
       "    <tr>\n",
       "      <th>75%</th>\n",
       "      <td>1.000000</td>\n",
       "      <td>2.000000</td>\n",
       "    </tr>\n",
       "    <tr>\n",
       "      <th>max</th>\n",
       "      <td>1.000000</td>\n",
       "      <td>2.000000</td>\n",
       "    </tr>\n",
       "    <tr>\n",
       "      <th rowspan=\"8\" valign=\"top\">3</th>\n",
       "      <th>count</th>\n",
       "      <td>11.000000</td>\n",
       "      <td>11.000000</td>\n",
       "    </tr>\n",
       "    <tr>\n",
       "      <th>mean</th>\n",
       "      <td>0.575758</td>\n",
       "      <td>1.727273</td>\n",
       "    </tr>\n",
       "    <tr>\n",
       "      <th>std</th>\n",
       "      <td>0.424026</td>\n",
       "      <td>1.272078</td>\n",
       "    </tr>\n",
       "    <tr>\n",
       "      <th>min</th>\n",
       "      <td>0.000000</td>\n",
       "      <td>0.000000</td>\n",
       "    </tr>\n",
       "    <tr>\n",
       "      <th>25%</th>\n",
       "      <td>0.166667</td>\n",
       "      <td>0.500000</td>\n",
       "    </tr>\n",
       "    <tr>\n",
       "      <th>50%</th>\n",
       "      <td>0.666667</td>\n",
       "      <td>2.000000</td>\n",
       "    </tr>\n",
       "    <tr>\n",
       "      <th>75%</th>\n",
       "      <td>1.000000</td>\n",
       "      <td>3.000000</td>\n",
       "    </tr>\n",
       "    <tr>\n",
       "      <th>max</th>\n",
       "      <td>1.000000</td>\n",
       "      <td>3.000000</td>\n",
       "    </tr>\n",
       "    <tr>\n",
       "      <th rowspan=\"8\" valign=\"top\">4</th>\n",
       "      <th>count</th>\n",
       "      <td>3.000000</td>\n",
       "      <td>3.000000</td>\n",
       "    </tr>\n",
       "    <tr>\n",
       "      <th>mean</th>\n",
       "      <td>0.583333</td>\n",
       "      <td>2.333333</td>\n",
       "    </tr>\n",
       "    <tr>\n",
       "      <th>std</th>\n",
       "      <td>0.520416</td>\n",
       "      <td>2.081666</td>\n",
       "    </tr>\n",
       "    <tr>\n",
       "      <th>min</th>\n",
       "      <td>0.000000</td>\n",
       "      <td>0.000000</td>\n",
       "    </tr>\n",
       "    <tr>\n",
       "      <th>25%</th>\n",
       "      <td>0.375000</td>\n",
       "      <td>1.500000</td>\n",
       "    </tr>\n",
       "    <tr>\n",
       "      <th>50%</th>\n",
       "      <td>0.750000</td>\n",
       "      <td>3.000000</td>\n",
       "    </tr>\n",
       "    <tr>\n",
       "      <th>75%</th>\n",
       "      <td>0.875000</td>\n",
       "      <td>3.500000</td>\n",
       "    </tr>\n",
       "    <tr>\n",
       "      <th>max</th>\n",
       "      <td>1.000000</td>\n",
       "      <td>4.000000</td>\n",
       "    </tr>\n",
       "    <tr>\n",
       "      <th rowspan=\"8\" valign=\"top\">5</th>\n",
       "      <th>count</th>\n",
       "      <td>4.000000</td>\n",
       "      <td>4.000000</td>\n",
       "    </tr>\n",
       "    <tr>\n",
       "      <th>mean</th>\n",
       "      <td>0.000000</td>\n",
       "      <td>0.000000</td>\n",
       "    </tr>\n",
       "    <tr>\n",
       "      <th>std</th>\n",
       "      <td>0.000000</td>\n",
       "      <td>0.000000</td>\n",
       "    </tr>\n",
       "    <tr>\n",
       "      <th>min</th>\n",
       "      <td>0.000000</td>\n",
       "      <td>0.000000</td>\n",
       "    </tr>\n",
       "    <tr>\n",
       "      <th>25%</th>\n",
       "      <td>0.000000</td>\n",
       "      <td>0.000000</td>\n",
       "    </tr>\n",
       "    <tr>\n",
       "      <th>50%</th>\n",
       "      <td>0.000000</td>\n",
       "      <td>0.000000</td>\n",
       "    </tr>\n",
       "    <tr>\n",
       "      <th>75%</th>\n",
       "      <td>0.000000</td>\n",
       "      <td>0.000000</td>\n",
       "    </tr>\n",
       "    <tr>\n",
       "      <th>max</th>\n",
       "      <td>0.000000</td>\n",
       "      <td>0.000000</td>\n",
       "    </tr>\n",
       "    <tr>\n",
       "      <th rowspan=\"8\" valign=\"top\">6</th>\n",
       "      <th>count</th>\n",
       "      <td>1.000000</td>\n",
       "      <td>1.000000</td>\n",
       "    </tr>\n",
       "    <tr>\n",
       "      <th>mean</th>\n",
       "      <td>0.666667</td>\n",
       "      <td>4.000000</td>\n",
       "    </tr>\n",
       "    <tr>\n",
       "      <th>std</th>\n",
       "      <td>NaN</td>\n",
       "      <td>NaN</td>\n",
       "    </tr>\n",
       "    <tr>\n",
       "      <th>min</th>\n",
       "      <td>0.666667</td>\n",
       "      <td>4.000000</td>\n",
       "    </tr>\n",
       "    <tr>\n",
       "      <th>25%</th>\n",
       "      <td>0.666667</td>\n",
       "      <td>4.000000</td>\n",
       "    </tr>\n",
       "    <tr>\n",
       "      <th>50%</th>\n",
       "      <td>0.666667</td>\n",
       "      <td>4.000000</td>\n",
       "    </tr>\n",
       "    <tr>\n",
       "      <th>75%</th>\n",
       "      <td>0.666667</td>\n",
       "      <td>4.000000</td>\n",
       "    </tr>\n",
       "    <tr>\n",
       "      <th>max</th>\n",
       "      <td>0.666667</td>\n",
       "      <td>4.000000</td>\n",
       "    </tr>\n",
       "    <tr>\n",
       "      <th rowspan=\"8\" valign=\"top\">7</th>\n",
       "      <th>count</th>\n",
       "      <td>2.000000</td>\n",
       "      <td>2.000000</td>\n",
       "    </tr>\n",
       "    <tr>\n",
       "      <th>mean</th>\n",
       "      <td>0.000000</td>\n",
       "      <td>0.000000</td>\n",
       "    </tr>\n",
       "    <tr>\n",
       "      <th>std</th>\n",
       "      <td>0.000000</td>\n",
       "      <td>0.000000</td>\n",
       "    </tr>\n",
       "    <tr>\n",
       "      <th>min</th>\n",
       "      <td>0.000000</td>\n",
       "      <td>0.000000</td>\n",
       "    </tr>\n",
       "    <tr>\n",
       "      <th>25%</th>\n",
       "      <td>0.000000</td>\n",
       "      <td>0.000000</td>\n",
       "    </tr>\n",
       "    <tr>\n",
       "      <th>50%</th>\n",
       "      <td>0.000000</td>\n",
       "      <td>0.000000</td>\n",
       "    </tr>\n",
       "    <tr>\n",
       "      <th>75%</th>\n",
       "      <td>0.000000</td>\n",
       "      <td>0.000000</td>\n",
       "    </tr>\n",
       "    <tr>\n",
       "      <th>max</th>\n",
       "      <td>0.000000</td>\n",
       "      <td>0.000000</td>\n",
       "    </tr>\n",
       "  </tbody>\n",
       "</table>\n",
       "</div>"
      ],
      "text/plain": [
       "           percentLived         sum\n",
       "len                                \n",
       "1   count    472.000000  472.000000\n",
       "    mean       0.302966    0.302966\n",
       "    std        0.460028    0.460028\n",
       "    min        0.000000    0.000000\n",
       "    25%        0.000000    0.000000\n",
       "    50%        0.000000    0.000000\n",
       "    75%        1.000000    1.000000\n",
       "    max        1.000000    1.000000\n",
       "2   count     78.000000   78.000000\n",
       "    mean       0.596154    1.192308\n",
       "    std        0.411346    0.822693\n",
       "    min        0.000000    0.000000\n",
       "    25%        0.125000    0.250000\n",
       "    50%        0.500000    1.000000\n",
       "    75%        1.000000    2.000000\n",
       "    max        1.000000    2.000000\n",
       "3   count     11.000000   11.000000\n",
       "    mean       0.575758    1.727273\n",
       "    std        0.424026    1.272078\n",
       "    min        0.000000    0.000000\n",
       "    25%        0.166667    0.500000\n",
       "    50%        0.666667    2.000000\n",
       "    75%        1.000000    3.000000\n",
       "    max        1.000000    3.000000\n",
       "4   count      3.000000    3.000000\n",
       "    mean       0.583333    2.333333\n",
       "    std        0.520416    2.081666\n",
       "    min        0.000000    0.000000\n",
       "    25%        0.375000    1.500000\n",
       "    50%        0.750000    3.000000\n",
       "    75%        0.875000    3.500000\n",
       "    max        1.000000    4.000000\n",
       "5   count      4.000000    4.000000\n",
       "    mean       0.000000    0.000000\n",
       "    std        0.000000    0.000000\n",
       "    min        0.000000    0.000000\n",
       "    25%        0.000000    0.000000\n",
       "    50%        0.000000    0.000000\n",
       "    75%        0.000000    0.000000\n",
       "    max        0.000000    0.000000\n",
       "6   count      1.000000    1.000000\n",
       "    mean       0.666667    4.000000\n",
       "    std             NaN         NaN\n",
       "    min        0.666667    4.000000\n",
       "    25%        0.666667    4.000000\n",
       "    50%        0.666667    4.000000\n",
       "    75%        0.666667    4.000000\n",
       "    max        0.666667    4.000000\n",
       "7   count      2.000000    2.000000\n",
       "    mean       0.000000    0.000000\n",
       "    std        0.000000    0.000000\n",
       "    min        0.000000    0.000000\n",
       "    25%        0.000000    0.000000\n",
       "    50%        0.000000    0.000000\n",
       "    75%        0.000000    0.000000\n",
       "    max        0.000000    0.000000"
      ]
     },
     "execution_count": 20,
     "metadata": {},
     "output_type": "execute_result"
    }
   ],
   "source": [
    "ticketGroupingSurvivalGroupSizes = ticketGroupingSurvivalData.groupby('len')\n",
    "ticketGroupingSurvivalGroupSizes.describe()"
   ]
  },
  {
   "cell_type": "code",
   "execution_count": 21,
   "metadata": {
    "collapsed": true
   },
   "outputs": [],
   "source": [
    "ticketGroupingSurvivalGroupSizesMean = ticketGroupingSurvivalGroupSizes['percentLived'].mean()"
   ]
  },
  {
   "cell_type": "code",
   "execution_count": 22,
   "metadata": {
    "collapsed": false
   },
   "outputs": [
    {
     "data": {
      "text/plain": [
       "<matplotlib.text.Text at 0x10ca75cd0>"
      ]
     },
     "execution_count": 22,
     "metadata": {},
     "output_type": "execute_result"
    },
    {
     "data": {
      "image/png": "[encoded data removed]",
      "text/plain": [
       "<matplotlib.figure.Figure at 0x10bf59850>"
      ]
     },
     "metadata": {},
     "output_type": "display_data"
    }
   ],
   "source": [
    "ticketGroupSurvivalFig = plt.figure(figsize=(16,6))\n",
    "ticketGroupSurvivalAx1 = ticketGroupSurvivalFig.add_subplot(1,2,1)\n",
    "ticketGroupingSurvivalGroupSizesMean.plot(kind='bar', alpha=alpha_barchart)\n",
    "plt.title('Average Survival Rate by Group Size')\n",
    "ticketGroupSurvivalAx2 = ticketGroupSurvivalFig.add_subplot(1,2,2)\n",
    "ticketGroupingSurvivalGroupSizes['percentLived'].count().plot( kind='bar', alpha=alpha_barchart)\n",
    "plt.title('Number of Observations by Group Size')"
   ]
  },
  {
   "cell_type": "markdown",
   "metadata": {},
   "source": [
    "The only group sizes we can use are size one and two"
   ]
  },
  {
   "cell_type": "markdown",
   "metadata": {},
   "source": [
    "##Data Cleaning/Munging"
   ]
  },
  {
   "cell_type": "code",
   "execution_count": 23,
   "metadata": {
    "collapsed": false
   },
   "outputs": [
    {
     "data": {
      "text/plain": [
       "PassengerId     0.000000\n",
       "Survived        0.000000\n",
       "Pclass          0.000000\n",
       "Name            0.000000\n",
       "Sex             0.000000\n",
       "Age            18.653576\n",
       "SibSp           0.000000\n",
       "Parch           0.000000\n",
       "Ticket          0.000000\n",
       "Fare            0.000000\n",
       "Cabin          76.718093\n",
       "Embarked        0.280505\n",
       "dtype: float64"
      ]
     },
     "execution_count": 23,
     "metadata": {},
     "output_type": "execute_result"
    }
   ],
   "source": [
    "#Missing Data Amount\n",
    "titanicTrainingBatch.isnull().sum() / len(titanicTrainingBatch) * 100"
   ]
  },
  {
   "cell_type": "code",
   "execution_count": 24,
   "metadata": {
    "collapsed": false
   },
   "outputs": [],
   "source": [
    "#Kill off nan values\n",
    "titanicTrainingBatch = titanicTrainingBatch.dropna()\n",
    "titanicTrainingBatchSurvived = titanicTrainingBatch['Survived']"
   ]
  },
  {
   "cell_type": "code",
   "execution_count": 25,
   "metadata": {
    "collapsed": false
   },
   "outputs": [
    {
     "name": "stdout",
     "output_type": "stream",
     "text": [
      "titanic training data dimensions after killing off na values (149, 12)\n"
     ]
    }
   ],
   "source": [
    "print('titanic training data dimensions after killing off na values', titanicTrainingBatch.shape)"
   ]
  },
  {
   "cell_type": "markdown",
   "metadata": {},
   "source": [
    "##Data Modeling"
   ]
  },
  {
   "cell_type": "code",
   "execution_count": 26,
   "metadata": {
    "collapsed": true
   },
   "outputs": [],
   "source": [
    "#Results dictionary to hold regression results\n",
    "results = {}"
   ]
  },
  {
   "cell_type": "markdown",
   "metadata": {},
   "source": [
    "####K-Nearest-Neighbors"
   ]
  },
  {
   "cell_type": "code",
   "execution_count": 27,
   "metadata": {
    "collapsed": true
   },
   "outputs": [],
   "source": [
    "from sklearn import neighbors"
   ]
  },
  {
   "cell_type": "code",
   "execution_count": 28,
   "metadata": {
    "collapsed": false
   },
   "outputs": [
    {
     "ename": "ValueError",
     "evalue": "x and y must be the same size",
     "output_type": "error",
     "traceback": [
      "\u001b[0;31m---------------------------------------------------------------------------\u001b[0m",
      "\u001b[0;31mValueError\u001b[0m                                Traceback (most recent call last)",
      "\u001b[0;32m<ipython-input-28-1b8bd7c6c3c8>\u001b[0m in \u001b[0;36m<module>\u001b[0;34m()\u001b[0m\n\u001b[1;32m     13\u001b[0m \u001b[0;34m\u001b[0m\u001b[0m\n\u001b[1;32m     14\u001b[0m \u001b[0max2\u001b[0m \u001b[0;34m=\u001b[0m \u001b[0mKNNFigure\u001b[0m\u001b[0;34m.\u001b[0m\u001b[0madd_subplot\u001b[0m\u001b[0;34m(\u001b[0m\u001b[0;36m1\u001b[0m\u001b[0;34m,\u001b[0m\u001b[0;36m2\u001b[0m\u001b[0;34m,\u001b[0m\u001b[0;36m2\u001b[0m\u001b[0;34m)\u001b[0m\u001b[0;34m\u001b[0m\u001b[0m\n\u001b[0;32m---> 15\u001b[0;31m \u001b[0mplt\u001b[0m\u001b[0;34m.\u001b[0m\u001b[0mscatter\u001b[0m\u001b[0;34m(\u001b[0m\u001b[0mtitanicTrainingAge\u001b[0m\u001b[0;34m,\u001b[0m \u001b[0mtitanicTrainingPclass\u001b[0m\u001b[0;34m,\u001b[0m \u001b[0mc\u001b[0m\u001b[0;34m=\u001b[0m\u001b[0mtitanicTrainingSurvived\u001b[0m\u001b[0;34m,\u001b[0m \u001b[0ms\u001b[0m\u001b[0;34m=\u001b[0m\u001b[0;36m50\u001b[0m\u001b[0;34m,\u001b[0m \u001b[0mcmap\u001b[0m\u001b[0;34m=\u001b[0m\u001b[0mplt\u001b[0m\u001b[0;34m.\u001b[0m\u001b[0mcm\u001b[0m\u001b[0;34m.\u001b[0m\u001b[0mget_cmap\u001b[0m\u001b[0;34m(\u001b[0m\u001b[0;34m'RdYlBu'\u001b[0m\u001b[0;34m,\u001b[0m\u001b[0;36m2\u001b[0m\u001b[0;34m)\u001b[0m\u001b[0;34m)\u001b[0m\u001b[0;34m\u001b[0m\u001b[0m\n\u001b[0m\u001b[1;32m     16\u001b[0m \u001b[0mplt\u001b[0m\u001b[0;34m.\u001b[0m\u001b[0mcolorbar\u001b[0m\u001b[0;34m(\u001b[0m\u001b[0mticks\u001b[0m\u001b[0;34m=\u001b[0m\u001b[0;34m[\u001b[0m\u001b[0;36m0\u001b[0m\u001b[0;34m,\u001b[0m\u001b[0;36m1\u001b[0m\u001b[0;34m]\u001b[0m\u001b[0;34m,\u001b[0m \u001b[0mformat\u001b[0m\u001b[0;34m=\u001b[0m\u001b[0mformatter\u001b[0m\u001b[0;34m)\u001b[0m\u001b[0;34m\u001b[0m\u001b[0m\n\u001b[1;32m     17\u001b[0m \u001b[0mplt\u001b[0m\u001b[0;34m.\u001b[0m\u001b[0mclim\u001b[0m\u001b[0;34m(\u001b[0m\u001b[0;34m-\u001b[0m\u001b[0;36m0.5\u001b[0m\u001b[0;34m,\u001b[0m \u001b[0;36m2.5\u001b[0m\u001b[0;34m)\u001b[0m\u001b[0;34m\u001b[0m\u001b[0m\n",
      "\u001b[0;32m/Users/Jslice/anaconda/lib/python2.7/site-packages/matplotlib/pyplot.pyc\u001b[0m in \u001b[0;36mscatter\u001b[0;34m(x, y, s, c, marker, cmap, norm, vmin, vmax, alpha, linewidths, verts, hold, **kwargs)\u001b[0m\n\u001b[1;32m   3198\u001b[0m         ret = ax.scatter(x, y, s=s, c=c, marker=marker, cmap=cmap, norm=norm,\n\u001b[1;32m   3199\u001b[0m                          \u001b[0mvmin\u001b[0m\u001b[0;34m=\u001b[0m\u001b[0mvmin\u001b[0m\u001b[0;34m,\u001b[0m \u001b[0mvmax\u001b[0m\u001b[0;34m=\u001b[0m\u001b[0mvmax\u001b[0m\u001b[0;34m,\u001b[0m \u001b[0malpha\u001b[0m\u001b[0;34m=\u001b[0m\u001b[0malpha\u001b[0m\u001b[0;34m,\u001b[0m\u001b[0;34m\u001b[0m\u001b[0m\n\u001b[0;32m-> 3200\u001b[0;31m                          linewidths=linewidths, verts=verts, **kwargs)\n\u001b[0m\u001b[1;32m   3201\u001b[0m         \u001b[0mdraw_if_interactive\u001b[0m\u001b[0;34m(\u001b[0m\u001b[0;34m)\u001b[0m\u001b[0;34m\u001b[0m\u001b[0m\n\u001b[1;32m   3202\u001b[0m     \u001b[0;32mfinally\u001b[0m\u001b[0;34m:\u001b[0m\u001b[0;34m\u001b[0m\u001b[0m\n",
      "\u001b[0;32m/Users/Jslice/anaconda/lib/python2.7/site-packages/matplotlib/axes/_axes.pyc\u001b[0m in \u001b[0;36mscatter\u001b[0;34m(self, x, y, s, c, marker, cmap, norm, vmin, vmax, alpha, linewidths, verts, **kwargs)\u001b[0m\n\u001b[1;32m   3589\u001b[0m         \u001b[0my\u001b[0m \u001b[0;34m=\u001b[0m \u001b[0mnp\u001b[0m\u001b[0;34m.\u001b[0m\u001b[0mma\u001b[0m\u001b[0;34m.\u001b[0m\u001b[0mravel\u001b[0m\u001b[0;34m(\u001b[0m\u001b[0my\u001b[0m\u001b[0;34m)\u001b[0m\u001b[0;34m\u001b[0m\u001b[0m\n\u001b[1;32m   3590\u001b[0m         \u001b[0;32mif\u001b[0m \u001b[0mx\u001b[0m\u001b[0;34m.\u001b[0m\u001b[0msize\u001b[0m \u001b[0;34m!=\u001b[0m \u001b[0my\u001b[0m\u001b[0;34m.\u001b[0m\u001b[0msize\u001b[0m\u001b[0;34m:\u001b[0m\u001b[0;34m\u001b[0m\u001b[0m\n\u001b[0;32m-> 3591\u001b[0;31m             \u001b[0;32mraise\u001b[0m \u001b[0mValueError\u001b[0m\u001b[0;34m(\u001b[0m\u001b[0;34m\"x and y must be the same size\"\u001b[0m\u001b[0;34m)\u001b[0m\u001b[0;34m\u001b[0m\u001b[0m\n\u001b[0m\u001b[1;32m   3592\u001b[0m \u001b[0;34m\u001b[0m\u001b[0m\n\u001b[1;32m   3593\u001b[0m         \u001b[0ms\u001b[0m \u001b[0;34m=\u001b[0m \u001b[0mnp\u001b[0m\u001b[0;34m.\u001b[0m\u001b[0mma\u001b[0m\u001b[0;34m.\u001b[0m\u001b[0mravel\u001b[0m\u001b[0;34m(\u001b[0m\u001b[0ms\u001b[0m\u001b[0;34m)\u001b[0m  \u001b[0;31m# This doesn't have to match x, y in size.\u001b[0m\u001b[0;34m\u001b[0m\u001b[0m\n",
      "\u001b[0;31mValueError\u001b[0m: x and y must be the same size"
     ]
    },
    {
     "data": {
      "image/png": "[encoded data removed]",
      "text/plain": [
       "<matplotlib.figure.Figure at 0x10d11fcd0>"
      ]
     },
     "metadata": {},
     "output_type": "display_data"
    }
   ],
   "source": [
    "KNNFigure = plt.figure(figsize=(16,6))\n",
    "targetNames = ['Died', 'Survived']\n",
    "#formatter will label colorbor with the correct target names\n",
    "formatter = plt.FuncFormatter(lambda i, *args: targetNames[int(i)])\n",
    "titanicTrainingPclass = titanicTrainingBatch.loc[: , 'Pclass']\n",
    "ax1 = KNNFigure.add_subplot(1,2,1)\n",
    "plt.scatter(titanicTrainingAge, titanicTrainingFare, c=titanicTrainingSurvived, s=50, cmap=plt.cm.get_cmap('RdYlBu',2))\n",
    "plt.colorbar(ticks=[0,1], format=formatter)\n",
    "plt.clim(-0.5,2.5)\n",
    "plt.xlabel('Age')\n",
    "plt.ylabel('Fare')\n",
    "plt.title('Age vs Fare')\n",
    "\n",
    "ax2 = KNNFigure.add_subplot(1,2,2)\n",
    "plt.scatter(titanicTrainingAge, titanicTrainingPclass, c=titanicTrainingSurvived, s=50, cmap=plt.cm.get_cmap('RdYlBu',2))\n",
    "plt.colorbar(ticks=[0,1], format=formatter)\n",
    "plt.clim(-0.5, 2.5)\n",
    "plt.xlabel('Age')\n",
    "plt.ylabel('Passenger Class')\n",
    "plt.title('Age vs Passenger Class')\n",
    "\n",
    "plt.show()"
   ]
  },
  {
   "cell_type": "code",
   "execution_count": 29,
   "metadata": {
    "collapsed": false
   },
   "outputs": [
    {
     "name": "stdout",
     "output_type": "stream",
     "text": [
      "titanic training target values:  (149,)\n",
      "titanic training x values: (149, 12)\n"
     ]
    }
   ],
   "source": [
    "numNeighbors = 10\n",
    "titanicKNN = neighbors.KNeighborsClassifier(n_neighbors=numNeighbors)\n",
    "print('titanic training target values: ', titanicTrainingBatchSurvived.shape)\n",
    "print('titanic training x values:', titanicTrainingBatch.shape)"
   ]
  },
  {
   "cell_type": "code",
   "execution_count": 30,
   "metadata": {
    "collapsed": true
   },
   "outputs": [],
   "source": [
    "KNNFormula = 'Survived ~ Age + Fare'\n",
    "titanicTrainingKNNX = titanicTrainingBatch.loc[: , ['Age','Fare']]"
   ]
  },
  {
   "cell_type": "code",
   "execution_count": 31,
   "metadata": {
    "collapsed": false
   },
   "outputs": [
    {
     "data": {
      "text/plain": [
       "KNeighborsClassifier(algorithm='auto', leaf_size=30, metric='minkowski',\n",
       "           metric_params=None, n_neighbors=10, p=2, weights='uniform')"
      ]
     },
     "execution_count": 31,
     "metadata": {},
     "output_type": "execute_result"
    }
   ],
   "source": [
    "titanicKNN.fit(titanicTrainingKNNX, titanicTrainingBatchSurvived)"
   ]
  },
  {
   "cell_type": "code",
   "execution_count": 32,
   "metadata": {
    "collapsed": false
   },
   "outputs": [
    {
     "name": "stdout",
     "output_type": "stream",
     "text": [
      "shape of titanic testing data (64, 2)\n",
      "shape of titanic training data (149, 12)\n"
     ]
    }
   ],
   "source": [
    "titanicTestingBatchKNNX = titanicTestingBatch.loc[: , ['Age','Fare']]\n",
    "titanicTestingKNNX = titanicTestingBatchKNNX.dropna()\n",
    "print('shape of titanic testing data', titanicTestingKNNX.shape)\n",
    "print('shape of titanic training data', titanicTrainingBatch.shape)"
   ]
  },
  {
   "cell_type": "code",
   "execution_count": 33,
   "metadata": {
    "collapsed": false
   },
   "outputs": [],
   "source": [
    "#Prediction Results\n",
    "results['KNN'] = titanicKNN.predict(titanicTestingKNNX)"
   ]
  },
  {
   "cell_type": "markdown",
   "metadata": {},
   "source": [
    "####Binary Logistic Regression\n",
    "Will calculate the survival likelihood cutoff"
   ]
  },
  {
   "cell_type": "code",
   "execution_count": 34,
   "metadata": {
    "collapsed": true
   },
   "outputs": [],
   "source": [
    "#Model formula\n",
    "logitRegFormula = 'Survived ~C(Pclass) + C(Sex) + Age + SibSp + C(Embarked) + Fare'"
   ]
  },
  {
   "cell_type": "code",
   "execution_count": 35,
   "metadata": {
    "collapsed": true
   },
   "outputs": [],
   "source": [
    "#Making our regression friendly dataframes\n",
    "logitX = titanicTrainingBatch.loc[:, ['Age', 'Pclass', 'Fare', 'Parch', 'SibSp','Sex']]\n",
    "logitX = logitX.dropna()\n",
    "logitX['Sex'] = logitX['Sex'].astype('category')\n",
    "logitX = pd.get_dummies(logitX)\n",
    "\n",
    "logitY = titanicTrainingBatch.Survived"
   ]
  },
  {
   "cell_type": "code",
   "execution_count": 36,
   "metadata": {
    "collapsed": true
   },
   "outputs": [],
   "source": [
    "#Alt way to hold data\n",
    "from patsy import dmatrices\n",
    "logitYDF, logitXDF = dmatrices(logitRegFormula, data=titanicTrainingBatch, return_type='dataframe')"
   ]
  },
  {
   "cell_type": "code",
   "execution_count": 37,
   "metadata": {
    "collapsed": false
   },
   "outputs": [
    {
     "name": "stdout",
     "output_type": "stream",
     "text": [
      "Optimization terminated successfully.\n",
      "         Current function value: 0.365665\n",
      "         Iterations 7\n"
     ]
    }
   ],
   "source": [
    "import statsmodels.api as sm\n",
    "#Instantiate our logistic regression model\n",
    "logitModel = sm.Logit(logitYDF, logitXDF)\n",
    "logitResults = logitModel.fit()"
   ]
  },
  {
   "cell_type": "code",
   "execution_count": 38,
   "metadata": {
    "collapsed": false
   },
   "outputs": [
    {
     "data": {
      "text/html": [
       "<table class=\"simpletable\">\n",
       "<caption>Logit Regression Results</caption>\n",
       "<tr>\n",
       "  <th>Dep. Variable:</th>     <td>Survived</td>     <th>  No. Observations:  </th>  <td>   149</td>  \n",
       "</tr>\n",
       "<tr>\n",
       "  <th>Model:</th>               <td>Logit</td>      <th>  Df Residuals:      </th>  <td>   140</td>  \n",
       "</tr>\n",
       "<tr>\n",
       "  <th>Method:</th>               <td>MLE</td>       <th>  Df Model:          </th>  <td>     8</td>  \n",
       "</tr>\n",
       "<tr>\n",
       "  <th>Date:</th>          <td>Tue, 23 Jun 2015</td> <th>  Pseudo R-squ.:     </th>  <td>0.4134</td>  \n",
       "</tr>\n",
       "<tr>\n",
       "  <th>Time:</th>              <td>11:12:54</td>     <th>  Log-Likelihood:    </th> <td> -54.484</td> \n",
       "</tr>\n",
       "<tr>\n",
       "  <th>converged:</th>           <td>True</td>       <th>  LL-Null:           </th> <td> -92.884</td> \n",
       "</tr>\n",
       "<tr>\n",
       "  <th> </th>                      <td> </td>        <th>  LLR p-value:       </th> <td>2.150e-13</td>\n",
       "</tr>\n",
       "</table>\n",
       "<table class=\"simpletable\">\n",
       "<tr>\n",
       "          <td></td>            <th>coef</th>     <th>std err</th>      <th>z</th>      <th>P>|z|</th> <th>[95.0% Conf. Int.]</th> \n",
       "</tr>\n",
       "<tr>\n",
       "  <th>Intercept</th>        <td>    5.3421</td> <td>    1.250</td> <td>    4.274</td> <td> 0.000</td> <td>    2.892     7.792</td>\n",
       "</tr>\n",
       "<tr>\n",
       "  <th>C(Pclass)[T.2]</th>   <td>   -0.2924</td> <td>    1.056</td> <td>   -0.277</td> <td> 0.782</td> <td>   -2.363     1.778</td>\n",
       "</tr>\n",
       "<tr>\n",
       "  <th>C(Pclass)[T.3]</th>   <td>   -2.2693</td> <td>    1.166</td> <td>   -1.946</td> <td> 0.052</td> <td>   -4.555     0.016</td>\n",
       "</tr>\n",
       "<tr>\n",
       "  <th>C(Sex)[T.male]</th>   <td>   -3.4458</td> <td>    0.707</td> <td>   -4.872</td> <td> 0.000</td> <td>   -4.832    -2.059</td>\n",
       "</tr>\n",
       "<tr>\n",
       "  <th>C(Embarked)[T.Q]</th> <td>   -2.5388</td> <td>    2.144</td> <td>   -1.184</td> <td> 0.236</td> <td>   -6.740     1.663</td>\n",
       "</tr>\n",
       "<tr>\n",
       "  <th>C(Embarked)[T.S]</th> <td>   -0.2593</td> <td>    0.542</td> <td>   -0.479</td> <td> 0.632</td> <td>   -1.321     0.803</td>\n",
       "</tr>\n",
       "<tr>\n",
       "  <th>Age</th>              <td>   -0.0592</td> <td>    0.019</td> <td>   -3.130</td> <td> 0.002</td> <td>   -0.096    -0.022</td>\n",
       "</tr>\n",
       "<tr>\n",
       "  <th>SibSp</th>            <td>    0.5658</td> <td>    0.503</td> <td>    1.126</td> <td> 0.260</td> <td>   -0.419     1.551</td>\n",
       "</tr>\n",
       "<tr>\n",
       "  <th>Fare</th>             <td>    0.0039</td> <td>    0.005</td> <td>    0.783</td> <td> 0.434</td> <td>   -0.006     0.014</td>\n",
       "</tr>\n",
       "</table>"
      ],
      "text/plain": [
       "<class 'statsmodels.iolib.summary.Summary'>\n",
       "\"\"\"\n",
       "                           Logit Regression Results                           \n",
       "==============================================================================\n",
       "Dep. Variable:               Survived   No. Observations:                  149\n",
       "Model:                          Logit   Df Residuals:                      140\n",
       "Method:                           MLE   Df Model:                            8\n",
       "Date:                Tue, 23 Jun 2015   Pseudo R-squ.:                  0.4134\n",
       "Time:                        11:12:54   Log-Likelihood:                -54.484\n",
       "converged:                       True   LL-Null:                       -92.884\n",
       "                                        LLR p-value:                 2.150e-13\n",
       "====================================================================================\n",
       "                       coef    std err          z      P>|z|      [95.0% Conf. Int.]\n",
       "------------------------------------------------------------------------------------\n",
       "Intercept            5.3421      1.250      4.274      0.000         2.892     7.792\n",
       "C(Pclass)[T.2]      -0.2924      1.056     -0.277      0.782        -2.363     1.778\n",
       "C(Pclass)[T.3]      -2.2693      1.166     -1.946      0.052        -4.555     0.016\n",
       "C(Sex)[T.male]      -3.4458      0.707     -4.872      0.000        -4.832    -2.059\n",
       "C(Embarked)[T.Q]    -2.5388      2.144     -1.184      0.236        -6.740     1.663\n",
       "C(Embarked)[T.S]    -0.2593      0.542     -0.479      0.632        -1.321     0.803\n",
       "Age                 -0.0592      0.019     -3.130      0.002        -0.096    -0.022\n",
       "SibSp                0.5658      0.503      1.126      0.260        -0.419     1.551\n",
       "Fare                 0.0039      0.005      0.783      0.434        -0.006     0.014\n",
       "====================================================================================\n",
       "\"\"\""
      ]
     },
     "execution_count": 38,
     "metadata": {},
     "output_type": "execute_result"
    }
   ],
   "source": [
    "logitResults.summary()"
   ]
  },
  {
   "cell_type": "code",
   "execution_count": 39,
   "metadata": {
    "collapsed": false
   },
   "outputs": [
    {
     "data": {
      "text/plain": [
       "<matplotlib.text.Text at 0x10d8454d0>"
      ]
     },
     "execution_count": 39,
     "metadata": {},
     "output_type": "execute_result"
    },
    {
     "data": {
      "image/png": "[encoded data removed]",
      "text/plain": [
       "<matplotlib.figure.Figure at 0x10d572490>"
      ]
     },
     "metadata": {},
     "output_type": "display_data"
    }
   ],
   "source": [
    "logitResultsFigure = plt.figure(figsize=(16,4))\n",
    "logitResultsAx = logitResultsFigure.add_subplot(1,2,1,axisbg='#DBDBDB')\n",
    "#generate predictions from logit model\n",
    "survivalPredictions = logitResults.predict(logitXDF)\n",
    "logitResultsAx.plot(logitXDF.index,survivalPredictions, 'bo', logitXDF.index, logitYDF, 'r*', alpha=.25)\n",
    "plt.title('Logistic Regression Predicted Values=Blue \\nActual Values=Red')\n",
    "\n",
    "logitResultsResidualsAx = logitResultsFigure.add_subplot(1,2,2, axisbg='#DBDBDB')\n",
    "logitResultsResidualsAx.plot(logitResults.resid_dev,'r-')\n",
    "logitResultsResidualsAx.set_xlim(0,180)\n",
    "plt.title('Logistic Regression Residuals')"
   ]
  },
  {
   "cell_type": "markdown",
   "metadata": {},
   "source": [
    "Analyze logistic regression model predictions"
   ]
  },
  {
   "cell_type": "code",
   "execution_count": 40,
   "metadata": {
    "collapsed": false
   },
   "outputs": [
    {
     "data": {
      "image/png": "[encoded data removed]",
      "text/plain": [
       "<matplotlib.figure.Figure at 0x10d8b3e50>"
      ]
     },
     "metadata": {},
     "output_type": "display_data"
    }
   ],
   "source": [
    "from statsmodels.nonparametric.kde import KDEUnivariate\n",
    "logitPredictionsFigure = plt.figure(figsize=(16,6))\n",
    "predictionsAlpha = 0.2\n",
    "\n",
    "ax1 = logitPredictionsFigure.add_subplot(2,2,1, axisbg='#DBDBDB')\n",
    "kde = KDEUnivariate(logitResults.predict())\n",
    "kde.fit()\n",
    "ax1.plot(kde.support, kde.density, alpha=predictionsAlpha)\n",
    "ax1.fill_between(kde.support, kde.density, alpha=predictionsAlpha)\n",
    "plt.title('Kernal Density Estimates of Logit Predictions')\n",
    "\n",
    "ax2 = logitPredictionsFigure.add_subplot(2,2,2, axisbg='#DBDBDB')\n",
    "ax2.scatter(y=logitResults.predict(), x=logitXDF['C(Sex)[T.male]'], alpha=predictionsAlpha)\n",
    "plt.grid(b=True, which='major', axis='y')\n",
    "plt.ylabel('Predicted Survival Chance')\n",
    "plt.xlabel('Boolean Gender Value (0=Female)')\n",
    "plt.title('Distribution of Predicted Survival Probability by Gender')\n",
    "\n",
    "ax3 = logitPredictionsFigure.add_subplot(2,2,3, axisbg='#DBDBDB')\n",
    "ax3.scatter(x=logitXDF['Age'],y=logitResults.predict(), alpha=predictionsAlpha)\n",
    "plt.grid(True, linewidth=0.15)\n",
    "plt.ylabel('Predicted Chance of Survival')\n",
    "plt.xlabel('Age')\n",
    "plt.title('Distribution of Predicted Survival Probability by Age')\n",
    "\n",
    "ax4 = logitPredictionsFigure.add_subplot(2,2,4, axisbg='#DBDBDB')\n",
    "ax4.scatter(x=logitXDF['C(Pclass)[T.3]'], y=logitResults.predict(), alpha=predictionsAlpha)\n",
    "plt.grid(True, which='major', axis='y')\n",
    "plt.xlabel('Boolean Passenger Class(1=Third Class)')\n",
    "plt.ylabel('Predicted chance of Survival')\n",
    "plt.title('Distributiomn of Predicted Survival Probability by Passenger Class')\n",
    "\n",
    "logitPredictionsFigure.subplots_adjust(hspace=0.5, wspace=0.2)"
   ]
  },
  {
   "cell_type": "markdown",
   "metadata": {},
   "source": [
    "####SVC for Fare and Age Features"
   ]
  },
  {
   "cell_type": "code",
   "execution_count": 41,
   "metadata": {
    "collapsed": true
   },
   "outputs": [],
   "source": [
    "from sklearn.svm import SVC"
   ]
  },
  {
   "cell_type": "code",
   "execution_count": 42,
   "metadata": {
    "collapsed": true
   },
   "outputs": [],
   "source": [
    "SVMX2 = titanicTrainingBatch.loc[:, ['Age', 'Pclass', 'Fare', 'Parch', 'SibSp','Sex']]\n",
    "SVMX = titanicTrainingBatch.loc[:, ['Age', 'Fare']]\n",
    "SVMY = titanicTrainingBatch.Survived\n",
    "SVMX2['Sex'] = SVMX2['Sex'].astype('category')\n",
    "SVMX2 = pd.get_dummies(SVMX)"
   ]
  },
  {
   "cell_type": "code",
   "execution_count": 43,
   "metadata": {
    "collapsed": false
   },
   "outputs": [
    {
     "data": {
      "text/plain": [
       "SVC(C=1.0, cache_size=200, class_weight=None, coef0=0.0, degree=3, gamma=0.0,\n",
       "  kernel='linear', max_iter=-1, probability=False, random_state=None,\n",
       "  shrinking=True, tol=0.001, verbose=False)"
      ]
     },
     "execution_count": 43,
     "metadata": {},
     "output_type": "execute_result"
    }
   ],
   "source": [
    "linearSVC = SVC(kernel='linear')\n",
    "linearSVC.fit(SVMX, SVMY)"
   ]
  },
  {
   "cell_type": "code",
   "execution_count": 44,
   "metadata": {
    "collapsed": false
   },
   "outputs": [
    {
     "data": {
      "image/png": "[encoded data removed]",
      "text/plain": [
       "<matplotlib.figure.Figure at 0x10e14e810>"
      ]
     },
     "metadata": {},
     "output_type": "display_data"
    }
   ],
   "source": [
    "#Make convenience function to visualize what is happening (will plot SVM decision boundaries)\n",
    "def plot_svc_decision_function(classifier, ax=None):\n",
    "    \"Plot the decision function for a 2D SVC\"\n",
    "    if ax is None:\n",
    "        ax = plt.gca() #get current class instance on current figure matching given keyword args or create one\n",
    "    x = np.linspace(plt.xlim()[0], plt.xlim()[1], 30)\n",
    "    y = np.linspace(plt.ylim()[0], plt.ylim()[1], 30)\n",
    "    Y, X = np.meshgrid(y,x)\n",
    "    P = np.zeros_like(X)\n",
    "    for i, xi in enumerate(x):\n",
    "        for j, yj in enumerate(y):\n",
    "            P[i, j] = classifier.decision_function([xi, yj])\n",
    "    #plot the margins\n",
    "    ax.contour(X, Y, P, colors='k', levels=[-1, 0, 1], alpha=0.5, linestyles=['--','-', '--'] )\n",
    "\n",
    "plt.scatter(SVMX.loc[:, 'Age'], SVMX.loc[:, 'Fare'], c=SVMY, cmap='spring')\n",
    "plot_svc_decision_function(linearSVC)\n",
    "plt.scatter(linearSVC.support_vectors_[:, 0], linearSVC.support_vectors_[:, 1], s=200, facecolors='none')\n",
    "plt.show()"
   ]
  },
  {
   "cell_type": "code",
   "execution_count": 45,
   "metadata": {
    "collapsed": false
   },
   "outputs": [
    {
     "data": {
      "text/html": [
       "<div style=\"max-height:1000px;max-width:1500px;overflow:auto;\">\n",
       "<table border=\"1\" class=\"dataframe\">\n",
       "  <thead>\n",
       "    <tr style=\"text-align: right;\">\n",
       "      <th></th>\n",
       "      <th>Age</th>\n",
       "      <th>Fare</th>\n",
       "    </tr>\n",
       "  </thead>\n",
       "  <tbody>\n",
       "    <tr>\n",
       "      <th>1</th>\n",
       "      <td>38.0</td>\n",
       "      <td>71.2833</td>\n",
       "    </tr>\n",
       "    <tr>\n",
       "      <th>3</th>\n",
       "      <td>35.0</td>\n",
       "      <td>53.1000</td>\n",
       "    </tr>\n",
       "    <tr>\n",
       "      <th>6</th>\n",
       "      <td>54.0</td>\n",
       "      <td>51.8625</td>\n",
       "    </tr>\n",
       "    <tr>\n",
       "      <th>10</th>\n",
       "      <td>4.0</td>\n",
       "      <td>16.7000</td>\n",
       "    </tr>\n",
       "    <tr>\n",
       "      <th>11</th>\n",
       "      <td>58.0</td>\n",
       "      <td>26.5500</td>\n",
       "    </tr>\n",
       "    <tr>\n",
       "      <th>21</th>\n",
       "      <td>34.0</td>\n",
       "      <td>13.0000</td>\n",
       "    </tr>\n",
       "    <tr>\n",
       "      <th>23</th>\n",
       "      <td>28.0</td>\n",
       "      <td>35.5000</td>\n",
       "    </tr>\n",
       "    <tr>\n",
       "      <th>52</th>\n",
       "      <td>49.0</td>\n",
       "      <td>76.7292</td>\n",
       "    </tr>\n",
       "    <tr>\n",
       "      <th>54</th>\n",
       "      <td>65.0</td>\n",
       "      <td>61.9792</td>\n",
       "    </tr>\n",
       "    <tr>\n",
       "      <th>62</th>\n",
       "      <td>45.0</td>\n",
       "      <td>83.4750</td>\n",
       "    </tr>\n",
       "    <tr>\n",
       "      <th>66</th>\n",
       "      <td>29.0</td>\n",
       "      <td>10.5000</td>\n",
       "    </tr>\n",
       "    <tr>\n",
       "      <th>75</th>\n",
       "      <td>25.0</td>\n",
       "      <td>7.6500</td>\n",
       "    </tr>\n",
       "    <tr>\n",
       "      <th>92</th>\n",
       "      <td>46.0</td>\n",
       "      <td>61.1750</td>\n",
       "    </tr>\n",
       "    <tr>\n",
       "      <th>96</th>\n",
       "      <td>71.0</td>\n",
       "      <td>34.6542</td>\n",
       "    </tr>\n",
       "    <tr>\n",
       "      <th>102</th>\n",
       "      <td>21.0</td>\n",
       "      <td>77.2875</td>\n",
       "    </tr>\n",
       "    <tr>\n",
       "      <th>110</th>\n",
       "      <td>47.0</td>\n",
       "      <td>52.0000</td>\n",
       "    </tr>\n",
       "    <tr>\n",
       "      <th>123</th>\n",
       "      <td>32.5</td>\n",
       "      <td>13.0000</td>\n",
       "    </tr>\n",
       "    <tr>\n",
       "      <th>124</th>\n",
       "      <td>54.0</td>\n",
       "      <td>77.2875</td>\n",
       "    </tr>\n",
       "    <tr>\n",
       "      <th>136</th>\n",
       "      <td>19.0</td>\n",
       "      <td>26.2833</td>\n",
       "    </tr>\n",
       "    <tr>\n",
       "      <th>139</th>\n",
       "      <td>24.0</td>\n",
       "      <td>79.2000</td>\n",
       "    </tr>\n",
       "    <tr>\n",
       "      <th>151</th>\n",
       "      <td>22.0</td>\n",
       "      <td>66.6000</td>\n",
       "    </tr>\n",
       "    <tr>\n",
       "      <th>170</th>\n",
       "      <td>61.0</td>\n",
       "      <td>33.5000</td>\n",
       "    </tr>\n",
       "    <tr>\n",
       "      <th>174</th>\n",
       "      <td>56.0</td>\n",
       "      <td>30.6958</td>\n",
       "    </tr>\n",
       "    <tr>\n",
       "      <th>183</th>\n",
       "      <td>1.0</td>\n",
       "      <td>39.0000</td>\n",
       "    </tr>\n",
       "    <tr>\n",
       "      <th>193</th>\n",
       "      <td>3.0</td>\n",
       "      <td>26.0000</td>\n",
       "    </tr>\n",
       "    <tr>\n",
       "      <th>194</th>\n",
       "      <td>44.0</td>\n",
       "      <td>27.7208</td>\n",
       "    </tr>\n",
       "    <tr>\n",
       "      <th>195</th>\n",
       "      <td>58.0</td>\n",
       "      <td>146.5208</td>\n",
       "    </tr>\n",
       "    <tr>\n",
       "      <th>205</th>\n",
       "      <td>2.0</td>\n",
       "      <td>10.4625</td>\n",
       "    </tr>\n",
       "    <tr>\n",
       "      <th>209</th>\n",
       "      <td>40.0</td>\n",
       "      <td>31.0000</td>\n",
       "    </tr>\n",
       "    <tr>\n",
       "      <th>215</th>\n",
       "      <td>31.0</td>\n",
       "      <td>113.2750</td>\n",
       "    </tr>\n",
       "    <tr>\n",
       "      <th>...</th>\n",
       "      <td>...</td>\n",
       "      <td>...</td>\n",
       "    </tr>\n",
       "    <tr>\n",
       "      <th>712</th>\n",
       "      <td>48.0</td>\n",
       "      <td>52.0000</td>\n",
       "    </tr>\n",
       "    <tr>\n",
       "      <th>715</th>\n",
       "      <td>19.0</td>\n",
       "      <td>7.6500</td>\n",
       "    </tr>\n",
       "    <tr>\n",
       "      <th>716</th>\n",
       "      <td>38.0</td>\n",
       "      <td>227.5250</td>\n",
       "    </tr>\n",
       "    <tr>\n",
       "      <th>724</th>\n",
       "      <td>27.0</td>\n",
       "      <td>53.1000</td>\n",
       "    </tr>\n",
       "    <tr>\n",
       "      <th>730</th>\n",
       "      <td>29.0</td>\n",
       "      <td>211.3375</td>\n",
       "    </tr>\n",
       "    <tr>\n",
       "      <th>741</th>\n",
       "      <td>36.0</td>\n",
       "      <td>78.8500</td>\n",
       "    </tr>\n",
       "    <tr>\n",
       "      <th>742</th>\n",
       "      <td>21.0</td>\n",
       "      <td>262.3750</td>\n",
       "    </tr>\n",
       "    <tr>\n",
       "      <th>745</th>\n",
       "      <td>70.0</td>\n",
       "      <td>71.0000</td>\n",
       "    </tr>\n",
       "    <tr>\n",
       "      <th>751</th>\n",
       "      <td>6.0</td>\n",
       "      <td>12.4750</td>\n",
       "    </tr>\n",
       "    <tr>\n",
       "      <th>759</th>\n",
       "      <td>33.0</td>\n",
       "      <td>86.5000</td>\n",
       "    </tr>\n",
       "    <tr>\n",
       "      <th>763</th>\n",
       "      <td>36.0</td>\n",
       "      <td>120.0000</td>\n",
       "    </tr>\n",
       "    <tr>\n",
       "      <th>765</th>\n",
       "      <td>51.0</td>\n",
       "      <td>77.9583</td>\n",
       "    </tr>\n",
       "    <tr>\n",
       "      <th>772</th>\n",
       "      <td>57.0</td>\n",
       "      <td>10.5000</td>\n",
       "    </tr>\n",
       "    <tr>\n",
       "      <th>779</th>\n",
       "      <td>43.0</td>\n",
       "      <td>211.3375</td>\n",
       "    </tr>\n",
       "    <tr>\n",
       "      <th>781</th>\n",
       "      <td>17.0</td>\n",
       "      <td>57.0000</td>\n",
       "    </tr>\n",
       "    <tr>\n",
       "      <th>782</th>\n",
       "      <td>29.0</td>\n",
       "      <td>30.0000</td>\n",
       "    </tr>\n",
       "    <tr>\n",
       "      <th>789</th>\n",
       "      <td>46.0</td>\n",
       "      <td>79.2000</td>\n",
       "    </tr>\n",
       "    <tr>\n",
       "      <th>796</th>\n",
       "      <td>49.0</td>\n",
       "      <td>25.9292</td>\n",
       "    </tr>\n",
       "    <tr>\n",
       "      <th>802</th>\n",
       "      <td>11.0</td>\n",
       "      <td>120.0000</td>\n",
       "    </tr>\n",
       "    <tr>\n",
       "      <th>806</th>\n",
       "      <td>39.0</td>\n",
       "      <td>0.0000</td>\n",
       "    </tr>\n",
       "    <tr>\n",
       "      <th>809</th>\n",
       "      <td>33.0</td>\n",
       "      <td>53.1000</td>\n",
       "    </tr>\n",
       "    <tr>\n",
       "      <th>820</th>\n",
       "      <td>52.0</td>\n",
       "      <td>93.5000</td>\n",
       "    </tr>\n",
       "    <tr>\n",
       "      <th>823</th>\n",
       "      <td>27.0</td>\n",
       "      <td>12.4750</td>\n",
       "    </tr>\n",
       "    <tr>\n",
       "      <th>835</th>\n",
       "      <td>39.0</td>\n",
       "      <td>83.1583</td>\n",
       "    </tr>\n",
       "    <tr>\n",
       "      <th>853</th>\n",
       "      <td>16.0</td>\n",
       "      <td>39.4000</td>\n",
       "    </tr>\n",
       "    <tr>\n",
       "      <th>862</th>\n",
       "      <td>48.0</td>\n",
       "      <td>25.9292</td>\n",
       "    </tr>\n",
       "    <tr>\n",
       "      <th>871</th>\n",
       "      <td>47.0</td>\n",
       "      <td>52.5542</td>\n",
       "    </tr>\n",
       "    <tr>\n",
       "      <th>872</th>\n",
       "      <td>33.0</td>\n",
       "      <td>5.0000</td>\n",
       "    </tr>\n",
       "    <tr>\n",
       "      <th>879</th>\n",
       "      <td>56.0</td>\n",
       "      <td>83.1583</td>\n",
       "    </tr>\n",
       "    <tr>\n",
       "      <th>889</th>\n",
       "      <td>26.0</td>\n",
       "      <td>30.0000</td>\n",
       "    </tr>\n",
       "  </tbody>\n",
       "</table>\n",
       "<p>149 rows × 2 columns</p>\n",
       "</div>"
      ],
      "text/plain": [
       "      Age      Fare\n",
       "1    38.0   71.2833\n",
       "3    35.0   53.1000\n",
       "6    54.0   51.8625\n",
       "10    4.0   16.7000\n",
       "11   58.0   26.5500\n",
       "21   34.0   13.0000\n",
       "23   28.0   35.5000\n",
       "52   49.0   76.7292\n",
       "54   65.0   61.9792\n",
       "62   45.0   83.4750\n",
       "66   29.0   10.5000\n",
       "75   25.0    7.6500\n",
       "92   46.0   61.1750\n",
       "96   71.0   34.6542\n",
       "102  21.0   77.2875\n",
       "110  47.0   52.0000\n",
       "123  32.5   13.0000\n",
       "124  54.0   77.2875\n",
       "136  19.0   26.2833\n",
       "139  24.0   79.2000\n",
       "151  22.0   66.6000\n",
       "170  61.0   33.5000\n",
       "174  56.0   30.6958\n",
       "183   1.0   39.0000\n",
       "193   3.0   26.0000\n",
       "194  44.0   27.7208\n",
       "195  58.0  146.5208\n",
       "205   2.0   10.4625\n",
       "209  40.0   31.0000\n",
       "215  31.0  113.2750\n",
       "..    ...       ...\n",
       "712  48.0   52.0000\n",
       "715  19.0    7.6500\n",
       "716  38.0  227.5250\n",
       "724  27.0   53.1000\n",
       "730  29.0  211.3375\n",
       "741  36.0   78.8500\n",
       "742  21.0  262.3750\n",
       "745  70.0   71.0000\n",
       "751   6.0   12.4750\n",
       "759  33.0   86.5000\n",
       "763  36.0  120.0000\n",
       "765  51.0   77.9583\n",
       "772  57.0   10.5000\n",
       "779  43.0  211.3375\n",
       "781  17.0   57.0000\n",
       "782  29.0   30.0000\n",
       "789  46.0   79.2000\n",
       "796  49.0   25.9292\n",
       "802  11.0  120.0000\n",
       "806  39.0    0.0000\n",
       "809  33.0   53.1000\n",
       "820  52.0   93.5000\n",
       "823  27.0   12.4750\n",
       "835  39.0   83.1583\n",
       "853  16.0   39.4000\n",
       "862  48.0   25.9292\n",
       "871  47.0   52.5542\n",
       "872  33.0    5.0000\n",
       "879  56.0   83.1583\n",
       "889  26.0   30.0000\n",
       "\n",
       "[149 rows x 2 columns]"
      ]
     },
     "execution_count": 45,
     "metadata": {},
     "output_type": "execute_result"
    }
   ],
   "source": [
    "SVMX"
   ]
  },
  {
   "cell_type": "markdown",
   "metadata": {},
   "source": [
    "####Random Forest"
   ]
  },
  {
   "cell_type": "code",
   "execution_count": 46,
   "metadata": {
    "collapsed": false
   },
   "outputs": [],
   "source": [
    "#Import ensemble library from sklean\n",
    "import sklearn.ensemble as ske\n",
    "\n",
    "#make random forst model and fit model to the training data\n",
    "randomForestFormula = 'Survived ~ C(Pclass) + C(Sex) + Age + SibSp + Parch + C(Embarked)'\n",
    "\n",
    "randomForestY, randomForestX = dmatrices(randomForestFormula, data=titanicTrainingBatch, return_type='dataframe')"
   ]
  },
  {
   "cell_type": "code",
   "execution_count": 47,
   "metadata": {
    "collapsed": false
   },
   "outputs": [
    {
     "data": {
      "text/html": [
       "<div style=\"max-height:1000px;max-width:1500px;overflow:auto;\">\n",
       "<table border=\"1\" class=\"dataframe\">\n",
       "  <thead>\n",
       "    <tr style=\"text-align: right;\">\n",
       "      <th></th>\n",
       "      <th>Intercept</th>\n",
       "      <th>C(Pclass)[T.2]</th>\n",
       "      <th>C(Pclass)[T.3]</th>\n",
       "      <th>C(Sex)[T.male]</th>\n",
       "      <th>C(Embarked)[T.Q]</th>\n",
       "      <th>C(Embarked)[T.S]</th>\n",
       "      <th>Age</th>\n",
       "      <th>SibSp</th>\n",
       "      <th>Parch</th>\n",
       "    </tr>\n",
       "  </thead>\n",
       "  <tbody>\n",
       "    <tr>\n",
       "      <th>count</th>\n",
       "      <td>149</td>\n",
       "      <td>149.000000</td>\n",
       "      <td>149.000000</td>\n",
       "      <td>149.000000</td>\n",
       "      <td>149.000000</td>\n",
       "      <td>149.000000</td>\n",
       "      <td>149.000000</td>\n",
       "      <td>149.000000</td>\n",
       "      <td>149.000000</td>\n",
       "    </tr>\n",
       "    <tr>\n",
       "      <th>mean</th>\n",
       "      <td>1</td>\n",
       "      <td>0.073826</td>\n",
       "      <td>0.067114</td>\n",
       "      <td>0.523490</td>\n",
       "      <td>0.013423</td>\n",
       "      <td>0.630872</td>\n",
       "      <td>36.012886</td>\n",
       "      <td>0.442953</td>\n",
       "      <td>0.409396</td>\n",
       "    </tr>\n",
       "    <tr>\n",
       "      <th>std</th>\n",
       "      <td>0</td>\n",
       "      <td>0.262369</td>\n",
       "      <td>0.251063</td>\n",
       "      <td>0.501132</td>\n",
       "      <td>0.115465</td>\n",
       "      <td>0.484196</td>\n",
       "      <td>15.738591</td>\n",
       "      <td>0.597094</td>\n",
       "      <td>0.677968</td>\n",
       "    </tr>\n",
       "    <tr>\n",
       "      <th>min</th>\n",
       "      <td>1</td>\n",
       "      <td>0.000000</td>\n",
       "      <td>0.000000</td>\n",
       "      <td>0.000000</td>\n",
       "      <td>0.000000</td>\n",
       "      <td>0.000000</td>\n",
       "      <td>0.920000</td>\n",
       "      <td>0.000000</td>\n",
       "      <td>0.000000</td>\n",
       "    </tr>\n",
       "    <tr>\n",
       "      <th>25%</th>\n",
       "      <td>1</td>\n",
       "      <td>0.000000</td>\n",
       "      <td>0.000000</td>\n",
       "      <td>0.000000</td>\n",
       "      <td>0.000000</td>\n",
       "      <td>0.000000</td>\n",
       "      <td>24.000000</td>\n",
       "      <td>0.000000</td>\n",
       "      <td>0.000000</td>\n",
       "    </tr>\n",
       "    <tr>\n",
       "      <th>50%</th>\n",
       "      <td>1</td>\n",
       "      <td>0.000000</td>\n",
       "      <td>0.000000</td>\n",
       "      <td>1.000000</td>\n",
       "      <td>0.000000</td>\n",
       "      <td>1.000000</td>\n",
       "      <td>36.000000</td>\n",
       "      <td>0.000000</td>\n",
       "      <td>0.000000</td>\n",
       "    </tr>\n",
       "    <tr>\n",
       "      <th>75%</th>\n",
       "      <td>1</td>\n",
       "      <td>0.000000</td>\n",
       "      <td>0.000000</td>\n",
       "      <td>1.000000</td>\n",
       "      <td>0.000000</td>\n",
       "      <td>1.000000</td>\n",
       "      <td>48.000000</td>\n",
       "      <td>1.000000</td>\n",
       "      <td>1.000000</td>\n",
       "    </tr>\n",
       "    <tr>\n",
       "      <th>max</th>\n",
       "      <td>1</td>\n",
       "      <td>1.000000</td>\n",
       "      <td>1.000000</td>\n",
       "      <td>1.000000</td>\n",
       "      <td>1.000000</td>\n",
       "      <td>1.000000</td>\n",
       "      <td>80.000000</td>\n",
       "      <td>3.000000</td>\n",
       "      <td>2.000000</td>\n",
       "    </tr>\n",
       "  </tbody>\n",
       "</table>\n",
       "</div>"
      ],
      "text/plain": [
       "       Intercept  C(Pclass)[T.2]  C(Pclass)[T.3]  C(Sex)[T.male]  \\\n",
       "count        149      149.000000      149.000000      149.000000   \n",
       "mean           1        0.073826        0.067114        0.523490   \n",
       "std            0        0.262369        0.251063        0.501132   \n",
       "min            1        0.000000        0.000000        0.000000   \n",
       "25%            1        0.000000        0.000000        0.000000   \n",
       "50%            1        0.000000        0.000000        1.000000   \n",
       "75%            1        0.000000        0.000000        1.000000   \n",
       "max            1        1.000000        1.000000        1.000000   \n",
       "\n",
       "       C(Embarked)[T.Q]  C(Embarked)[T.S]         Age       SibSp       Parch  \n",
       "count        149.000000        149.000000  149.000000  149.000000  149.000000  \n",
       "mean           0.013423          0.630872   36.012886    0.442953    0.409396  \n",
       "std            0.115465          0.484196   15.738591    0.597094    0.677968  \n",
       "min            0.000000          0.000000    0.920000    0.000000    0.000000  \n",
       "25%            0.000000          0.000000   24.000000    0.000000    0.000000  \n",
       "50%            0.000000          1.000000   36.000000    0.000000    0.000000  \n",
       "75%            0.000000          1.000000   48.000000    1.000000    1.000000  \n",
       "max            1.000000          1.000000   80.000000    3.000000    2.000000  "
      ]
     },
     "execution_count": 47,
     "metadata": {},
     "output_type": "execute_result"
    }
   ],
   "source": [
    "randomForestX.describe()"
   ]
  },
  {
   "cell_type": "code",
   "execution_count": 48,
   "metadata": {
    "collapsed": false
   },
   "outputs": [
    {
     "name": "stdout",
     "output_type": "stream",
     "text": [
      "shape of randomForestX (149, 9)\n",
      "shape of randomForestY (149, 1)\n"
     ]
    }
   ],
   "source": [
    "print('shape of randomForestX', randomForestX.shape)\n",
    "print('shape of randomForestY', randomForestY.shape)"
   ]
  },
  {
   "cell_type": "code",
   "execution_count": 49,
   "metadata": {
    "collapsed": false
   },
   "outputs": [],
   "source": [
    "rfClassifier = ske.RandomForestClassifier(n_estimators=100)"
   ]
  },
  {
   "cell_type": "code",
   "execution_count": 50,
   "metadata": {
    "collapsed": false
   },
   "outputs": [
    {
     "name": "stderr",
     "output_type": "stream",
     "text": [
      "/Users/Jslice/anaconda/lib/python2.7/site-packages/IPython/kernel/__main__.py:1: DataConversionWarning: A column-vector y was passed when a 1d array was expected. Please change the shape of y to (n_samples,), for example using ravel().\n",
      "  if __name__ == '__main__':\n"
     ]
    }
   ],
   "source": [
    "randomForestResults = rfClassifier.fit(X=randomForestX, y=randomForestY)"
   ]
  },
  {
   "cell_type": "code",
   "execution_count": 51,
   "metadata": {
    "collapsed": false
   },
   "outputs": [],
   "source": [
    "#score results\n",
    "randomForestScore = randomForestResults.score(randomForestX, randomForestY) "
   ]
  },
  {
   "cell_type": "code",
   "execution_count": 52,
   "metadata": {
    "collapsed": false
   },
   "outputs": [],
   "source": [
    "randomForestTestingY, randomForestTestingX = dmatrices(randomForestFormula, data= titanicTestingBatch, return_type='dataframe')\n",
    "\n",
    "results['random forest'] = rfClassifier.predict(randomForestTestingX)"
   ]
  },
  {
   "cell_type": "markdown",
   "metadata": {},
   "source": [
    "##Model Evaluation/Validation"
   ]
  },
  {
   "cell_type": "code",
   "execution_count": 94,
   "metadata": {
    "collapsed": false
   },
   "outputs": [],
   "source": [
    "from sklearn.metrics import confusion_matrix, accuracy_score, roc_curve, roc_auc_score, auc\n",
    "\n",
    "def print_model_information(model_name, formula, shape):\n",
    "    print(model_name, formula,shape)\n",
    "    \n",
    "def model_accuracy(model_name, predictions, actual):\n",
    "    print(model_name, accuracy_score(actual, predictions))\n",
    "    \n",
    "def print_roc_curve(model_name, predictions, actual):\n",
    "    print('ROC Curve for model: ', model_name)\n",
    "    false_positive_rate, true_positive_rate, thresholds = roc_curve(actual, predictions)\n",
    "    roc_auc = auc(false_positive_rate, true_positive_rate)    \n",
    "    print('ROC Area Under Curve Score: ', roc_auc_score(actual, predictions))\n",
    "    plt.title('Receiver Operating Characteristic')\n",
    "    plt.plot(false_positive_rate, true_positive_rate, 'b', label='AUC = %0.2f'% roc_auc)\n",
    "    plt.legend(loc='lower right')\n",
    "    plt.plot([0,1],[0,1],'r--')\n",
    "    plt.xlim([-0.1,1.2])\n",
    "    plt.ylim([-0.1,1.2])\n",
    "    plt.ylabel('True Positive Rate')\n",
    "    plt.xlabel('False Positive Rate')\n",
    "    plt.show()\n",
    "    \n",
    "def print_confusion_matrix(model_name, predictions, actual, title='Confusion Matrix', cmap=plt.cm.Blues):\n",
    "    matrix = confusion_matrix(actual, predictions)\n",
    "    plt.imshow(matrix, interpolation='nearest', cmap=cmap)\n",
    "    plt.title(title)\n",
    "    plt.colorbar()\n",
    "    tick_marks = np.arange(2)\n",
    "    plt.xticks(tick_marks, ['Died', 'Survived'], rotation=45)\n",
    "    plt.yticks(tick_marks, ['Died', 'Survived'])\n",
    "    plt.tight_layout()\n",
    "    plt.ylabel('True label')\n",
    "    plt.xlabel('Predicted label') "
   ]
  },
  {
   "cell_type": "code",
   "execution_count": 60,
   "metadata": {
    "collapsed": false,
    "scrolled": true
   },
   "outputs": [
    {
     "name": "stdout",
     "output_type": "stream",
     "text": [
      "RandomForest Survived ~ C(Pclass) + C(Sex) + Age + SibSp + Parch + C(Embarked) (149, 9)\n",
      "logitistic regression Survived ~C(Pclass) + C(Sex) + Age + SibSp + C(Embarked) + Fare (149, 9)\n",
      "Knearest neighbors Survived ~ Age + Fare (149, 2)\n"
     ]
    }
   ],
   "source": [
    "#Print Model Info\n",
    "print_model_information('RandomForest', randomForestFormula, randomForestX.shape)\n",
    "print_model_information('logitistic regression', logitRegFormula, logitXDF.shape)\n",
    "print_model_information('Knearest neighbors', KNNFormula, titanicTrainingKNNX.shape)"
   ]
  },
  {
   "cell_type": "code",
   "execution_count": 74,
   "metadata": {
    "collapsed": false
   },
   "outputs": [
    {
     "name": "stdout",
     "output_type": "stream",
     "text": [
      "random forest 0.640625\n"
     ]
    }
   ],
   "source": [
    "#Print model accuracies\n",
    "model_accuracy('random forest', randomForestTestingY['Survived'], results['random forest'])"
   ]
  },
  {
   "cell_type": "code",
   "execution_count": 95,
   "metadata": {
    "collapsed": false
   },
   "outputs": [
    {
     "data": {
      "image/png": "[encoded data removed]",
      "text/plain": [
       "<matplotlib.figure.Figure at 0x10e1ac550>"
      ]
     },
     "metadata": {},
     "output_type": "display_data"
    }
   ],
   "source": [
    "#Print Confusion Matrices\n",
    "print_confusion_matrix('random forest', randomForestTestingY['Survived'], results['random forest'], title='Random Forest', cmap=plt.cm.Blues)"
   ]
  },
  {
   "cell_type": "code",
   "execution_count": 79,
   "metadata": {
    "collapsed": false
   },
   "outputs": [
    {
     "name": "stdout",
     "output_type": "stream",
     "text": [
      "ROC Curve for model:  random forest\n",
      "ROC Area Under Curve Score:  0.681336161188\n"
     ]
    },
    {
     "data": {
      "image/png": "[encoded data removed]",
      "text/plain": [
       "<matplotlib.figure.Figure at 0x10e47b8d0>"
      ]
     },
     "metadata": {},
     "output_type": "display_data"
    }
   ],
   "source": [
    "print_roc_curve('random forest', randomForestTestingY, results['random forest'])"
   ]
  },
  {
   "cell_type": "markdown",
   "metadata": {},
   "source": [
    "##Optimization"
   ]
  },
  {
   "cell_type": "markdown",
   "metadata": {},
   "source": [
    "##Visualization of Results"
   ]
  },
  {
   "cell_type": "code",
   "execution_count": 81,
   "metadata": {
    "collapsed": false
   },
   "outputs": [
    {
     "data": {
      "text/html": [
       "<div style=\"max-height:1000px;max-width:1500px;overflow:auto;\">\n",
       "<table border=\"1\" class=\"dataframe\">\n",
       "  <thead>\n",
       "    <tr style=\"text-align: right;\">\n",
       "      <th></th>\n",
       "      <th>Survived</th>\n",
       "    </tr>\n",
       "  </thead>\n",
       "  <tbody>\n",
       "    <tr>\n",
       "      <th>8</th>\n",
       "      <td>1</td>\n",
       "    </tr>\n",
       "    <tr>\n",
       "      <th>18</th>\n",
       "      <td>0</td>\n",
       "    </tr>\n",
       "    <tr>\n",
       "      <th>38</th>\n",
       "      <td>0</td>\n",
       "    </tr>\n",
       "    <tr>\n",
       "      <th>58</th>\n",
       "      <td>1</td>\n",
       "    </tr>\n",
       "    <tr>\n",
       "      <th>68</th>\n",
       "      <td>1</td>\n",
       "    </tr>\n",
       "    <tr>\n",
       "      <th>78</th>\n",
       "      <td>1</td>\n",
       "    </tr>\n",
       "    <tr>\n",
       "      <th>88</th>\n",
       "      <td>1</td>\n",
       "    </tr>\n",
       "    <tr>\n",
       "      <th>98</th>\n",
       "      <td>1</td>\n",
       "    </tr>\n",
       "    <tr>\n",
       "      <th>108</th>\n",
       "      <td>0</td>\n",
       "    </tr>\n",
       "    <tr>\n",
       "      <th>118</th>\n",
       "      <td>0</td>\n",
       "    </tr>\n",
       "    <tr>\n",
       "      <th>138</th>\n",
       "      <td>0</td>\n",
       "    </tr>\n",
       "    <tr>\n",
       "      <th>148</th>\n",
       "      <td>0</td>\n",
       "    </tr>\n",
       "    <tr>\n",
       "      <th>178</th>\n",
       "      <td>0</td>\n",
       "    </tr>\n",
       "    <tr>\n",
       "      <th>188</th>\n",
       "      <td>0</td>\n",
       "    </tr>\n",
       "    <tr>\n",
       "      <th>208</th>\n",
       "      <td>1</td>\n",
       "    </tr>\n",
       "    <tr>\n",
       "      <th>218</th>\n",
       "      <td>1</td>\n",
       "    </tr>\n",
       "    <tr>\n",
       "      <th>228</th>\n",
       "      <td>0</td>\n",
       "    </tr>\n",
       "    <tr>\n",
       "      <th>238</th>\n",
       "      <td>0</td>\n",
       "    </tr>\n",
       "    <tr>\n",
       "      <th>248</th>\n",
       "      <td>1</td>\n",
       "    </tr>\n",
       "    <tr>\n",
       "      <th>258</th>\n",
       "      <td>1</td>\n",
       "    </tr>\n",
       "    <tr>\n",
       "      <th>268</th>\n",
       "      <td>1</td>\n",
       "    </tr>\n",
       "    <tr>\n",
       "      <th>278</th>\n",
       "      <td>0</td>\n",
       "    </tr>\n",
       "    <tr>\n",
       "      <th>288</th>\n",
       "      <td>1</td>\n",
       "    </tr>\n",
       "    <tr>\n",
       "      <th>308</th>\n",
       "      <td>0</td>\n",
       "    </tr>\n",
       "    <tr>\n",
       "      <th>318</th>\n",
       "      <td>1</td>\n",
       "    </tr>\n",
       "    <tr>\n",
       "      <th>328</th>\n",
       "      <td>1</td>\n",
       "    </tr>\n",
       "    <tr>\n",
       "      <th>338</th>\n",
       "      <td>1</td>\n",
       "    </tr>\n",
       "    <tr>\n",
       "      <th>348</th>\n",
       "      <td>1</td>\n",
       "    </tr>\n",
       "    <tr>\n",
       "      <th>378</th>\n",
       "      <td>0</td>\n",
       "    </tr>\n",
       "    <tr>\n",
       "      <th>398</th>\n",
       "      <td>0</td>\n",
       "    </tr>\n",
       "    <tr>\n",
       "      <th>...</th>\n",
       "      <td>...</td>\n",
       "    </tr>\n",
       "    <tr>\n",
       "      <th>458</th>\n",
       "      <td>1</td>\n",
       "    </tr>\n",
       "    <tr>\n",
       "      <th>478</th>\n",
       "      <td>0</td>\n",
       "    </tr>\n",
       "    <tr>\n",
       "      <th>488</th>\n",
       "      <td>0</td>\n",
       "    </tr>\n",
       "    <tr>\n",
       "      <th>498</th>\n",
       "      <td>0</td>\n",
       "    </tr>\n",
       "    <tr>\n",
       "      <th>508</th>\n",
       "      <td>0</td>\n",
       "    </tr>\n",
       "    <tr>\n",
       "      <th>518</th>\n",
       "      <td>1</td>\n",
       "    </tr>\n",
       "    <tr>\n",
       "      <th>528</th>\n",
       "      <td>0</td>\n",
       "    </tr>\n",
       "    <tr>\n",
       "      <th>548</th>\n",
       "      <td>0</td>\n",
       "    </tr>\n",
       "    <tr>\n",
       "      <th>558</th>\n",
       "      <td>1</td>\n",
       "    </tr>\n",
       "    <tr>\n",
       "      <th>588</th>\n",
       "      <td>0</td>\n",
       "    </tr>\n",
       "    <tr>\n",
       "      <th>608</th>\n",
       "      <td>1</td>\n",
       "    </tr>\n",
       "    <tr>\n",
       "      <th>618</th>\n",
       "      <td>1</td>\n",
       "    </tr>\n",
       "    <tr>\n",
       "      <th>628</th>\n",
       "      <td>0</td>\n",
       "    </tr>\n",
       "    <tr>\n",
       "      <th>638</th>\n",
       "      <td>0</td>\n",
       "    </tr>\n",
       "    <tr>\n",
       "      <th>658</th>\n",
       "      <td>0</td>\n",
       "    </tr>\n",
       "    <tr>\n",
       "      <th>668</th>\n",
       "      <td>0</td>\n",
       "    </tr>\n",
       "    <tr>\n",
       "      <th>678</th>\n",
       "      <td>0</td>\n",
       "    </tr>\n",
       "    <tr>\n",
       "      <th>688</th>\n",
       "      <td>0</td>\n",
       "    </tr>\n",
       "    <tr>\n",
       "      <th>698</th>\n",
       "      <td>0</td>\n",
       "    </tr>\n",
       "    <tr>\n",
       "      <th>708</th>\n",
       "      <td>1</td>\n",
       "    </tr>\n",
       "    <tr>\n",
       "      <th>728</th>\n",
       "      <td>0</td>\n",
       "    </tr>\n",
       "    <tr>\n",
       "      <th>748</th>\n",
       "      <td>0</td>\n",
       "    </tr>\n",
       "    <tr>\n",
       "      <th>758</th>\n",
       "      <td>0</td>\n",
       "    </tr>\n",
       "    <tr>\n",
       "      <th>788</th>\n",
       "      <td>1</td>\n",
       "    </tr>\n",
       "    <tr>\n",
       "      <th>798</th>\n",
       "      <td>0</td>\n",
       "    </tr>\n",
       "    <tr>\n",
       "      <th>808</th>\n",
       "      <td>0</td>\n",
       "    </tr>\n",
       "    <tr>\n",
       "      <th>818</th>\n",
       "      <td>0</td>\n",
       "    </tr>\n",
       "    <tr>\n",
       "      <th>838</th>\n",
       "      <td>1</td>\n",
       "    </tr>\n",
       "    <tr>\n",
       "      <th>848</th>\n",
       "      <td>0</td>\n",
       "    </tr>\n",
       "    <tr>\n",
       "      <th>858</th>\n",
       "      <td>1</td>\n",
       "    </tr>\n",
       "  </tbody>\n",
       "</table>\n",
       "<p>64 rows × 1 columns</p>\n",
       "</div>"
      ],
      "text/plain": [
       "     Survived\n",
       "8           1\n",
       "18          0\n",
       "38          0\n",
       "58          1\n",
       "68          1\n",
       "78          1\n",
       "88          1\n",
       "98          1\n",
       "108         0\n",
       "118         0\n",
       "138         0\n",
       "148         0\n",
       "178         0\n",
       "188         0\n",
       "208         1\n",
       "218         1\n",
       "228         0\n",
       "238         0\n",
       "248         1\n",
       "258         1\n",
       "268         1\n",
       "278         0\n",
       "288         1\n",
       "308         0\n",
       "318         1\n",
       "328         1\n",
       "338         1\n",
       "348         1\n",
       "378         0\n",
       "398         0\n",
       "..        ...\n",
       "458         1\n",
       "478         0\n",
       "488         0\n",
       "498         0\n",
       "508         0\n",
       "518         1\n",
       "528         0\n",
       "548         0\n",
       "558         1\n",
       "588         0\n",
       "608         1\n",
       "618         1\n",
       "628         0\n",
       "638         0\n",
       "658         0\n",
       "668         0\n",
       "678         0\n",
       "688         0\n",
       "698         0\n",
       "708         1\n",
       "728         0\n",
       "748         0\n",
       "758         0\n",
       "788         1\n",
       "798         0\n",
       "808         0\n",
       "818         0\n",
       "838         1\n",
       "848         0\n",
       "858         1\n",
       "\n",
       "[64 rows x 1 columns]"
      ]
     },
     "execution_count": 81,
     "metadata": {},
     "output_type": "execute_result"
    }
   ],
   "source": []
  },
  {
   "cell_type": "code",
   "execution_count": null,
   "metadata": {
    "collapsed": false
   },
   "outputs": [],
   "source": []
  },
  {
   "cell_type": "code",
   "execution_count": null,
   "metadata": {
    "collapsed": true
   },
   "outputs": [],
   "source": []
  }
 ],
 "metadata": {
  "kernelspec": {
   "display_name": "Python 2",
   "language": "python",
   "name": "python2"
  },
  "language_info": {
   "codemirror_mode": {
    "name": "ipython",
    "version": 2
   },
   "file_extension": ".py",
   "mimetype": "text/x-python",
   "name": "python",
   "nbconvert_exporter": "python",
   "pygments_lexer": "ipython2",
   "version": "2.7.10"
  }
 },
 "nbformat": 4,
 "nbformat_minor": 0
}
