{
 "cells": [
  {
   "cell_type": "code",
   "execution_count": 19,
   "metadata": {
    "collapsed": false
   },
   "outputs": [
    {
     "name": "stdout",
     "output_type": "stream",
     "text": [
      "IPython: 3.1.0\n",
      "numpy: 1.9.2\n",
      "scipy: 0.15.1\n",
      "matplotlib: 1.4.3\n",
      "scikit-learn: 0.16.1\n",
      "seaborn 0.5.1\n",
      "pandas 0.16.0\n"
     ]
    }
   ],
   "source": [
    "from __future__ import print_function\n",
    "\n",
    "import IPython\n",
    "print('IPython:', IPython.__version__)\n",
    "\n",
    "import numpy as np\n",
    "print('numpy:', np.__version__)\n",
    "\n",
    "import scipy as sp\n",
    "print('scipy:', sp.__version__)\n",
    "\n",
    "import matplotlib\n",
    "print('matplotlib:', matplotlib.__version__)\n",
    "\n",
    "import matplotlib.pyplot as plt\n",
    "\n",
    "import sklearn\n",
    "print('scikit-learn:', sklearn.__version__)\n",
    "\n",
    "import seaborn\n",
    "print('seaborn', seaborn.__version__)\n",
    "\n",
    "import pandas as pd\n",
    "print('pandas', pd.__version__)"
   ]
  },
  {
   "cell_type": "code",
   "execution_count": 20,
   "metadata": {
    "collapsed": false
   },
   "outputs": [],
   "source": [
    "seaborn.set()"
   ]
  },
  {
   "cell_type": "code",
   "execution_count": 21,
   "metadata": {
    "collapsed": true
   },
   "outputs": [],
   "source": [
    "%matplotlib inline"
   ]
  },
  {
   "cell_type": "markdown",
   "metadata": {},
   "source": [
    "##Data Exploration"
   ]
  },
  {
   "cell_type": "code",
   "execution_count": 22,
   "metadata": {
    "collapsed": true
   },
   "outputs": [],
   "source": [
    "#Get our data\n",
    "titanicData = pd.read_csv('data/train.csv')\n"
   ]
  },
  {
   "cell_type": "code",
   "execution_count": 23,
   "metadata": {
    "collapsed": false
   },
   "outputs": [
    {
     "name": "stdout",
     "output_type": "stream",
     "text": [
      "shape of training DF (891, 12)\n"
     ]
    }
   ],
   "source": [
    "print('shape of training DF', titanicData.shape)"
   ]
  },
  {
   "cell_type": "code",
   "execution_count": 24,
   "metadata": {
    "collapsed": false,
    "scrolled": true
   },
   "outputs": [
    {
     "name": "stdout",
     "output_type": "stream",
     "text": [
      "shape of training batch (713, 12)\n",
      "shape of testing batch (89, 12)\n"
     ]
    }
   ],
   "source": [
    "#Split training data into an 80/20 split\n",
    "titanicTrainingBatch = pd.DataFrame()\n",
    "titanicTestingBatch = pd.DataFrame()\n",
    "\n",
    "trainingMask = titanicData['PassengerId'] % 10 < 8\n",
    "testingMask  = titanicData['PassengerId'] % 10 > 8\n",
    "\n",
    "titanicTrainingBatch = titanicData[trainingMask]\n",
    "titanicTestingBatch  = titanicData[testingMask]\n",
    "\n",
    "print('shape of training batch', titanicTrainingBatch.shape)\n",
    "print('shape of testing batch', titanicTestingBatch.shape)"
   ]
  },
  {
   "cell_type": "code",
   "execution_count": 25,
   "metadata": {
    "collapsed": false
   },
   "outputs": [
    {
     "data": {
      "text/html": [
       "<div style=\"max-height:1000px;max-width:1500px;overflow:auto;\">\n",
       "<table border=\"1\" class=\"dataframe\">\n",
       "  <thead>\n",
       "    <tr style=\"text-align: right;\">\n",
       "      <th></th>\n",
       "      <th>PassengerId</th>\n",
       "      <th>Survived</th>\n",
       "      <th>Pclass</th>\n",
       "      <th>Name</th>\n",
       "      <th>Sex</th>\n",
       "      <th>Age</th>\n",
       "      <th>SibSp</th>\n",
       "      <th>Parch</th>\n",
       "      <th>Ticket</th>\n",
       "      <th>Fare</th>\n",
       "      <th>Cabin</th>\n",
       "      <th>Embarked</th>\n",
       "    </tr>\n",
       "  </thead>\n",
       "  <tbody>\n",
       "    <tr>\n",
       "      <th>0</th>\n",
       "      <td>1</td>\n",
       "      <td>0</td>\n",
       "      <td>3</td>\n",
       "      <td>Braund, Mr. Owen Harris</td>\n",
       "      <td>male</td>\n",
       "      <td>22</td>\n",
       "      <td>1</td>\n",
       "      <td>0</td>\n",
       "      <td>A/5 21171</td>\n",
       "      <td>7.2500</td>\n",
       "      <td>NaN</td>\n",
       "      <td>S</td>\n",
       "    </tr>\n",
       "    <tr>\n",
       "      <th>1</th>\n",
       "      <td>2</td>\n",
       "      <td>1</td>\n",
       "      <td>1</td>\n",
       "      <td>Cumings, Mrs. John Bradley (Florence Briggs Th...</td>\n",
       "      <td>female</td>\n",
       "      <td>38</td>\n",
       "      <td>1</td>\n",
       "      <td>0</td>\n",
       "      <td>PC 17599</td>\n",
       "      <td>71.2833</td>\n",
       "      <td>C85</td>\n",
       "      <td>C</td>\n",
       "    </tr>\n",
       "    <tr>\n",
       "      <th>2</th>\n",
       "      <td>3</td>\n",
       "      <td>1</td>\n",
       "      <td>3</td>\n",
       "      <td>Heikkinen, Miss. Laina</td>\n",
       "      <td>female</td>\n",
       "      <td>26</td>\n",
       "      <td>0</td>\n",
       "      <td>0</td>\n",
       "      <td>STON/O2. 3101282</td>\n",
       "      <td>7.9250</td>\n",
       "      <td>NaN</td>\n",
       "      <td>S</td>\n",
       "    </tr>\n",
       "    <tr>\n",
       "      <th>3</th>\n",
       "      <td>4</td>\n",
       "      <td>1</td>\n",
       "      <td>1</td>\n",
       "      <td>Futrelle, Mrs. Jacques Heath (Lily May Peel)</td>\n",
       "      <td>female</td>\n",
       "      <td>35</td>\n",
       "      <td>1</td>\n",
       "      <td>0</td>\n",
       "      <td>113803</td>\n",
       "      <td>53.1000</td>\n",
       "      <td>C123</td>\n",
       "      <td>S</td>\n",
       "    </tr>\n",
       "    <tr>\n",
       "      <th>4</th>\n",
       "      <td>5</td>\n",
       "      <td>0</td>\n",
       "      <td>3</td>\n",
       "      <td>Allen, Mr. William Henry</td>\n",
       "      <td>male</td>\n",
       "      <td>35</td>\n",
       "      <td>0</td>\n",
       "      <td>0</td>\n",
       "      <td>373450</td>\n",
       "      <td>8.0500</td>\n",
       "      <td>NaN</td>\n",
       "      <td>S</td>\n",
       "    </tr>\n",
       "  </tbody>\n",
       "</table>\n",
       "</div>"
      ],
      "text/plain": [
       "   PassengerId  Survived  Pclass  \\\n",
       "0            1         0       3   \n",
       "1            2         1       1   \n",
       "2            3         1       3   \n",
       "3            4         1       1   \n",
       "4            5         0       3   \n",
       "\n",
       "                                                Name     Sex  Age  SibSp  \\\n",
       "0                            Braund, Mr. Owen Harris    male   22      1   \n",
       "1  Cumings, Mrs. John Bradley (Florence Briggs Th...  female   38      1   \n",
       "2                             Heikkinen, Miss. Laina  female   26      0   \n",
       "3       Futrelle, Mrs. Jacques Heath (Lily May Peel)  female   35      1   \n",
       "4                           Allen, Mr. William Henry    male   35      0   \n",
       "\n",
       "   Parch            Ticket     Fare Cabin Embarked  \n",
       "0      0         A/5 21171   7.2500   NaN        S  \n",
       "1      0          PC 17599  71.2833   C85        C  \n",
       "2      0  STON/O2. 3101282   7.9250   NaN        S  \n",
       "3      0            113803  53.1000  C123        S  \n",
       "4      0            373450   8.0500   NaN        S  "
      ]
     },
     "execution_count": 25,
     "metadata": {},
     "output_type": "execute_result"
    }
   ],
   "source": [
    "titanicTrainingBatch.head()"
   ]
  },
  {
   "cell_type": "code",
   "execution_count": 26,
   "metadata": {
    "collapsed": false
   },
   "outputs": [
    {
     "data": {
      "text/plain": [
       "Index([u'PassengerId', u'Survived', u'Pclass', u'Name', u'Sex', u'Age', u'SibSp', u'Parch', u'Ticket', u'Fare', u'Cabin', u'Embarked'], dtype='object')"
      ]
     },
     "execution_count": 26,
     "metadata": {},
     "output_type": "execute_result"
    }
   ],
   "source": [
    "#make a series holding the columns\n",
    "titanicDataFeatures = titanicTrainingBatch.columns\n",
    "titanicDataFeatures.view()"
   ]
  },
  {
   "cell_type": "code",
   "execution_count": 27,
   "metadata": {
    "collapsed": false
   },
   "outputs": [
    {
     "data": {
      "text/html": [
       "<div style=\"max-height:1000px;max-width:1500px;overflow:auto;\">\n",
       "<table border=\"1\" class=\"dataframe\">\n",
       "  <thead>\n",
       "    <tr style=\"text-align: right;\">\n",
       "      <th></th>\n",
       "      <th>PassengerId</th>\n",
       "      <th>Survived</th>\n",
       "      <th>Pclass</th>\n",
       "      <th>Age</th>\n",
       "      <th>SibSp</th>\n",
       "      <th>Parch</th>\n",
       "      <th>Fare</th>\n",
       "    </tr>\n",
       "  </thead>\n",
       "  <tbody>\n",
       "    <tr>\n",
       "      <th>count</th>\n",
       "      <td>713.000000</td>\n",
       "      <td>713.000000</td>\n",
       "      <td>713.000000</td>\n",
       "      <td>580.000000</td>\n",
       "      <td>713.000000</td>\n",
       "      <td>713.000000</td>\n",
       "      <td>713.000000</td>\n",
       "    </tr>\n",
       "    <tr>\n",
       "      <th>mean</th>\n",
       "      <td>445.375877</td>\n",
       "      <td>0.373072</td>\n",
       "      <td>2.314165</td>\n",
       "      <td>29.966103</td>\n",
       "      <td>0.552595</td>\n",
       "      <td>0.349229</td>\n",
       "      <td>30.228967</td>\n",
       "    </tr>\n",
       "    <tr>\n",
       "      <th>std</th>\n",
       "      <td>257.462104</td>\n",
       "      <td>0.483960</td>\n",
       "      <td>0.837689</td>\n",
       "      <td>14.736764</td>\n",
       "      <td>1.167369</td>\n",
       "      <td>0.743929</td>\n",
       "      <td>41.915033</td>\n",
       "    </tr>\n",
       "    <tr>\n",
       "      <th>min</th>\n",
       "      <td>1.000000</td>\n",
       "      <td>0.000000</td>\n",
       "      <td>1.000000</td>\n",
       "      <td>0.420000</td>\n",
       "      <td>0.000000</td>\n",
       "      <td>0.000000</td>\n",
       "      <td>0.000000</td>\n",
       "    </tr>\n",
       "    <tr>\n",
       "      <th>25%</th>\n",
       "      <td>223.000000</td>\n",
       "      <td>0.000000</td>\n",
       "      <td>2.000000</td>\n",
       "      <td>21.000000</td>\n",
       "      <td>0.000000</td>\n",
       "      <td>0.000000</td>\n",
       "      <td>7.895800</td>\n",
       "    </tr>\n",
       "    <tr>\n",
       "      <th>50%</th>\n",
       "      <td>445.000000</td>\n",
       "      <td>0.000000</td>\n",
       "      <td>3.000000</td>\n",
       "      <td>28.000000</td>\n",
       "      <td>0.000000</td>\n",
       "      <td>0.000000</td>\n",
       "      <td>14.400000</td>\n",
       "    </tr>\n",
       "    <tr>\n",
       "      <th>75%</th>\n",
       "      <td>667.000000</td>\n",
       "      <td>1.000000</td>\n",
       "      <td>3.000000</td>\n",
       "      <td>39.000000</td>\n",
       "      <td>1.000000</td>\n",
       "      <td>0.000000</td>\n",
       "      <td>31.275000</td>\n",
       "    </tr>\n",
       "    <tr>\n",
       "      <th>max</th>\n",
       "      <td>891.000000</td>\n",
       "      <td>1.000000</td>\n",
       "      <td>3.000000</td>\n",
       "      <td>80.000000</td>\n",
       "      <td>8.000000</td>\n",
       "      <td>5.000000</td>\n",
       "      <td>512.329200</td>\n",
       "    </tr>\n",
       "  </tbody>\n",
       "</table>\n",
       "</div>"
      ],
      "text/plain": [
       "       PassengerId    Survived      Pclass         Age       SibSp  \\\n",
       "count   713.000000  713.000000  713.000000  580.000000  713.000000   \n",
       "mean    445.375877    0.373072    2.314165   29.966103    0.552595   \n",
       "std     257.462104    0.483960    0.837689   14.736764    1.167369   \n",
       "min       1.000000    0.000000    1.000000    0.420000    0.000000   \n",
       "25%     223.000000    0.000000    2.000000   21.000000    0.000000   \n",
       "50%     445.000000    0.000000    3.000000   28.000000    0.000000   \n",
       "75%     667.000000    1.000000    3.000000   39.000000    1.000000   \n",
       "max     891.000000    1.000000    3.000000   80.000000    8.000000   \n",
       "\n",
       "            Parch        Fare  \n",
       "count  713.000000  713.000000  \n",
       "mean     0.349229   30.228967  \n",
       "std      0.743929   41.915033  \n",
       "min      0.000000    0.000000  \n",
       "25%      0.000000    7.895800  \n",
       "50%      0.000000   14.400000  \n",
       "75%      0.000000   31.275000  \n",
       "max      5.000000  512.329200  "
      ]
     },
     "execution_count": 27,
     "metadata": {},
     "output_type": "execute_result"
    }
   ],
   "source": [
    "#Basic Statistic Values\n",
    "titanicTrainingBatch.describe()"
   ]
  },
  {
   "cell_type": "code",
   "execution_count": 28,
   "metadata": {
    "collapsed": false
   },
   "outputs": [
    {
     "data": {
      "text/plain": [
       "(-1, 3)"
      ]
     },
     "execution_count": 28,
     "metadata": {},
     "output_type": "execute_result"
    },
    {
     "data": {
      "image/png": "[encoded data removed]",
      "text/plain": [
       "<matplotlib.figure.Figure at 0x10c352a50>"
      ]
     },
     "metadata": {},
     "output_type": "display_data"
    }
   ],
   "source": [
    "#Specify parameters of graphs\n",
    "SurvivalFigure = plt.figure(figsize=(16,6), dpi=1600)\n",
    "alpha_scatterplot = 0.2\n",
    "alpha_barchart = 0.55\n",
    "\n",
    "#Basic survival plot\n",
    "ax1 = plt.subplot2grid((2,3), (0,0))\n",
    "titanicTrainingBatch.loc[ : , 'Survived'].value_counts().plot(kind='bar',alpha=alpha_barchart)\n",
    "ax1.set_xlim(-1,2)\n",
    "plt.title('Distribution of Survival (1=Survived)')\n",
    "\n",
    "#Survival By Age\n",
    "ax2 = plt.subplot2grid((2,3), (0,1))\n",
    "plt.scatter(titanicTrainingBatch.loc[:, 'Survived'],titanicTrainingBatch.loc[:, 'Age'], c=titanicTrainingBatch.loc[:, 'Survived'], cmap='summer', alpha=alpha_scatterplot )\n",
    "plt.grid(b=True, which='major', axis='y')\n",
    "plt.ylabel('age')\n",
    "plt.title('Survival by Age, (Yellow=Survived)')\n",
    "\n",
    "#Passenger Class Distribution\n",
    "ax3 = plt.subplot2grid((2,3), (0,2))\n",
    "titanicTrainingBatch.loc[:, 'Pclass'].value_counts().plot(kind='barh', alpha=alpha_barchart)\n",
    "plt.ylabel('Passenger Class')\n",
    "plt.xlabel('Number of passengers')\n",
    "plt.title('Breakdown of number of passengers per class')\n",
    "\n",
    "#Kernel Density Estimate of Age Distribution within classes\n",
    "ax4 = plt.subplot2grid((2,3), (1,0), colspan=2)\n",
    "for classNum in range(3):\n",
    "    titanicTrainingBatch.loc[:, 'Age'][titanicTrainingBatch.Pclass == classNum+1].plot(kind='kde')\n",
    "plt.xlabel('Age')\n",
    "plt.title('Age Distribution within Classes')\n",
    "plt.legend(('1st class', '2nd class', '3rd class'), loc='best')\n",
    "\n",
    "#Passengers by boarding loc\n",
    "ax5 = plt.subplot2grid((2,3), (1,2))\n",
    "titanicTrainingBatch.loc[: , 'Embarked'].value_counts().plot(kind='bar', alpha=alpha_barchart)\n",
    "plt.title('Number of Passengers per boarding loc')\n",
    "ax5.set_xlim(-1,len(titanicTrainingBatch.Embarked.value_counts()))"
   ]
  },
  {
   "cell_type": "markdown",
   "metadata": {},
   "source": [
    "###Explore Survival/Death"
   ]
  },
  {
   "cell_type": "code",
   "execution_count": 29,
   "metadata": {
    "collapsed": false
   },
   "outputs": [
    {
     "data": {
      "text/plain": [
       "<matplotlib.text.Text at 0x10cd36a10>"
      ]
     },
     "execution_count": 29,
     "metadata": {},
     "output_type": "execute_result"
    },
    {
     "data": {
      "text/plain": [
       "<matplotlib.figure.Figure at 0x10c339d90>"
      ]
     },
     "metadata": {},
     "output_type": "display_data"
    },
    {
     "data": {
      "image/png": "[encoded data removed]",
      "text/plain": [
       "<matplotlib.figure.Figure at 0x10c339dd0>"
      ]
     },
     "metadata": {},
     "output_type": "display_data"
    }
   ],
   "source": [
    "plt.figure(figsize=(16,6))\n",
    "fig, ax = plt.subplots()\n",
    "titanicTrainingBatch.loc[:, 'Survived'].value_counts().plot(kind='bar', alpha=alpha_barchart)\n",
    "plt.xlabel('number of people')\n",
    "plt.title('Survival Breakdown 1=survived 0=died')"
   ]
  },
  {
   "cell_type": "markdown",
   "metadata": {},
   "source": [
    "####Survival Breakdown by Gender"
   ]
  },
  {
   "cell_type": "code",
   "execution_count": 30,
   "metadata": {
    "collapsed": false
   },
   "outputs": [
    {
     "data": {
      "text/plain": [
       "<matplotlib.text.Text at 0x10d1854d0>"
      ]
     },
     "execution_count": 30,
     "metadata": {},
     "output_type": "execute_result"
    },
    {
     "data": {
      "image/png": "[encoded data removed]",
      "text/plain": [
       "<matplotlib.figure.Figure at 0x10ca33dd0>"
      ]
     },
     "metadata": {},
     "output_type": "display_data"
    }
   ],
   "source": [
    "genderFigure = plt.figure(figsize=(16,4))\n",
    "\n",
    "maleAxes = genderFigure.add_subplot(1,2,1)\n",
    "maleMask = titanicTrainingBatch.Sex == 'male'\n",
    "maleSurvivalCounts = titanicTrainingBatch.Survived[maleMask].value_counts()\n",
    "maleSurvivalCounts.plot(kind='bar', alpha=alpha_barchart)\n",
    "plt.xlabel('Survived/Died')\n",
    "plt.ylabel('Number of people')\n",
    "plt.title('Breakdown of male survival (1=survived)')\n",
    "\n",
    "femaleAxes = genderFigure.add_subplot(1,2,2, sharey=maleAxes)\n",
    "femaleMask = titanicTrainingBatch.Sex == 'female'\n",
    "femaleSurvivalCounts = titanicTrainingBatch.Survived[femaleMask].value_counts()\n",
    "femaleSurvivalCounts.sort(0) #so both display same x axis\n",
    "femaleSurvivalCounts.plot(kind='bar', alpha=alpha_barchart, color='pink')\n",
    "plt.xlabel('Survived/Died')\n",
    "plt.ylabel('Number of people')\n",
    "plt.title('Breakdown of female survival (1=survived)')"
   ]
  },
  {
   "cell_type": "code",
   "execution_count": 31,
   "metadata": {
    "collapsed": true
   },
   "outputs": [],
   "source": [
    "#Graph survival in terms of percentages\n",
    "numberOfWomen = len(titanicTrainingBatch[femaleMask])\n",
    "numberOfMen = len(titanicTrainingBatch[maleMask])"
   ]
  },
  {
   "cell_type": "code",
   "execution_count": 32,
   "metadata": {
    "collapsed": false
   },
   "outputs": [
    {
     "data": {
      "text/plain": [
       "<matplotlib.text.Text at 0x10a1134d0>"
      ]
     },
     "execution_count": 32,
     "metadata": {},
     "output_type": "execute_result"
    },
    {
     "data": {
      "image/png": "[encoded data removed]",
      "text/plain": [
       "<matplotlib.figure.Figure at 0x10c348910>"
      ]
     },
     "metadata": {},
     "output_type": "display_data"
    }
   ],
   "source": [
    "genderPercentagesFigure = plt.figure(figsize=(16,6))\n",
    "\n",
    "maleAxes = genderPercentagesFigure.add_subplot(1,2,1)\n",
    "maleSurvivalPercentages = maleSurvivalCounts / numberOfMen\n",
    "maleSurvivalPercentages.plot(kind='bar', alpha=alpha_barchart)\n",
    "plt.ylabel('Percentage')\n",
    "plt.title('Percentage of men who survived 1=survived')\n",
    "\n",
    "femaleAxes = genderPercentagesFigure.add_subplot(1,2,2, sharey=maleAxes)\n",
    "femaleSurvivalPercentages = femaleSurvivalCounts / numberOfWomen\n",
    "femaleSurvivalPercentages.plot(kind='bar', alpha=alpha_barchart, color='pink')\n",
    "plt.ylabel('Perctange')\n",
    "plt.title('Percentage of women who survived 1=survived')\n",
    "\n"
   ]
  },
  {
   "cell_type": "markdown",
   "metadata": {},
   "source": [
    "####Gender Survival Breakdown Into Passenger Class"
   ]
  },
  {
   "cell_type": "code",
   "execution_count": 33,
   "metadata": {
    "collapsed": true
   },
   "outputs": [],
   "source": [
    "#Get the three classes\n",
    "upperClass = titanicTrainingBatch[titanicTrainingBatch.Pclass==1]\n",
    "middleClass = titanicTrainingBatch[titanicTrainingBatch.Pclass==2]\n",
    "lowerClass = titanicTrainingBatch[titanicTrainingBatch.Pclass==3]"
   ]
  },
  {
   "cell_type": "code",
   "execution_count": 34,
   "metadata": {
    "collapsed": false
   },
   "outputs": [
    {
     "data": {
      "text/plain": [
       "<matplotlib.text.Text at 0x10d3ac210>"
      ]
     },
     "execution_count": 34,
     "metadata": {},
     "output_type": "execute_result"
    },
    {
     "data": {
      "image/png": "[encoded data removed]",
      "text/plain": [
       "<matplotlib.figure.Figure at 0x10a407510>"
      ]
     },
     "metadata": {},
     "output_type": "display_data"
    }
   ],
   "source": [
    "#make gender survival classes for all 3 classes\n",
    "classGenderFigure = plt.figure(figsize=(16,10))\n",
    "\n",
    "##Upper Class##\n",
    "upperClassMaleAx = classGenderFigure.add_subplot(3,2,1)\n",
    "upperClassMaleCount = len(upperClass[maleMask])\n",
    "upperClassMPercentages = upperClass.Survived[maleMask].value_counts() / upperClassMaleCount\n",
    "upperClassMPercentages.plot(kind='bar', alpha=alpha_barchart)\n",
    "plt.title('Upper Class Male Survival Rates (1=survived)')\n",
    "\n",
    "\n",
    "upperClassFemaleAx = classGenderFigure.add_subplot(3,2,2)\n",
    "upperClassFemaleCount = len(upperClass[femaleMask])\n",
    "upperClassFPercentages = upperClass.Survived[femaleMask].value_counts() / upperClassFemaleCount\n",
    "upperClassFPercentages.sort()\n",
    "upperClassFPercentages.plot(kind='bar', alpha=alpha_barchart, color='pink')\n",
    "plt.title('Upper Class Female Survival Rates (1=survived)')\n",
    "\n",
    "\n",
    "##Middle Class##\n",
    "middleClassMaleAx = classGenderFigure.add_subplot(3,2,3)\n",
    "middleClassMaleCount = len(middleClass[maleMask])\n",
    "middleClassMPercentages = middleClass.Survived[maleMask].value_counts() / middleClassMaleCount\n",
    "middleClassMPercentages.plot(kind='bar', alpha=alpha_barchart)\n",
    "plt.title('Middle Class Male Survival Rates (1=survived)')\n",
    "\n",
    "middleClassFemaleAx = classGenderFigure.add_subplot(3,2,4)\n",
    "middleClassFemaleCount = len(middleClass[femaleMask])\n",
    "middleClassFPercentages = middleClass.Survived[femaleMask].value_counts() / middleClassFemaleCount\n",
    "middleClassFPercentages.sort(0)\n",
    "middleClassFPercentages.plot(kind='bar', alpha=alpha_barchart, color='pink')\n",
    "plt.title('Middle Class Female Survival Rates (1=survived)')\n",
    "\n",
    "##Lower Class##\n",
    "lowerClassMaleAx = classGenderFigure.add_subplot(3,2,5)\n",
    "lowerClassMaleCount = len(lowerClass[maleMask])\n",
    "lowerClassMPercentanges = lowerClass.Survived[maleMask].value_counts() / lowerClassMaleCount\n",
    "lowerClassMPercentanges.plot(kind='bar', alpha=alpha_barchart)\n",
    "plt.title('Lower Class Male Survival Rates (1=survived)')\n",
    "\n",
    "\n",
    "lowerClassFemaleAx = classGenderFigure.add_subplot(3,2,6)\n",
    "lowerClassFemaleCount = len(lowerClass[femaleMask])\n",
    "lowerClassFPercentanges = lowerClass.Survived[femaleMask].value_counts() / lowerClassFemaleCount\n",
    "lowerClassFPercentanges.sort(ascending=False)\n",
    "lowerClassFPercentanges.plot(kind='bar', alpha=alpha_barchart, color='pink')\n",
    "plt.title('Lower Class Female Survival Rates (1=survived)')\n",
    "\n",
    "\n"
   ]
  },
  {
   "cell_type": "markdown",
   "metadata": {},
   "source": [
    "####Higher Dimensional Scatterplot Analysis"
   ]
  },
  {
   "cell_type": "code",
   "execution_count": 53,
   "metadata": {
    "collapsed": false
   },
   "outputs": [],
   "source": [
    "titanicTrainingAge = titanicTrainingBatch.loc[: , 'Age']\n",
    "titanicTrainingFare = titanicTrainingBatch.loc[: ,'Fare']\n",
    "titanicTrainingSurvived = titanicTrainingBatch.loc[:, 'Survived']\n"
   ]
  },
  {
   "cell_type": "code",
   "execution_count": 54,
   "metadata": {
    "collapsed": false
   },
   "outputs": [
    {
     "data": {
      "text/plain": [
       "<matplotlib.text.Text at 0x10e296490>"
      ]
     },
     "execution_count": 54,
     "metadata": {},
     "output_type": "execute_result"
    },
    {
     "data": {
      "image/png": "[encoded data removed]",
      "text/plain": [
       "<matplotlib.figure.Figure at 0x10e32de90>"
      ]
     },
     "metadata": {},
     "output_type": "display_data"
    }
   ],
   "source": [
    "plt.scatter(titanicTrainingAge, titanicTrainingFare, c=titanicTrainingSurvived, s=80, cmap='spring', alpha=0.5)\n",
    "plt.colorbar()\n",
    "plt.xlabel('Age')\n",
    "plt.ylabel('Fare')\n",
    "plt.ylim(0,600)\n",
    "plt.title('Plot of Age vs Fare, Yellow=Survived, Pink = Died')"
   ]
  },
  {
   "cell_type": "markdown",
   "metadata": {},
   "source": [
    "###Identify Families/Traveling Groups and Analyze Survival Rates"
   ]
  },
  {
   "cell_type": "code",
   "execution_count": 37,
   "metadata": {
    "collapsed": true
   },
   "outputs": [],
   "source": [
    "ticketGrouping = titanicTrainingBatch.groupby(titanicTrainingBatch['Ticket'])\n",
    "ticketGroupingSurvivalData = ticketGrouping['Survived'].agg([np.sum, len])\n",
    "ticketGroupingSurvivalData['percentLived'] = ticketGroupingSurvivalData['sum'] / ticketGroupingSurvivalData['len']"
   ]
  },
  {
   "cell_type": "code",
   "execution_count": 38,
   "metadata": {
    "collapsed": false
   },
   "outputs": [
    {
     "data": {
      "text/html": [
       "<div style=\"max-height:1000px;max-width:1500px;overflow:auto;\">\n",
       "<table border=\"1\" class=\"dataframe\">\n",
       "  <thead>\n",
       "    <tr style=\"text-align: right;\">\n",
       "      <th></th>\n",
       "      <th></th>\n",
       "      <th>percentLived</th>\n",
       "      <th>sum</th>\n",
       "    </tr>\n",
       "    <tr>\n",
       "      <th>len</th>\n",
       "      <th></th>\n",
       "      <th></th>\n",
       "      <th></th>\n",
       "    </tr>\n",
       "  </thead>\n",
       "  <tbody>\n",
       "    <tr>\n",
       "      <th rowspan=\"8\" valign=\"top\">1</th>\n",
       "      <th>count</th>\n",
       "      <td>472.000000</td>\n",
       "      <td>472.000000</td>\n",
       "    </tr>\n",
       "    <tr>\n",
       "      <th>mean</th>\n",
       "      <td>0.302966</td>\n",
       "      <td>0.302966</td>\n",
       "    </tr>\n",
       "    <tr>\n",
       "      <th>std</th>\n",
       "      <td>0.460028</td>\n",
       "      <td>0.460028</td>\n",
       "    </tr>\n",
       "    <tr>\n",
       "      <th>min</th>\n",
       "      <td>0.000000</td>\n",
       "      <td>0.000000</td>\n",
       "    </tr>\n",
       "    <tr>\n",
       "      <th>25%</th>\n",
       "      <td>0.000000</td>\n",
       "      <td>0.000000</td>\n",
       "    </tr>\n",
       "    <tr>\n",
       "      <th>50%</th>\n",
       "      <td>0.000000</td>\n",
       "      <td>0.000000</td>\n",
       "    </tr>\n",
       "    <tr>\n",
       "      <th>75%</th>\n",
       "      <td>1.000000</td>\n",
       "      <td>1.000000</td>\n",
       "    </tr>\n",
       "    <tr>\n",
       "      <th>max</th>\n",
       "      <td>1.000000</td>\n",
       "      <td>1.000000</td>\n",
       "    </tr>\n",
       "    <tr>\n",
       "      <th rowspan=\"8\" valign=\"top\">2</th>\n",
       "      <th>count</th>\n",
       "      <td>78.000000</td>\n",
       "      <td>78.000000</td>\n",
       "    </tr>\n",
       "    <tr>\n",
       "      <th>mean</th>\n",
       "      <td>0.596154</td>\n",
       "      <td>1.192308</td>\n",
       "    </tr>\n",
       "    <tr>\n",
       "      <th>std</th>\n",
       "      <td>0.411346</td>\n",
       "      <td>0.822693</td>\n",
       "    </tr>\n",
       "    <tr>\n",
       "      <th>min</th>\n",
       "      <td>0.000000</td>\n",
       "      <td>0.000000</td>\n",
       "    </tr>\n",
       "    <tr>\n",
       "      <th>25%</th>\n",
       "      <td>0.125000</td>\n",
       "      <td>0.250000</td>\n",
       "    </tr>\n",
       "    <tr>\n",
       "      <th>50%</th>\n",
       "      <td>0.500000</td>\n",
       "      <td>1.000000</td>\n",
       "    </tr>\n",
       "    <tr>\n",
       "      <th>75%</th>\n",
       "      <td>1.000000</td>\n",
       "      <td>2.000000</td>\n",
       "    </tr>\n",
       "    <tr>\n",
       "      <th>max</th>\n",
       "      <td>1.000000</td>\n",
       "      <td>2.000000</td>\n",
       "    </tr>\n",
       "    <tr>\n",
       "      <th rowspan=\"8\" valign=\"top\">3</th>\n",
       "      <th>count</th>\n",
       "      <td>11.000000</td>\n",
       "      <td>11.000000</td>\n",
       "    </tr>\n",
       "    <tr>\n",
       "      <th>mean</th>\n",
       "      <td>0.575758</td>\n",
       "      <td>1.727273</td>\n",
       "    </tr>\n",
       "    <tr>\n",
       "      <th>std</th>\n",
       "      <td>0.424026</td>\n",
       "      <td>1.272078</td>\n",
       "    </tr>\n",
       "    <tr>\n",
       "      <th>min</th>\n",
       "      <td>0.000000</td>\n",
       "      <td>0.000000</td>\n",
       "    </tr>\n",
       "    <tr>\n",
       "      <th>25%</th>\n",
       "      <td>0.166667</td>\n",
       "      <td>0.500000</td>\n",
       "    </tr>\n",
       "    <tr>\n",
       "      <th>50%</th>\n",
       "      <td>0.666667</td>\n",
       "      <td>2.000000</td>\n",
       "    </tr>\n",
       "    <tr>\n",
       "      <th>75%</th>\n",
       "      <td>1.000000</td>\n",
       "      <td>3.000000</td>\n",
       "    </tr>\n",
       "    <tr>\n",
       "      <th>max</th>\n",
       "      <td>1.000000</td>\n",
       "      <td>3.000000</td>\n",
       "    </tr>\n",
       "    <tr>\n",
       "      <th rowspan=\"8\" valign=\"top\">4</th>\n",
       "      <th>count</th>\n",
       "      <td>3.000000</td>\n",
       "      <td>3.000000</td>\n",
       "    </tr>\n",
       "    <tr>\n",
       "      <th>mean</th>\n",
       "      <td>0.583333</td>\n",
       "      <td>2.333333</td>\n",
       "    </tr>\n",
       "    <tr>\n",
       "      <th>std</th>\n",
       "      <td>0.520416</td>\n",
       "      <td>2.081666</td>\n",
       "    </tr>\n",
       "    <tr>\n",
       "      <th>min</th>\n",
       "      <td>0.000000</td>\n",
       "      <td>0.000000</td>\n",
       "    </tr>\n",
       "    <tr>\n",
       "      <th>25%</th>\n",
       "      <td>0.375000</td>\n",
       "      <td>1.500000</td>\n",
       "    </tr>\n",
       "    <tr>\n",
       "      <th>50%</th>\n",
       "      <td>0.750000</td>\n",
       "      <td>3.000000</td>\n",
       "    </tr>\n",
       "    <tr>\n",
       "      <th>75%</th>\n",
       "      <td>0.875000</td>\n",
       "      <td>3.500000</td>\n",
       "    </tr>\n",
       "    <tr>\n",
       "      <th>max</th>\n",
       "      <td>1.000000</td>\n",
       "      <td>4.000000</td>\n",
       "    </tr>\n",
       "    <tr>\n",
       "      <th rowspan=\"8\" valign=\"top\">5</th>\n",
       "      <th>count</th>\n",
       "      <td>4.000000</td>\n",
       "      <td>4.000000</td>\n",
       "    </tr>\n",
       "    <tr>\n",
       "      <th>mean</th>\n",
       "      <td>0.000000</td>\n",
       "      <td>0.000000</td>\n",
       "    </tr>\n",
       "    <tr>\n",
       "      <th>std</th>\n",
       "      <td>0.000000</td>\n",
       "      <td>0.000000</td>\n",
       "    </tr>\n",
       "    <tr>\n",
       "      <th>min</th>\n",
       "      <td>0.000000</td>\n",
       "      <td>0.000000</td>\n",
       "    </tr>\n",
       "    <tr>\n",
       "      <th>25%</th>\n",
       "      <td>0.000000</td>\n",
       "      <td>0.000000</td>\n",
       "    </tr>\n",
       "    <tr>\n",
       "      <th>50%</th>\n",
       "      <td>0.000000</td>\n",
       "      <td>0.000000</td>\n",
       "    </tr>\n",
       "    <tr>\n",
       "      <th>75%</th>\n",
       "      <td>0.000000</td>\n",
       "      <td>0.000000</td>\n",
       "    </tr>\n",
       "    <tr>\n",
       "      <th>max</th>\n",
       "      <td>0.000000</td>\n",
       "      <td>0.000000</td>\n",
       "    </tr>\n",
       "    <tr>\n",
       "      <th rowspan=\"8\" valign=\"top\">6</th>\n",
       "      <th>count</th>\n",
       "      <td>1.000000</td>\n",
       "      <td>1.000000</td>\n",
       "    </tr>\n",
       "    <tr>\n",
       "      <th>mean</th>\n",
       "      <td>0.666667</td>\n",
       "      <td>4.000000</td>\n",
       "    </tr>\n",
       "    <tr>\n",
       "      <th>std</th>\n",
       "      <td>NaN</td>\n",
       "      <td>NaN</td>\n",
       "    </tr>\n",
       "    <tr>\n",
       "      <th>min</th>\n",
       "      <td>0.666667</td>\n",
       "      <td>4.000000</td>\n",
       "    </tr>\n",
       "    <tr>\n",
       "      <th>25%</th>\n",
       "      <td>0.666667</td>\n",
       "      <td>4.000000</td>\n",
       "    </tr>\n",
       "    <tr>\n",
       "      <th>50%</th>\n",
       "      <td>0.666667</td>\n",
       "      <td>4.000000</td>\n",
       "    </tr>\n",
       "    <tr>\n",
       "      <th>75%</th>\n",
       "      <td>0.666667</td>\n",
       "      <td>4.000000</td>\n",
       "    </tr>\n",
       "    <tr>\n",
       "      <th>max</th>\n",
       "      <td>0.666667</td>\n",
       "      <td>4.000000</td>\n",
       "    </tr>\n",
       "    <tr>\n",
       "      <th rowspan=\"8\" valign=\"top\">7</th>\n",
       "      <th>count</th>\n",
       "      <td>2.000000</td>\n",
       "      <td>2.000000</td>\n",
       "    </tr>\n",
       "    <tr>\n",
       "      <th>mean</th>\n",
       "      <td>0.000000</td>\n",
       "      <td>0.000000</td>\n",
       "    </tr>\n",
       "    <tr>\n",
       "      <th>std</th>\n",
       "      <td>0.000000</td>\n",
       "      <td>0.000000</td>\n",
       "    </tr>\n",
       "    <tr>\n",
       "      <th>min</th>\n",
       "      <td>0.000000</td>\n",
       "      <td>0.000000</td>\n",
       "    </tr>\n",
       "    <tr>\n",
       "      <th>25%</th>\n",
       "      <td>0.000000</td>\n",
       "      <td>0.000000</td>\n",
       "    </tr>\n",
       "    <tr>\n",
       "      <th>50%</th>\n",
       "      <td>0.000000</td>\n",
       "      <td>0.000000</td>\n",
       "    </tr>\n",
       "    <tr>\n",
       "      <th>75%</th>\n",
       "      <td>0.000000</td>\n",
       "      <td>0.000000</td>\n",
       "    </tr>\n",
       "    <tr>\n",
       "      <th>max</th>\n",
       "      <td>0.000000</td>\n",
       "      <td>0.000000</td>\n",
       "    </tr>\n",
       "  </tbody>\n",
       "</table>\n",
       "</div>"
      ],
      "text/plain": [
       "           percentLived         sum\n",
       "len                                \n",
       "1   count    472.000000  472.000000\n",
       "    mean       0.302966    0.302966\n",
       "    std        0.460028    0.460028\n",
       "    min        0.000000    0.000000\n",
       "    25%        0.000000    0.000000\n",
       "    50%        0.000000    0.000000\n",
       "    75%        1.000000    1.000000\n",
       "    max        1.000000    1.000000\n",
       "2   count     78.000000   78.000000\n",
       "    mean       0.596154    1.192308\n",
       "    std        0.411346    0.822693\n",
       "    min        0.000000    0.000000\n",
       "    25%        0.125000    0.250000\n",
       "    50%        0.500000    1.000000\n",
       "    75%        1.000000    2.000000\n",
       "    max        1.000000    2.000000\n",
       "3   count     11.000000   11.000000\n",
       "    mean       0.575758    1.727273\n",
       "    std        0.424026    1.272078\n",
       "    min        0.000000    0.000000\n",
       "    25%        0.166667    0.500000\n",
       "    50%        0.666667    2.000000\n",
       "    75%        1.000000    3.000000\n",
       "    max        1.000000    3.000000\n",
       "4   count      3.000000    3.000000\n",
       "    mean       0.583333    2.333333\n",
       "    std        0.520416    2.081666\n",
       "    min        0.000000    0.000000\n",
       "    25%        0.375000    1.500000\n",
       "    50%        0.750000    3.000000\n",
       "    75%        0.875000    3.500000\n",
       "    max        1.000000    4.000000\n",
       "5   count      4.000000    4.000000\n",
       "    mean       0.000000    0.000000\n",
       "    std        0.000000    0.000000\n",
       "    min        0.000000    0.000000\n",
       "    25%        0.000000    0.000000\n",
       "    50%        0.000000    0.000000\n",
       "    75%        0.000000    0.000000\n",
       "    max        0.000000    0.000000\n",
       "6   count      1.000000    1.000000\n",
       "    mean       0.666667    4.000000\n",
       "    std             NaN         NaN\n",
       "    min        0.666667    4.000000\n",
       "    25%        0.666667    4.000000\n",
       "    50%        0.666667    4.000000\n",
       "    75%        0.666667    4.000000\n",
       "    max        0.666667    4.000000\n",
       "7   count      2.000000    2.000000\n",
       "    mean       0.000000    0.000000\n",
       "    std        0.000000    0.000000\n",
       "    min        0.000000    0.000000\n",
       "    25%        0.000000    0.000000\n",
       "    50%        0.000000    0.000000\n",
       "    75%        0.000000    0.000000\n",
       "    max        0.000000    0.000000"
      ]
     },
     "execution_count": 38,
     "metadata": {},
     "output_type": "execute_result"
    }
   ],
   "source": [
    "ticketGroupingSurvivalGroupSizes = ticketGroupingSurvivalData.groupby('len')\n",
    "ticketGroupingSurvivalGroupSizes.describe()"
   ]
  },
  {
   "cell_type": "code",
   "execution_count": 39,
   "metadata": {
    "collapsed": true
   },
   "outputs": [],
   "source": [
    "ticketGroupingSurvivalGroupSizesMean = ticketGroupingSurvivalGroupSizes['percentLived'].mean()"
   ]
  },
  {
   "cell_type": "code",
   "execution_count": 40,
   "metadata": {
    "collapsed": false
   },
   "outputs": [
    {
     "data": {
      "text/plain": [
       "<matplotlib.text.Text at 0x10dabca10>"
      ]
     },
     "execution_count": 40,
     "metadata": {},
     "output_type": "execute_result"
    },
    {
     "data": {
      "image/png": "[encoded data removed]",
      "text/plain": [
       "<matplotlib.figure.Figure at 0x10a4070d0>"
      ]
     },
     "metadata": {},
     "output_type": "display_data"
    }
   ],
   "source": [
    "ticketGroupSurvivalFig = plt.figure(figsize=(16,6))\n",
    "ticketGroupSurvivalAx1 = ticketGroupSurvivalFig.add_subplot(1,2,1)\n",
    "ticketGroupingSurvivalGroupSizesMean.plot(kind='bar', alpha=alpha_barchart)\n",
    "plt.title('Average Survival Rate by Group Size')\n",
    "ticketGroupSurvivalAx2 = ticketGroupSurvivalFig.add_subplot(1,2,2)\n",
    "ticketGroupingSurvivalGroupSizes['percentLived'].count().plot( kind='bar', alpha=alpha_barchart)\n",
    "plt.title('Number of Observations by Group Size')"
   ]
  },
  {
   "cell_type": "markdown",
   "metadata": {},
   "source": [
    "The only group sizes we can use are size one and two"
   ]
  },
  {
   "cell_type": "markdown",
   "metadata": {},
   "source": [
    "##Data Cleaning/Munging"
   ]
  },
  {
   "cell_type": "code",
   "execution_count": 41,
   "metadata": {
    "collapsed": false
   },
   "outputs": [
    {
     "data": {
      "text/plain": [
       "PassengerId     0.000000\n",
       "Survived        0.000000\n",
       "Pclass          0.000000\n",
       "Name            0.000000\n",
       "Sex             0.000000\n",
       "Age            18.653576\n",
       "SibSp           0.000000\n",
       "Parch           0.000000\n",
       "Ticket          0.000000\n",
       "Fare            0.000000\n",
       "Cabin          76.718093\n",
       "Embarked        0.280505\n",
       "dtype: float64"
      ]
     },
     "execution_count": 41,
     "metadata": {},
     "output_type": "execute_result"
    }
   ],
   "source": [
    "#Missing Data Amount\n",
    "titanicTrainingBatch.isnull().sum() / len(titanicTrainingBatch) * 100"
   ]
  },
  {
   "cell_type": "code",
   "execution_count": 61,
   "metadata": {
    "collapsed": false
   },
   "outputs": [],
   "source": [
    "#Kill off nan values\n",
    "titanicTrainingBatch = titanicTrainingBatch.dropna()\n",
    "titanicTrainingBatchSurvived = titanicTrainingBatch['Survived']"
   ]
  },
  {
   "cell_type": "code",
   "execution_count": 43,
   "metadata": {
    "collapsed": false
   },
   "outputs": [
    {
     "name": "stdout",
     "output_type": "stream",
     "text": [
      "titanic training data dimensions after killing off na values (149, 12)\n"
     ]
    }
   ],
   "source": [
    "print('titanic training data dimensions after killing off na values', titanicTrainingBatch.shape)"
   ]
  },
  {
   "cell_type": "markdown",
   "metadata": {},
   "source": [
    "##Data Modeling"
   ]
  },
  {
   "cell_type": "code",
   "execution_count": 44,
   "metadata": {
    "collapsed": true
   },
   "outputs": [],
   "source": [
    "#Results dictionary to hold regression results\n",
    "results = {}"
   ]
  },
  {
   "cell_type": "markdown",
   "metadata": {},
   "source": [
    "####K-Nearest-Neighbors"
   ]
  },
  {
   "cell_type": "code",
   "execution_count": 45,
   "metadata": {
    "collapsed": true
   },
   "outputs": [],
   "source": [
    "from sklearn import neighbors"
   ]
  },
  {
   "cell_type": "code",
   "execution_count": 62,
   "metadata": {
    "collapsed": false
   },
   "outputs": [
    {
     "data": {
      "image/png": "[encoded data removed]",
      "text/plain": [
       "<matplotlib.figure.Figure at 0x10e17f9d0>"
      ]
     },
     "metadata": {},
     "output_type": "display_data"
    }
   ],
   "source": [
    "KNNFigure = plt.figure(figsize=(16,6))\n",
    "targetNames = ['Died', 'Survived']\n",
    "#formatter will label colorbor with the correct target names\n",
    "formatter = plt.FuncFormatter(lambda i, *args: targetNames[int(i)])\n",
    "titanicTrainingPclass = titanicTrainingBatch.loc[: , 'Pclass']\n",
    "ax1 = KNNFigure.add_subplot(1,2,1)\n",
    "plt.scatter(titanicTrainingAge, titanicTrainingFare, c=titanicTrainingBatchSurvived, s=50, cmap=plt.cm.get_cmap('RdYlBu',2))\n",
    "plt.colorbar(ticks=[0,1], format=formatter)\n",
    "plt.clim(-0.5,2.5)\n",
    "plt.xlabel('Age')\n",
    "plt.ylabel('Fare')\n",
    "plt.title('Age vs Fare')\n",
    "\n",
    "ax2 = KNNFigure.add_subplot(1,2,2)\n",
    "plt.scatter(titanicTrainingAge, titanicTrainingPclass, c=titanicTrainingBatchSurvived, s=50, cmap=plt.cm.get_cmap('RdYlBu',2))\n",
    "plt.colorbar(ticks=[0,1], format=formatter)\n",
    "plt.clim(-0.5, 2.5)\n",
    "plt.xlabel('Age')\n",
    "plt.ylabel('Passenger Class')\n",
    "plt.title('Age vs Passenger Class')\n",
    "\n",
    "plt.show()"
   ]
  },
  {
   "cell_type": "code",
   "execution_count": 63,
   "metadata": {
    "collapsed": false
   },
   "outputs": [
    {
     "name": "stdout",
     "output_type": "stream",
     "text": [
      "titanic training target values:  (149,)\n",
      "titanic training x values: (149, 12)\n"
     ]
    }
   ],
   "source": [
    "numNeighbors = 10\n",
    "titanicKNN = neighbors.KNeighborsClassifier(n_neighbors=numNeighbors)\n",
    "print('titanic training target values: ', titanicTrainingBatchSurvived.shape)\n",
    "print('titanic training x values:', titanicTrainingBatch.shape)"
   ]
  },
  {
   "cell_type": "code",
   "execution_count": 97,
   "metadata": {
    "collapsed": true
   },
   "outputs": [],
   "source": [
    "KNNFormula = 'Survived ~ Age + Fare'\n",
    "titanicTrainingKNNX = titanicTrainingBatch.loc[: , ['Age','Fare']]"
   ]
  },
  {
   "cell_type": "code",
   "execution_count": 64,
   "metadata": {
    "collapsed": false
   },
   "outputs": [
    {
     "data": {
      "text/plain": [
       "KNeighborsClassifier(algorithm='auto', leaf_size=30, metric='minkowski',\n",
       "           metric_params=None, n_neighbors=10, p=2, weights='uniform')"
      ]
     },
     "execution_count": 64,
     "metadata": {},
     "output_type": "execute_result"
    }
   ],
   "source": [
    "titanicKNN.fit(titanicTrainingKNNX, titanicTrainingBatchSurvived)"
   ]
  },
  {
   "cell_type": "code",
   "execution_count": 68,
   "metadata": {
    "collapsed": false
   },
   "outputs": [
    {
     "name": "stdout",
     "output_type": "stream",
     "text": [
      "shape of titanic testing data (64, 2)\n",
      "shape of titanic training data (149, 12)\n"
     ]
    }
   ],
   "source": [
    "titanicTestingBatchKNNX = titanicTestingBatch.loc[: , ['Age','Fare']]\n",
    "titanicTestingKNNX = titanicTestingBatchKNNX.dropna()\n",
    "print('shape of titanic testing data', titanicTestingKNNX.shape)\n",
    "print('shape of titanic training data', titanicTrainingBatch.shape)"
   ]
  },
  {
   "cell_type": "code",
   "execution_count": 71,
   "metadata": {
    "collapsed": false
   },
   "outputs": [],
   "source": [
    "#Prediction Results\n",
    "results['KNN'] = titanicKNN.predict(titanicTestingKNNX)"
   ]
  },
  {
   "cell_type": "markdown",
   "metadata": {},
   "source": [
    "####Binary Logistic Regression\n",
    "Will calculate the survival likelihood cutoff"
   ]
  },
  {
   "cell_type": "code",
   "execution_count": 72,
   "metadata": {
    "collapsed": true
   },
   "outputs": [],
   "source": [
    "#Model formula\n",
    "logitRegFormula = 'Survived ~C(Pclass) + C(Sex) + Age + SibSp + C(Embarked) + Fare'"
   ]
  },
  {
   "cell_type": "code",
   "execution_count": 73,
   "metadata": {
    "collapsed": true
   },
   "outputs": [],
   "source": [
    "#Making our regression friendly dataframes\n",
    "logitX = titanicTrainingBatch.loc[:, ['Age', 'Pclass', 'Fare', 'Parch', 'SibSp','Sex']]\n",
    "logitX = logitX.dropna()\n",
    "logitX['Sex'] = logitX['Sex'].astype('category')\n",
    "logitX = pd.get_dummies(logitX)\n",
    "\n",
    "logitY = titanicTrainingBatch.Survived"
   ]
  },
  {
   "cell_type": "code",
   "execution_count": 74,
   "metadata": {
    "collapsed": true
   },
   "outputs": [],
   "source": [
    "#Alt way to hold data\n",
    "from patsy import dmatrices\n",
    "logitYDF, logitXDF = dmatrices(logitRegFormula, data=titanicTrainingBatch, return_type='dataframe')"
   ]
  },
  {
   "cell_type": "code",
   "execution_count": 137,
   "metadata": {
    "collapsed": false
   },
   "outputs": [
    {
     "name": "stdout",
     "output_type": "stream",
     "text": [
      "Optimization terminated successfully.\n",
      "         Current function value: 0.365665\n",
      "         Iterations 7\n"
     ]
    }
   ],
   "source": [
    "import statsmodels.api as sm\n",
    "#Instantiate our logistic regression model\n",
    "logitModel = sm.Logit(logitYDF, logitXDF)\n",
    "logitResults = logitModel.fit()"
   ]
  },
  {
   "cell_type": "code",
   "execution_count": 138,
   "metadata": {
    "collapsed": false
   },
   "outputs": [
    {
     "data": {
      "text/html": [
       "<table class=\"simpletable\">\n",
       "<caption>Logit Regression Results</caption>\n",
       "<tr>\n",
       "  <th>Dep. Variable:</th>     <td>Survived</td>     <th>  No. Observations:  </th>  <td>   149</td>  \n",
       "</tr>\n",
       "<tr>\n",
       "  <th>Model:</th>               <td>Logit</td>      <th>  Df Residuals:      </th>  <td>   140</td>  \n",
       "</tr>\n",
       "<tr>\n",
       "  <th>Method:</th>               <td>MLE</td>       <th>  Df Model:          </th>  <td>     8</td>  \n",
       "</tr>\n",
       "<tr>\n",
       "  <th>Date:</th>          <td>Mon, 22 Jun 2015</td> <th>  Pseudo R-squ.:     </th>  <td>0.4134</td>  \n",
       "</tr>\n",
       "<tr>\n",
       "  <th>Time:</th>              <td>17:08:31</td>     <th>  Log-Likelihood:    </th> <td> -54.484</td> \n",
       "</tr>\n",
       "<tr>\n",
       "  <th>converged:</th>           <td>True</td>       <th>  LL-Null:           </th> <td> -92.884</td> \n",
       "</tr>\n",
       "<tr>\n",
       "  <th> </th>                      <td> </td>        <th>  LLR p-value:       </th> <td>2.150e-13</td>\n",
       "</tr>\n",
       "</table>\n",
       "<table class=\"simpletable\">\n",
       "<tr>\n",
       "          <td></td>            <th>coef</th>     <th>std err</th>      <th>z</th>      <th>P>|z|</th> <th>[95.0% Conf. Int.]</th> \n",
       "</tr>\n",
       "<tr>\n",
       "  <th>Intercept</th>        <td>    5.3421</td> <td>    1.250</td> <td>    4.274</td> <td> 0.000</td> <td>    2.892     7.792</td>\n",
       "</tr>\n",
       "<tr>\n",
       "  <th>C(Pclass)[T.2]</th>   <td>   -0.2924</td> <td>    1.056</td> <td>   -0.277</td> <td> 0.782</td> <td>   -2.363     1.778</td>\n",
       "</tr>\n",
       "<tr>\n",
       "  <th>C(Pclass)[T.3]</th>   <td>   -2.2693</td> <td>    1.166</td> <td>   -1.946</td> <td> 0.052</td> <td>   -4.555     0.016</td>\n",
       "</tr>\n",
       "<tr>\n",
       "  <th>C(Sex)[T.male]</th>   <td>   -3.4458</td> <td>    0.707</td> <td>   -4.872</td> <td> 0.000</td> <td>   -4.832    -2.059</td>\n",
       "</tr>\n",
       "<tr>\n",
       "  <th>C(Embarked)[T.Q]</th> <td>   -2.5388</td> <td>    2.144</td> <td>   -1.184</td> <td> 0.236</td> <td>   -6.740     1.663</td>\n",
       "</tr>\n",
       "<tr>\n",
       "  <th>C(Embarked)[T.S]</th> <td>   -0.2593</td> <td>    0.542</td> <td>   -0.479</td> <td> 0.632</td> <td>   -1.321     0.803</td>\n",
       "</tr>\n",
       "<tr>\n",
       "  <th>Age</th>              <td>   -0.0592</td> <td>    0.019</td> <td>   -3.130</td> <td> 0.002</td> <td>   -0.096    -0.022</td>\n",
       "</tr>\n",
       "<tr>\n",
       "  <th>SibSp</th>            <td>    0.5658</td> <td>    0.503</td> <td>    1.126</td> <td> 0.260</td> <td>   -0.419     1.551</td>\n",
       "</tr>\n",
       "<tr>\n",
       "  <th>Fare</th>             <td>    0.0039</td> <td>    0.005</td> <td>    0.783</td> <td> 0.434</td> <td>   -0.006     0.014</td>\n",
       "</tr>\n",
       "</table>"
      ],
      "text/plain": [
       "<class 'statsmodels.iolib.summary.Summary'>\n",
       "\"\"\"\n",
       "                           Logit Regression Results                           \n",
       "==============================================================================\n",
       "Dep. Variable:               Survived   No. Observations:                  149\n",
       "Model:                          Logit   Df Residuals:                      140\n",
       "Method:                           MLE   Df Model:                            8\n",
       "Date:                Mon, 22 Jun 2015   Pseudo R-squ.:                  0.4134\n",
       "Time:                        17:08:31   Log-Likelihood:                -54.484\n",
       "converged:                       True   LL-Null:                       -92.884\n",
       "                                        LLR p-value:                 2.150e-13\n",
       "====================================================================================\n",
       "                       coef    std err          z      P>|z|      [95.0% Conf. Int.]\n",
       "------------------------------------------------------------------------------------\n",
       "Intercept            5.3421      1.250      4.274      0.000         2.892     7.792\n",
       "C(Pclass)[T.2]      -0.2924      1.056     -0.277      0.782        -2.363     1.778\n",
       "C(Pclass)[T.3]      -2.2693      1.166     -1.946      0.052        -4.555     0.016\n",
       "C(Sex)[T.male]      -3.4458      0.707     -4.872      0.000        -4.832    -2.059\n",
       "C(Embarked)[T.Q]    -2.5388      2.144     -1.184      0.236        -6.740     1.663\n",
       "C(Embarked)[T.S]    -0.2593      0.542     -0.479      0.632        -1.321     0.803\n",
       "Age                 -0.0592      0.019     -3.130      0.002        -0.096    -0.022\n",
       "SibSp                0.5658      0.503      1.126      0.260        -0.419     1.551\n",
       "Fare                 0.0039      0.005      0.783      0.434        -0.006     0.014\n",
       "====================================================================================\n",
       "\"\"\""
      ]
     },
     "execution_count": 138,
     "metadata": {},
     "output_type": "execute_result"
    }
   ],
   "source": [
    "logitResults.summary()"
   ]
  },
  {
   "cell_type": "code",
   "execution_count": 139,
   "metadata": {
    "collapsed": false
   },
   "outputs": [
    {
     "data": {
      "text/plain": [
       "<matplotlib.text.Text at 0x1116f8f10>"
      ]
     },
     "execution_count": 139,
     "metadata": {},
     "output_type": "execute_result"
    },
    {
     "data": {
      "image/png": "[encoded data removed]",
      "text/plain": [
       "<matplotlib.figure.Figure at 0x1114eee90>"
      ]
     },
     "metadata": {},
     "output_type": "display_data"
    }
   ],
   "source": [
    "logitResultsFigure = plt.figure(figsize=(16,4))\n",
    "logitResultsAx = logitResultsFigure.add_subplot(1,2,1,axisbg='#DBDBDB')\n",
    "#generate predictions from logit model\n",
    "survivalPredictions = logitResults.predict(logitXDF)\n",
    "logitResultsAx.plot(logitXDF.index,survivalPredictions, 'bo', logitXDF.index, logitYDF, 'r*', alpha=.25)\n",
    "plt.title('Logistic Regression Predicted Values=Blue \\nActual Values=Red')\n",
    "\n",
    "logitResultsResidualsAx = logitResultsFigure.add_subplot(1,2,2, axisbg='#DBDBDB')\n",
    "logitResultsResidualsAx.plot(logitResults.resid_dev,'r-')\n",
    "logitResultsResidualsAx.set_xlim(0,180)\n",
    "plt.title('Logistic Regression Residuals')"
   ]
  },
  {
   "cell_type": "markdown",
   "metadata": {},
   "source": [
    "Analyze logistic regression model predictions"
   ]
  },
  {
   "cell_type": "code",
   "execution_count": 78,
   "metadata": {
    "collapsed": false
   },
   "outputs": [
    {
     "data": {
      "image/png": "[encoded data removed]",
      "text/plain": [
       "<matplotlib.figure.Figure at 0x10f0de690>"
      ]
     },
     "metadata": {},
     "output_type": "display_data"
    }
   ],
   "source": [
    "from statsmodels.nonparametric.kde import KDEUnivariate\n",
    "logitPredictionsFigure = plt.figure(figsize=(16,6))\n",
    "predictionsAlpha = 0.2\n",
    "\n",
    "ax1 = logitPredictionsFigure.add_subplot(2,2,1, axisbg='#DBDBDB')\n",
    "kde = KDEUnivariate(logitResults.predict())\n",
    "kde.fit()\n",
    "ax1.plot(kde.support, kde.density, alpha=predictionsAlpha)\n",
    "ax1.fill_between(kde.support, kde.density, alpha=predictionsAlpha)\n",
    "plt.title('Kernal Density Estimates of Logit Predictions')\n",
    "\n",
    "ax2 = logitPredictionsFigure.add_subplot(2,2,2, axisbg='#DBDBDB')\n",
    "ax2.scatter(y=logitResults.predict(), x=logitXDF['C(Sex)[T.male]'], alpha=predictionsAlpha)\n",
    "plt.grid(b=True, which='major', axis='y')\n",
    "plt.ylabel('Predicted Survival Chance')\n",
    "plt.xlabel('Boolean Gender Value (0=Female)')\n",
    "plt.title('Distribution of Predicted Survival Probability by Gender')\n",
    "\n",
    "ax3 = logitPredictionsFigure.add_subplot(2,2,3, axisbg='#DBDBDB')\n",
    "ax3.scatter(x=logitXDF['Age'],y=logitResults.predict(), alpha=predictionsAlpha)\n",
    "plt.grid(True, linewidth=0.15)\n",
    "plt.ylabel('Predicted Chance of Survival')\n",
    "plt.xlabel('Age')\n",
    "plt.title('Distribution of Predicted Survival Probability by Age')\n",
    "\n",
    "ax4 = logitPredictionsFigure.add_subplot(2,2,4, axisbg='#DBDBDB')\n",
    "ax4.scatter(x=logitXDF['C(Pclass)[T.3]'], y=logitResults.predict(), alpha=predictionsAlpha)\n",
    "plt.grid(True, which='major', axis='y')\n",
    "plt.xlabel('Boolean Passenger Class(1=Third Class)')\n",
    "plt.ylabel('Predicted chance of Survival')\n",
    "plt.title('Distributiomn of Predicted Survival Probability by Passenger Class')\n",
    "\n",
    "logitPredictionsFigure.subplots_adjust(hspace=0.5, wspace=0.2)"
   ]
  },
  {
   "cell_type": "markdown",
   "metadata": {},
   "source": [
    "####SVC for Fare and Age Features"
   ]
  },
  {
   "cell_type": "code",
   "execution_count": 81,
   "metadata": {
    "collapsed": true
   },
   "outputs": [],
   "source": [
    "from sklearn.svm import SVC"
   ]
  },
  {
   "cell_type": "code",
   "execution_count": 82,
   "metadata": {
    "collapsed": true
   },
   "outputs": [],
   "source": [
    "SVMX2 = titanicTrainingBatch.loc[:, ['Age', 'Pclass', 'Fare', 'Parch', 'SibSp','Sex']]\n",
    "SVMX = titanicTrainingBatch.loc[:, ['Age', 'Fare']]\n",
    "SVMY = titanicTrainingBatch.Survived\n",
    "SVMX2['Sex'] = SVMX2['Sex'].astype('category')\n",
    "SVMX2 = pd.get_dummies(SVMX)"
   ]
  },
  {
   "cell_type": "code",
   "execution_count": 83,
   "metadata": {
    "collapsed": false
   },
   "outputs": [
    {
     "data": {
      "text/plain": [
       "SVC(C=1.0, cache_size=200, class_weight=None, coef0=0.0, degree=3, gamma=0.0,\n",
       "  kernel='linear', max_iter=-1, probability=False, random_state=None,\n",
       "  shrinking=True, tol=0.001, verbose=False)"
      ]
     },
     "execution_count": 83,
     "metadata": {},
     "output_type": "execute_result"
    }
   ],
   "source": [
    "linearSVC = SVC(kernel='linear')\n",
    "linearSVC.fit(SVMX, SVMY)"
   ]
  },
  {
   "cell_type": "code",
   "execution_count": 84,
   "metadata": {
    "collapsed": false
   },
   "outputs": [
    {
     "data": {
      "image/png": "[encoded data removed]",
      "text/plain": [
       "<matplotlib.figure.Figure at 0x10f5f0550>"
      ]
     },
     "metadata": {},
     "output_type": "display_data"
    }
   ],
   "source": [
    "#Make convenience function to visualize what is happening (will plot SVM decision boundaries)\n",
    "def plot_svc_decision_function(classifier, ax=None):\n",
    "    \"Plot the decision function for a 2D SVC\"\n",
    "    if ax is None:\n",
    "        ax = plt.gca() #get current class instance on current figure matching given keyword args or create one\n",
    "    x = np.linspace(plt.xlim()[0], plt.xlim()[1], 30)\n",
    "    y = np.linspace(plt.ylim()[0], plt.ylim()[1], 30)\n",
    "    Y, X = np.meshgrid(y,x)\n",
    "    P = np.zeros_like(X)\n",
    "    for i, xi in enumerate(x):\n",
    "        for j, yj in enumerate(y):\n",
    "            P[i, j] = classifier.decision_function([xi, yj])\n",
    "    #plot the margins\n",
    "    ax.contour(X, Y, P, colors='k', levels=[-1, 0, 1], alpha=0.5, linestyles=['--','-', '--'] )\n",
    "\n",
    "plt.scatter(SVMX.loc[:, 'Age'], SVMX.loc[:, 'Fare'], c=SVMY, cmap='spring')\n",
    "plot_svc_decision_function(linearSVC)\n",
    "plt.scatter(linearSVC.support_vectors_[:, 0], linearSVC.support_vectors_[:, 1], s=200, facecolors='none')\n",
    "plt.show()"
   ]
  },
  {
   "cell_type": "code",
   "execution_count": 86,
   "metadata": {
    "collapsed": false
   },
   "outputs": [
    {
     "data": {
      "text/html": [
       "<div style=\"max-height:1000px;max-width:1500px;overflow:auto;\">\n",
       "<table border=\"1\" class=\"dataframe\">\n",
       "  <thead>\n",
       "    <tr style=\"text-align: right;\">\n",
       "      <th></th>\n",
       "      <th>Age</th>\n",
       "      <th>Fare</th>\n",
       "    </tr>\n",
       "  </thead>\n",
       "  <tbody>\n",
       "    <tr>\n",
       "      <th>1</th>\n",
       "      <td>38.0</td>\n",
       "      <td>71.2833</td>\n",
       "    </tr>\n",
       "    <tr>\n",
       "      <th>3</th>\n",
       "      <td>35.0</td>\n",
       "      <td>53.1000</td>\n",
       "    </tr>\n",
       "    <tr>\n",
       "      <th>6</th>\n",
       "      <td>54.0</td>\n",
       "      <td>51.8625</td>\n",
       "    </tr>\n",
       "    <tr>\n",
       "      <th>10</th>\n",
       "      <td>4.0</td>\n",
       "      <td>16.7000</td>\n",
       "    </tr>\n",
       "    <tr>\n",
       "      <th>11</th>\n",
       "      <td>58.0</td>\n",
       "      <td>26.5500</td>\n",
       "    </tr>\n",
       "    <tr>\n",
       "      <th>21</th>\n",
       "      <td>34.0</td>\n",
       "      <td>13.0000</td>\n",
       "    </tr>\n",
       "    <tr>\n",
       "      <th>23</th>\n",
       "      <td>28.0</td>\n",
       "      <td>35.5000</td>\n",
       "    </tr>\n",
       "    <tr>\n",
       "      <th>52</th>\n",
       "      <td>49.0</td>\n",
       "      <td>76.7292</td>\n",
       "    </tr>\n",
       "    <tr>\n",
       "      <th>54</th>\n",
       "      <td>65.0</td>\n",
       "      <td>61.9792</td>\n",
       "    </tr>\n",
       "    <tr>\n",
       "      <th>62</th>\n",
       "      <td>45.0</td>\n",
       "      <td>83.4750</td>\n",
       "    </tr>\n",
       "    <tr>\n",
       "      <th>66</th>\n",
       "      <td>29.0</td>\n",
       "      <td>10.5000</td>\n",
       "    </tr>\n",
       "    <tr>\n",
       "      <th>75</th>\n",
       "      <td>25.0</td>\n",
       "      <td>7.6500</td>\n",
       "    </tr>\n",
       "    <tr>\n",
       "      <th>92</th>\n",
       "      <td>46.0</td>\n",
       "      <td>61.1750</td>\n",
       "    </tr>\n",
       "    <tr>\n",
       "      <th>96</th>\n",
       "      <td>71.0</td>\n",
       "      <td>34.6542</td>\n",
       "    </tr>\n",
       "    <tr>\n",
       "      <th>102</th>\n",
       "      <td>21.0</td>\n",
       "      <td>77.2875</td>\n",
       "    </tr>\n",
       "    <tr>\n",
       "      <th>110</th>\n",
       "      <td>47.0</td>\n",
       "      <td>52.0000</td>\n",
       "    </tr>\n",
       "    <tr>\n",
       "      <th>123</th>\n",
       "      <td>32.5</td>\n",
       "      <td>13.0000</td>\n",
       "    </tr>\n",
       "    <tr>\n",
       "      <th>124</th>\n",
       "      <td>54.0</td>\n",
       "      <td>77.2875</td>\n",
       "    </tr>\n",
       "    <tr>\n",
       "      <th>136</th>\n",
       "      <td>19.0</td>\n",
       "      <td>26.2833</td>\n",
       "    </tr>\n",
       "    <tr>\n",
       "      <th>139</th>\n",
       "      <td>24.0</td>\n",
       "      <td>79.2000</td>\n",
       "    </tr>\n",
       "    <tr>\n",
       "      <th>151</th>\n",
       "      <td>22.0</td>\n",
       "      <td>66.6000</td>\n",
       "    </tr>\n",
       "    <tr>\n",
       "      <th>170</th>\n",
       "      <td>61.0</td>\n",
       "      <td>33.5000</td>\n",
       "    </tr>\n",
       "    <tr>\n",
       "      <th>174</th>\n",
       "      <td>56.0</td>\n",
       "      <td>30.6958</td>\n",
       "    </tr>\n",
       "    <tr>\n",
       "      <th>183</th>\n",
       "      <td>1.0</td>\n",
       "      <td>39.0000</td>\n",
       "    </tr>\n",
       "    <tr>\n",
       "      <th>193</th>\n",
       "      <td>3.0</td>\n",
       "      <td>26.0000</td>\n",
       "    </tr>\n",
       "    <tr>\n",
       "      <th>194</th>\n",
       "      <td>44.0</td>\n",
       "      <td>27.7208</td>\n",
       "    </tr>\n",
       "    <tr>\n",
       "      <th>195</th>\n",
       "      <td>58.0</td>\n",
       "      <td>146.5208</td>\n",
       "    </tr>\n",
       "    <tr>\n",
       "      <th>205</th>\n",
       "      <td>2.0</td>\n",
       "      <td>10.4625</td>\n",
       "    </tr>\n",
       "    <tr>\n",
       "      <th>209</th>\n",
       "      <td>40.0</td>\n",
       "      <td>31.0000</td>\n",
       "    </tr>\n",
       "    <tr>\n",
       "      <th>215</th>\n",
       "      <td>31.0</td>\n",
       "      <td>113.2750</td>\n",
       "    </tr>\n",
       "    <tr>\n",
       "      <th>...</th>\n",
       "      <td>...</td>\n",
       "      <td>...</td>\n",
       "    </tr>\n",
       "    <tr>\n",
       "      <th>712</th>\n",
       "      <td>48.0</td>\n",
       "      <td>52.0000</td>\n",
       "    </tr>\n",
       "    <tr>\n",
       "      <th>715</th>\n",
       "      <td>19.0</td>\n",
       "      <td>7.6500</td>\n",
       "    </tr>\n",
       "    <tr>\n",
       "      <th>716</th>\n",
       "      <td>38.0</td>\n",
       "      <td>227.5250</td>\n",
       "    </tr>\n",
       "    <tr>\n",
       "      <th>724</th>\n",
       "      <td>27.0</td>\n",
       "      <td>53.1000</td>\n",
       "    </tr>\n",
       "    <tr>\n",
       "      <th>730</th>\n",
       "      <td>29.0</td>\n",
       "      <td>211.3375</td>\n",
       "    </tr>\n",
       "    <tr>\n",
       "      <th>741</th>\n",
       "      <td>36.0</td>\n",
       "      <td>78.8500</td>\n",
       "    </tr>\n",
       "    <tr>\n",
       "      <th>742</th>\n",
       "      <td>21.0</td>\n",
       "      <td>262.3750</td>\n",
       "    </tr>\n",
       "    <tr>\n",
       "      <th>745</th>\n",
       "      <td>70.0</td>\n",
       "      <td>71.0000</td>\n",
       "    </tr>\n",
       "    <tr>\n",
       "      <th>751</th>\n",
       "      <td>6.0</td>\n",
       "      <td>12.4750</td>\n",
       "    </tr>\n",
       "    <tr>\n",
       "      <th>759</th>\n",
       "      <td>33.0</td>\n",
       "      <td>86.5000</td>\n",
       "    </tr>\n",
       "    <tr>\n",
       "      <th>763</th>\n",
       "      <td>36.0</td>\n",
       "      <td>120.0000</td>\n",
       "    </tr>\n",
       "    <tr>\n",
       "      <th>765</th>\n",
       "      <td>51.0</td>\n",
       "      <td>77.9583</td>\n",
       "    </tr>\n",
       "    <tr>\n",
       "      <th>772</th>\n",
       "      <td>57.0</td>\n",
       "      <td>10.5000</td>\n",
       "    </tr>\n",
       "    <tr>\n",
       "      <th>779</th>\n",
       "      <td>43.0</td>\n",
       "      <td>211.3375</td>\n",
       "    </tr>\n",
       "    <tr>\n",
       "      <th>781</th>\n",
       "      <td>17.0</td>\n",
       "      <td>57.0000</td>\n",
       "    </tr>\n",
       "    <tr>\n",
       "      <th>782</th>\n",
       "      <td>29.0</td>\n",
       "      <td>30.0000</td>\n",
       "    </tr>\n",
       "    <tr>\n",
       "      <th>789</th>\n",
       "      <td>46.0</td>\n",
       "      <td>79.2000</td>\n",
       "    </tr>\n",
       "    <tr>\n",
       "      <th>796</th>\n",
       "      <td>49.0</td>\n",
       "      <td>25.9292</td>\n",
       "    </tr>\n",
       "    <tr>\n",
       "      <th>802</th>\n",
       "      <td>11.0</td>\n",
       "      <td>120.0000</td>\n",
       "    </tr>\n",
       "    <tr>\n",
       "      <th>806</th>\n",
       "      <td>39.0</td>\n",
       "      <td>0.0000</td>\n",
       "    </tr>\n",
       "    <tr>\n",
       "      <th>809</th>\n",
       "      <td>33.0</td>\n",
       "      <td>53.1000</td>\n",
       "    </tr>\n",
       "    <tr>\n",
       "      <th>820</th>\n",
       "      <td>52.0</td>\n",
       "      <td>93.5000</td>\n",
       "    </tr>\n",
       "    <tr>\n",
       "      <th>823</th>\n",
       "      <td>27.0</td>\n",
       "      <td>12.4750</td>\n",
       "    </tr>\n",
       "    <tr>\n",
       "      <th>835</th>\n",
       "      <td>39.0</td>\n",
       "      <td>83.1583</td>\n",
       "    </tr>\n",
       "    <tr>\n",
       "      <th>853</th>\n",
       "      <td>16.0</td>\n",
       "      <td>39.4000</td>\n",
       "    </tr>\n",
       "    <tr>\n",
       "      <th>862</th>\n",
       "      <td>48.0</td>\n",
       "      <td>25.9292</td>\n",
       "    </tr>\n",
       "    <tr>\n",
       "      <th>871</th>\n",
       "      <td>47.0</td>\n",
       "      <td>52.5542</td>\n",
       "    </tr>\n",
       "    <tr>\n",
       "      <th>872</th>\n",
       "      <td>33.0</td>\n",
       "      <td>5.0000</td>\n",
       "    </tr>\n",
       "    <tr>\n",
       "      <th>879</th>\n",
       "      <td>56.0</td>\n",
       "      <td>83.1583</td>\n",
       "    </tr>\n",
       "    <tr>\n",
       "      <th>889</th>\n",
       "      <td>26.0</td>\n",
       "      <td>30.0000</td>\n",
       "    </tr>\n",
       "  </tbody>\n",
       "</table>\n",
       "<p>149 rows × 2 columns</p>\n",
       "</div>"
      ],
      "text/plain": [
       "      Age      Fare\n",
       "1    38.0   71.2833\n",
       "3    35.0   53.1000\n",
       "6    54.0   51.8625\n",
       "10    4.0   16.7000\n",
       "11   58.0   26.5500\n",
       "21   34.0   13.0000\n",
       "23   28.0   35.5000\n",
       "52   49.0   76.7292\n",
       "54   65.0   61.9792\n",
       "62   45.0   83.4750\n",
       "66   29.0   10.5000\n",
       "75   25.0    7.6500\n",
       "92   46.0   61.1750\n",
       "96   71.0   34.6542\n",
       "102  21.0   77.2875\n",
       "110  47.0   52.0000\n",
       "123  32.5   13.0000\n",
       "124  54.0   77.2875\n",
       "136  19.0   26.2833\n",
       "139  24.0   79.2000\n",
       "151  22.0   66.6000\n",
       "170  61.0   33.5000\n",
       "174  56.0   30.6958\n",
       "183   1.0   39.0000\n",
       "193   3.0   26.0000\n",
       "194  44.0   27.7208\n",
       "195  58.0  146.5208\n",
       "205   2.0   10.4625\n",
       "209  40.0   31.0000\n",
       "215  31.0  113.2750\n",
       "..    ...       ...\n",
       "712  48.0   52.0000\n",
       "715  19.0    7.6500\n",
       "716  38.0  227.5250\n",
       "724  27.0   53.1000\n",
       "730  29.0  211.3375\n",
       "741  36.0   78.8500\n",
       "742  21.0  262.3750\n",
       "745  70.0   71.0000\n",
       "751   6.0   12.4750\n",
       "759  33.0   86.5000\n",
       "763  36.0  120.0000\n",
       "765  51.0   77.9583\n",
       "772  57.0   10.5000\n",
       "779  43.0  211.3375\n",
       "781  17.0   57.0000\n",
       "782  29.0   30.0000\n",
       "789  46.0   79.2000\n",
       "796  49.0   25.9292\n",
       "802  11.0  120.0000\n",
       "806  39.0    0.0000\n",
       "809  33.0   53.1000\n",
       "820  52.0   93.5000\n",
       "823  27.0   12.4750\n",
       "835  39.0   83.1583\n",
       "853  16.0   39.4000\n",
       "862  48.0   25.9292\n",
       "871  47.0   52.5542\n",
       "872  33.0    5.0000\n",
       "879  56.0   83.1583\n",
       "889  26.0   30.0000\n",
       "\n",
       "[149 rows x 2 columns]"
      ]
     },
     "execution_count": 86,
     "metadata": {},
     "output_type": "execute_result"
    }
   ],
   "source": [
    "SVMX"
   ]
  },
  {
   "cell_type": "markdown",
   "metadata": {},
   "source": [
    "####Random Forest"
   ]
  },
  {
   "cell_type": "code",
   "execution_count": 87,
   "metadata": {
    "collapsed": false
   },
   "outputs": [],
   "source": [
    "#Import ensemble library from sklean\n",
    "import sklearn.ensemble as ske\n",
    "\n",
    "#make random forst model and fit model to the training data\n",
    "randomForestFormula = 'Survived ~ C(Pclass) + C(Sex) + Age + SibSp + Parch + C(Embarked)'\n",
    "\n",
    "randomForestY, randomForestX = dmatrices(randomForestFormula, data=titanicTrainingBatch, return_type='dataframe')"
   ]
  },
  {
   "cell_type": "code",
   "execution_count": 88,
   "metadata": {
    "collapsed": false
   },
   "outputs": [
    {
     "data": {
      "text/html": [
       "<div style=\"max-height:1000px;max-width:1500px;overflow:auto;\">\n",
       "<table border=\"1\" class=\"dataframe\">\n",
       "  <thead>\n",
       "    <tr style=\"text-align: right;\">\n",
       "      <th></th>\n",
       "      <th>Intercept</th>\n",
       "      <th>C(Pclass)[T.2]</th>\n",
       "      <th>C(Pclass)[T.3]</th>\n",
       "      <th>C(Sex)[T.male]</th>\n",
       "      <th>C(Embarked)[T.Q]</th>\n",
       "      <th>C(Embarked)[T.S]</th>\n",
       "      <th>Age</th>\n",
       "      <th>SibSp</th>\n",
       "      <th>Parch</th>\n",
       "    </tr>\n",
       "  </thead>\n",
       "  <tbody>\n",
       "    <tr>\n",
       "      <th>count</th>\n",
       "      <td>149</td>\n",
       "      <td>149.000000</td>\n",
       "      <td>149.000000</td>\n",
       "      <td>149.000000</td>\n",
       "      <td>149.000000</td>\n",
       "      <td>149.000000</td>\n",
       "      <td>149.000000</td>\n",
       "      <td>149.000000</td>\n",
       "      <td>149.000000</td>\n",
       "    </tr>\n",
       "    <tr>\n",
       "      <th>mean</th>\n",
       "      <td>1</td>\n",
       "      <td>0.073826</td>\n",
       "      <td>0.067114</td>\n",
       "      <td>0.523490</td>\n",
       "      <td>0.013423</td>\n",
       "      <td>0.630872</td>\n",
       "      <td>36.012886</td>\n",
       "      <td>0.442953</td>\n",
       "      <td>0.409396</td>\n",
       "    </tr>\n",
       "    <tr>\n",
       "      <th>std</th>\n",
       "      <td>0</td>\n",
       "      <td>0.262369</td>\n",
       "      <td>0.251063</td>\n",
       "      <td>0.501132</td>\n",
       "      <td>0.115465</td>\n",
       "      <td>0.484196</td>\n",
       "      <td>15.738591</td>\n",
       "      <td>0.597094</td>\n",
       "      <td>0.677968</td>\n",
       "    </tr>\n",
       "    <tr>\n",
       "      <th>min</th>\n",
       "      <td>1</td>\n",
       "      <td>0.000000</td>\n",
       "      <td>0.000000</td>\n",
       "      <td>0.000000</td>\n",
       "      <td>0.000000</td>\n",
       "      <td>0.000000</td>\n",
       "      <td>0.920000</td>\n",
       "      <td>0.000000</td>\n",
       "      <td>0.000000</td>\n",
       "    </tr>\n",
       "    <tr>\n",
       "      <th>25%</th>\n",
       "      <td>1</td>\n",
       "      <td>0.000000</td>\n",
       "      <td>0.000000</td>\n",
       "      <td>0.000000</td>\n",
       "      <td>0.000000</td>\n",
       "      <td>0.000000</td>\n",
       "      <td>24.000000</td>\n",
       "      <td>0.000000</td>\n",
       "      <td>0.000000</td>\n",
       "    </tr>\n",
       "    <tr>\n",
       "      <th>50%</th>\n",
       "      <td>1</td>\n",
       "      <td>0.000000</td>\n",
       "      <td>0.000000</td>\n",
       "      <td>1.000000</td>\n",
       "      <td>0.000000</td>\n",
       "      <td>1.000000</td>\n",
       "      <td>36.000000</td>\n",
       "      <td>0.000000</td>\n",
       "      <td>0.000000</td>\n",
       "    </tr>\n",
       "    <tr>\n",
       "      <th>75%</th>\n",
       "      <td>1</td>\n",
       "      <td>0.000000</td>\n",
       "      <td>0.000000</td>\n",
       "      <td>1.000000</td>\n",
       "      <td>0.000000</td>\n",
       "      <td>1.000000</td>\n",
       "      <td>48.000000</td>\n",
       "      <td>1.000000</td>\n",
       "      <td>1.000000</td>\n",
       "    </tr>\n",
       "    <tr>\n",
       "      <th>max</th>\n",
       "      <td>1</td>\n",
       "      <td>1.000000</td>\n",
       "      <td>1.000000</td>\n",
       "      <td>1.000000</td>\n",
       "      <td>1.000000</td>\n",
       "      <td>1.000000</td>\n",
       "      <td>80.000000</td>\n",
       "      <td>3.000000</td>\n",
       "      <td>2.000000</td>\n",
       "    </tr>\n",
       "  </tbody>\n",
       "</table>\n",
       "</div>"
      ],
      "text/plain": [
       "       Intercept  C(Pclass)[T.2]  C(Pclass)[T.3]  C(Sex)[T.male]  \\\n",
       "count        149      149.000000      149.000000      149.000000   \n",
       "mean           1        0.073826        0.067114        0.523490   \n",
       "std            0        0.262369        0.251063        0.501132   \n",
       "min            1        0.000000        0.000000        0.000000   \n",
       "25%            1        0.000000        0.000000        0.000000   \n",
       "50%            1        0.000000        0.000000        1.000000   \n",
       "75%            1        0.000000        0.000000        1.000000   \n",
       "max            1        1.000000        1.000000        1.000000   \n",
       "\n",
       "       C(Embarked)[T.Q]  C(Embarked)[T.S]         Age       SibSp       Parch  \n",
       "count        149.000000        149.000000  149.000000  149.000000  149.000000  \n",
       "mean           0.013423          0.630872   36.012886    0.442953    0.409396  \n",
       "std            0.115465          0.484196   15.738591    0.597094    0.677968  \n",
       "min            0.000000          0.000000    0.920000    0.000000    0.000000  \n",
       "25%            0.000000          0.000000   24.000000    0.000000    0.000000  \n",
       "50%            0.000000          1.000000   36.000000    0.000000    0.000000  \n",
       "75%            0.000000          1.000000   48.000000    1.000000    1.000000  \n",
       "max            1.000000          1.000000   80.000000    3.000000    2.000000  "
      ]
     },
     "execution_count": 88,
     "metadata": {},
     "output_type": "execute_result"
    }
   ],
   "source": [
    "randomForestX.describe()"
   ]
  },
  {
   "cell_type": "code",
   "execution_count": 122,
   "metadata": {
    "collapsed": false
   },
   "outputs": [
    {
     "name": "stdout",
     "output_type": "stream",
     "text": [
      "shape of randomForestX (149, 9)\n",
      "shape of randomForestY (149, 1)\n"
     ]
    }
   ],
   "source": [
    "print('shape of randomForestX', randomForestX.shape)\n",
    "print('shape of randomForestY', randomForestY.shape)"
   ]
  },
  {
   "cell_type": "code",
   "execution_count": 90,
   "metadata": {
    "collapsed": false
   },
   "outputs": [],
   "source": [
    "rfClassifier = ske.RandomForestClassifier(n_estimators=100)"
   ]
  },
  {
   "cell_type": "code",
   "execution_count": 91,
   "metadata": {
    "collapsed": false
   },
   "outputs": [
    {
     "name": "stderr",
     "output_type": "stream",
     "text": [
      "/Users/Jslice/anaconda/lib/python2.7/site-packages/IPython/kernel/__main__.py:1: DataConversionWarning: A column-vector y was passed when a 1d array was expected. Please change the shape of y to (n_samples,), for example using ravel().\n",
      "  if __name__ == '__main__':\n"
     ]
    }
   ],
   "source": [
    "randomForestResults = rfClassifier.fit(X=randomForestX, y=randomForestY)"
   ]
  },
  {
   "cell_type": "code",
   "execution_count": 92,
   "metadata": {
    "collapsed": false
   },
   "outputs": [],
   "source": [
    "#score results\n",
    "randomForestScore = randomForestResults.score(randomForestX, randomForestY) "
   ]
  },
  {
   "cell_type": "code",
   "execution_count": 93,
   "metadata": {
    "collapsed": false
   },
   "outputs": [],
   "source": [
    "randomForestTestingY, randomForestTestingX = dmatrices(randomForestFormula, data= titanicTestingBatch, return_type='dataframe')\n",
    "\n",
    "results['random forest'] = rfClassifier.predict(randomForestTestingX)"
   ]
  },
  {
   "cell_type": "markdown",
   "metadata": {},
   "source": [
    "##Model Evaluation/Validation"
   ]
  },
  {
   "cell_type": "code",
   "execution_count": 108,
   "metadata": {
    "collapsed": true
   },
   "outputs": [],
   "source": [
    "#Print formulas and sample sizefor each model\n",
    "def printModelInfo(modelName, formula, size):\n",
    "    print(modelName +'\\n','formula: ', formula, '\\n sample size: ', size, '\\n' )"
   ]
  },
  {
   "cell_type": "code",
   "execution_count": 116,
   "metadata": {
    "collapsed": true
   },
   "outputs": [],
   "source": [
    "from sklearn.metrics import accuracy_score\n",
    "def printAccuracy(model_name, predictions, actual):\n",
    "    print(model_name, accuracy_score(actual, predictions))"
   ]
  },
  {
   "cell_type": "code",
   "execution_count": 115,
   "metadata": {
    "collapsed": true
   },
   "outputs": [],
   "source": [
    "from sklearn.metrics import confusion_matrix\n",
    "def plotConfusionMatrix(model_name, predictions, actual, title='Confusion Matrix', cmap=plt.cm.Blues):\n",
    "    matrix = confusion_matrix(actual, predictions)\n",
    "    plt.imshow(matrix, interpolation='nearest', cmap=cmap)\n",
    "    plt.title(title)\n",
    "    plt.colorbar()\n",
    "    plt.tight_layout()\n",
    "    plt.ylabel('True label')\n",
    "    plt.xlabel('Predicted label') "
   ]
  },
  {
   "cell_type": "code",
   "execution_count": null,
   "metadata": {
    "collapsed": true
   },
   "outputs": [],
   "source": [
    "def makeROCCurve(model_name, predictions, actual):\n",
    "    \n",
    "    "
   ]
  },
  {
   "cell_type": "code",
   "execution_count": 111,
   "metadata": {
    "collapsed": false,
    "scrolled": true
   },
   "outputs": [
    {
     "name": "stdout",
     "output_type": "stream",
     "text": [
      "RandomForest\n",
      " formula:  Survived ~ C(Pclass) + C(Sex) + Age + SibSp + Parch + C(Embarked) \n",
      " sample size:  (149, 9) \n",
      "\n",
      "logitistic regression\n",
      " formula:  Survived ~C(Pclass) + C(Sex) + Age + SibSp + C(Embarked) + Fare \n",
      " sample size:  (149, 9) \n",
      "\n",
      "Knearest neighbors\n",
      " formula:  Survived ~ Age + Fare \n",
      " sample size:  (149, 2) \n",
      "\n"
     ]
    }
   ],
   "source": [
    "#Print Model Info\n",
    "printModelInfo('RandomForest', randomForestFormula, randomForestX.shape)\n",
    "printModelInfo('logitistic regression', logitRegFormula, logitXDF.shape)\n",
    "printModelInfo('Knearest neighbors', KNNFormula, titanicTrainingKNNX.shape)"
   ]
  },
  {
   "cell_type": "code",
   "execution_count": 136,
   "metadata": {
    "collapsed": false
   },
   "outputs": [
    {
     "name": "stdout",
     "output_type": "stream",
     "text": [
      "random forest 0.609375\n"
     ]
    },
    {
     "ename": "ValueError",
     "evalue": "Found arrays with inconsistent numbers of samples: [ 64 149]",
     "output_type": "error",
     "traceback": [
      "\u001b[0;31m---------------------------------------------------------------------------\u001b[0m",
      "\u001b[0;31mValueError\u001b[0m                                Traceback (most recent call last)",
      "\u001b[0;32m<ipython-input-136-4cfe086b248e>\u001b[0m in \u001b[0;36m<module>\u001b[0;34m()\u001b[0m\n\u001b[1;32m      1\u001b[0m \u001b[0;31m#Print model accuracies\u001b[0m\u001b[0;34m\u001b[0m\u001b[0;34m\u001b[0m\u001b[0m\n\u001b[1;32m      2\u001b[0m \u001b[0mprintAccuracy\u001b[0m\u001b[0;34m(\u001b[0m\u001b[0;34m'random forest'\u001b[0m\u001b[0;34m,\u001b[0m \u001b[0mrandomForestTestingY\u001b[0m\u001b[0;34m,\u001b[0m \u001b[0mresults\u001b[0m\u001b[0;34m[\u001b[0m\u001b[0;34m'random forest'\u001b[0m\u001b[0;34m]\u001b[0m\u001b[0;34m)\u001b[0m\u001b[0;34m\u001b[0m\u001b[0m\n\u001b[0;32m----> 3\u001b[0;31m \u001b[0mprintAccuracy\u001b[0m\u001b[0;34m(\u001b[0m\u001b[0;34m'logistic regression'\u001b[0m\u001b[0;34m,\u001b[0m \u001b[0mlogitYDF\u001b[0m\u001b[0;34m,\u001b[0m \u001b[0mresults\u001b[0m\u001b[0;34m[\u001b[0m\u001b[0;34m'logit'\u001b[0m\u001b[0;34m]\u001b[0m\u001b[0;34m)\u001b[0m\u001b[0;34m\u001b[0m\u001b[0m\n\u001b[0m",
      "\u001b[0;32m<ipython-input-116-d26ad516ae3a>\u001b[0m in \u001b[0;36mprintAccuracy\u001b[0;34m(model_name, predictions, actual)\u001b[0m\n\u001b[1;32m      1\u001b[0m \u001b[0;32mfrom\u001b[0m \u001b[0msklearn\u001b[0m\u001b[0;34m.\u001b[0m\u001b[0mmetrics\u001b[0m \u001b[0;32mimport\u001b[0m \u001b[0maccuracy_score\u001b[0m\u001b[0;34m\u001b[0m\u001b[0m\n\u001b[1;32m      2\u001b[0m \u001b[0;32mdef\u001b[0m \u001b[0mprintAccuracy\u001b[0m\u001b[0;34m(\u001b[0m\u001b[0mmodel_name\u001b[0m\u001b[0;34m,\u001b[0m \u001b[0mpredictions\u001b[0m\u001b[0;34m,\u001b[0m \u001b[0mactual\u001b[0m\u001b[0;34m)\u001b[0m\u001b[0;34m:\u001b[0m\u001b[0;34m\u001b[0m\u001b[0m\n\u001b[0;32m----> 3\u001b[0;31m     \u001b[0;32mprint\u001b[0m\u001b[0;34m(\u001b[0m\u001b[0mmodel_name\u001b[0m\u001b[0;34m,\u001b[0m \u001b[0maccuracy_score\u001b[0m\u001b[0;34m(\u001b[0m\u001b[0mactual\u001b[0m\u001b[0;34m,\u001b[0m \u001b[0mpredictions\u001b[0m\u001b[0;34m)\u001b[0m\u001b[0;34m)\u001b[0m\u001b[0;34m\u001b[0m\u001b[0m\n\u001b[0m",
      "\u001b[0;32m/Users/Jslice/anaconda/lib/python2.7/site-packages/sklearn/metrics/classification.pyc\u001b[0m in \u001b[0;36maccuracy_score\u001b[0;34m(y_true, y_pred, normalize, sample_weight)\u001b[0m\n\u001b[1;32m    177\u001b[0m \u001b[0;34m\u001b[0m\u001b[0m\n\u001b[1;32m    178\u001b[0m     \u001b[0;31m# Compute accuracy for each possible representation\u001b[0m\u001b[0;34m\u001b[0m\u001b[0;34m\u001b[0m\u001b[0m\n\u001b[0;32m--> 179\u001b[0;31m     \u001b[0my_type\u001b[0m\u001b[0;34m,\u001b[0m \u001b[0my_true\u001b[0m\u001b[0;34m,\u001b[0m \u001b[0my_pred\u001b[0m \u001b[0;34m=\u001b[0m \u001b[0m_check_targets\u001b[0m\u001b[0;34m(\u001b[0m\u001b[0my_true\u001b[0m\u001b[0;34m,\u001b[0m \u001b[0my_pred\u001b[0m\u001b[0;34m)\u001b[0m\u001b[0;34m\u001b[0m\u001b[0m\n\u001b[0m\u001b[1;32m    180\u001b[0m     \u001b[0;32mif\u001b[0m \u001b[0my_type\u001b[0m\u001b[0;34m.\u001b[0m\u001b[0mstartswith\u001b[0m\u001b[0;34m(\u001b[0m\u001b[0;34m'multilabel'\u001b[0m\u001b[0;34m)\u001b[0m\u001b[0;34m:\u001b[0m\u001b[0;34m\u001b[0m\u001b[0m\n\u001b[1;32m    181\u001b[0m         \u001b[0mdiffering_labels\u001b[0m \u001b[0;34m=\u001b[0m \u001b[0mcount_nonzero\u001b[0m\u001b[0;34m(\u001b[0m\u001b[0my_true\u001b[0m \u001b[0;34m-\u001b[0m \u001b[0my_pred\u001b[0m\u001b[0;34m,\u001b[0m \u001b[0maxis\u001b[0m\u001b[0;34m=\u001b[0m\u001b[0;36m1\u001b[0m\u001b[0;34m)\u001b[0m\u001b[0;34m\u001b[0m\u001b[0m\n",
      "\u001b[0;32m/Users/Jslice/anaconda/lib/python2.7/site-packages/sklearn/metrics/classification.pyc\u001b[0m in \u001b[0;36m_check_targets\u001b[0;34m(y_true, y_pred)\u001b[0m\n\u001b[1;32m     72\u001b[0m     \u001b[0my_pred\u001b[0m \u001b[0;34m:\u001b[0m \u001b[0marray\u001b[0m \u001b[0;32mor\u001b[0m \u001b[0mindicator\u001b[0m \u001b[0mmatrix\u001b[0m\u001b[0;34m\u001b[0m\u001b[0m\n\u001b[1;32m     73\u001b[0m     \"\"\"\n\u001b[0;32m---> 74\u001b[0;31m     \u001b[0mcheck_consistent_length\u001b[0m\u001b[0;34m(\u001b[0m\u001b[0my_true\u001b[0m\u001b[0;34m,\u001b[0m \u001b[0my_pred\u001b[0m\u001b[0;34m)\u001b[0m\u001b[0;34m\u001b[0m\u001b[0m\n\u001b[0m\u001b[1;32m     75\u001b[0m     \u001b[0mtype_true\u001b[0m \u001b[0;34m=\u001b[0m \u001b[0mtype_of_target\u001b[0m\u001b[0;34m(\u001b[0m\u001b[0my_true\u001b[0m\u001b[0;34m)\u001b[0m\u001b[0;34m\u001b[0m\u001b[0m\n\u001b[1;32m     76\u001b[0m     \u001b[0mtype_pred\u001b[0m \u001b[0;34m=\u001b[0m \u001b[0mtype_of_target\u001b[0m\u001b[0;34m(\u001b[0m\u001b[0my_pred\u001b[0m\u001b[0;34m)\u001b[0m\u001b[0;34m\u001b[0m\u001b[0m\n",
      "\u001b[0;32m/Users/Jslice/anaconda/lib/python2.7/site-packages/sklearn/utils/validation.pyc\u001b[0m in \u001b[0;36mcheck_consistent_length\u001b[0;34m(*arrays)\u001b[0m\n\u001b[1;32m    172\u001b[0m     \u001b[0;32mif\u001b[0m \u001b[0mlen\u001b[0m\u001b[0;34m(\u001b[0m\u001b[0muniques\u001b[0m\u001b[0;34m)\u001b[0m \u001b[0;34m>\u001b[0m \u001b[0;36m1\u001b[0m\u001b[0;34m:\u001b[0m\u001b[0;34m\u001b[0m\u001b[0m\n\u001b[1;32m    173\u001b[0m         raise ValueError(\"Found arrays with inconsistent numbers of samples: \"\n\u001b[0;32m--> 174\u001b[0;31m                          \"%s\" % str(uniques))\n\u001b[0m\u001b[1;32m    175\u001b[0m \u001b[0;34m\u001b[0m\u001b[0m\n\u001b[1;32m    176\u001b[0m \u001b[0;34m\u001b[0m\u001b[0m\n",
      "\u001b[0;31mValueError\u001b[0m: Found arrays with inconsistent numbers of samples: [ 64 149]"
     ]
    }
   ],
   "source": [
    "#Print model accuracies\n",
    "printAccuracy('random forest', randomForestTestingY, results['random forest'])\n",
    "printAccuracy('logistic regression', logitYDF, results['logit'])"
   ]
  },
  {
   "cell_type": "code",
   "execution_count": 131,
   "metadata": {
    "collapsed": false
   },
   "outputs": [
    {
     "data": {
      "image/png": "[encoded data removed]",
      "text/plain": [
       "<matplotlib.figure.Figure at 0x10f2548d0>"
      ]
     },
     "metadata": {},
     "output_type": "display_data"
    }
   ],
   "source": [
    "#Print Confusion Matrices\n",
    "plotConfusionMatrix('random forest', randomForestTestingY, results['random forest'])"
   ]
  },
  {
   "cell_type": "code",
   "execution_count": null,
   "metadata": {
    "collapsed": true
   },
   "outputs": [],
   "source": []
  },
  {
   "cell_type": "markdown",
   "metadata": {},
   "source": [
    "##Optimization"
   ]
  },
  {
   "cell_type": "markdown",
   "metadata": {},
   "source": [
    "##Visualization of Results"
   ]
  },
  {
   "cell_type": "code",
   "execution_count": null,
   "metadata": {
    "collapsed": true
   },
   "outputs": [],
   "source": []
  }
 ],
 "metadata": {
  "kernelspec": {
   "display_name": "Python 2",
   "language": "python",
   "name": "python2"
  },
  "language_info": {
   "codemirror_mode": {
    "name": "ipython",
    "version": 2
   },
   "file_extension": ".py",
   "mimetype": "text/x-python",
   "name": "python",
   "nbconvert_exporter": "python",
   "pygments_lexer": "ipython2",
   "version": "2.7.10"
  }
 },
 "nbformat": 4,
 "nbformat_minor": 0
}
