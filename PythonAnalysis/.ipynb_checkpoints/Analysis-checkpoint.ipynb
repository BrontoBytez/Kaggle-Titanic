{
 "cells": [
  {
   "cell_type": "code",
   "execution_count": 1,
   "metadata": {
    "collapsed": false
   },
   "outputs": [
    {
     "name": "stdout",
     "output_type": "stream",
     "text": [
      "('IPython: ', '3.2.0')\n",
      "('numpy: ', '1.9.2')\n",
      "('scipy: ', '0.15.1')\n",
      "('matplotlib: ', '1.4.3')\n",
      "('scikit learn: ', '0.16.1')\n",
      "('saborn: ', '0.6.0')\n",
      "('pands: ', '0.16.2')\n"
     ]
    }
   ],
   "source": [
    "from __future__ import print_function\n",
    "from utils import print_version\n",
    "\n",
    "import IPython\n",
    "print_version('IPython',IPython)\n",
    "\n",
    "import numpy as np\n",
    "print_version('numpy', np)\n",
    "\n",
    "import scipy as sp\n",
    "print_version('scipy', sp)\n",
    "\n",
    "import matplotlib\n",
    "print_version('matplotlib', matplotlib)\n",
    "\n",
    "import matplotlib.pyplot as plt\n",
    "\n",
    "import sklearn\n",
    "print_version('scikit learn', sklearn)\n",
    "\n",
    "import seaborn\n",
    "print_version('saborn', seaborn)\n",
    "\n",
    "import pandas as pd\n",
    "print_version('pands', pd)"
   ]
  },
  {
   "cell_type": "code",
   "execution_count": 2,
   "metadata": {
    "collapsed": true
   },
   "outputs": [],
   "source": [
    "#Set up default plotting environment\n",
    "seaborn.set()\n",
    "%matplotlib inline"
   ]
  },
  {
   "cell_type": "markdown",
   "metadata": {},
   "source": [
    "##Data Exploration"
   ]
  },
  {
   "cell_type": "code",
   "execution_count": 3,
   "metadata": {
    "collapsed": false
   },
   "outputs": [],
   "source": [
    "from utils import get_data\n",
    "data = get_data('csv', 'data/train.csv')"
   ]
  },
  {
   "cell_type": "code",
   "execution_count": 4,
   "metadata": {
    "collapsed": false
   },
   "outputs": [
    {
     "name": "stdout",
     "output_type": "stream",
     "text": [
      "shape of training data (891, 12)\n"
     ]
    }
   ],
   "source": [
    "print('shape of training data', data.shape)"
   ]
  },
  {
   "cell_type": "code",
   "execution_count": 5,
   "metadata": {
    "collapsed": false
   },
   "outputs": [
    {
     "name": "stdout",
     "output_type": "stream",
     "text": [
      "shape of trainingBatch (713, 12)\n",
      "shape of testBatch (89, 12)\n"
     ]
    }
   ],
   "source": [
    "#Split data into 80/20 split using helper func\n",
    "from utils import partition_data\n",
    "trainingBatch, testingBatch = partition_data(data, 'PassengerId', 8)\n",
    "\n",
    "print('shape of trainingBatch', trainingBatch.shape)\n",
    "print('shape of testBatch', testingBatch.shape)"
   ]
  },
  {
   "cell_type": "code",
   "execution_count": 6,
   "metadata": {
    "collapsed": false
   },
   "outputs": [
    {
     "data": {
      "text/html": [
       "<div>\n",
       "<table border=\"1\" class=\"dataframe\">\n",
       "  <thead>\n",
       "    <tr style=\"text-align: right;\">\n",
       "      <th></th>\n",
       "      <th>PassengerId</th>\n",
       "      <th>Survived</th>\n",
       "      <th>Pclass</th>\n",
       "      <th>Name</th>\n",
       "      <th>Sex</th>\n",
       "      <th>Age</th>\n",
       "      <th>SibSp</th>\n",
       "      <th>Parch</th>\n",
       "      <th>Ticket</th>\n",
       "      <th>Fare</th>\n",
       "      <th>Cabin</th>\n",
       "      <th>Embarked</th>\n",
       "    </tr>\n",
       "  </thead>\n",
       "  <tbody>\n",
       "    <tr>\n",
       "      <th>0</th>\n",
       "      <td>1</td>\n",
       "      <td>0</td>\n",
       "      <td>3</td>\n",
       "      <td>Braund, Mr. Owen Harris</td>\n",
       "      <td>male</td>\n",
       "      <td>22</td>\n",
       "      <td>1</td>\n",
       "      <td>0</td>\n",
       "      <td>A/5 21171</td>\n",
       "      <td>7.2500</td>\n",
       "      <td>NaN</td>\n",
       "      <td>S</td>\n",
       "    </tr>\n",
       "    <tr>\n",
       "      <th>1</th>\n",
       "      <td>2</td>\n",
       "      <td>1</td>\n",
       "      <td>1</td>\n",
       "      <td>Cumings, Mrs. John Bradley (Florence Briggs Th...</td>\n",
       "      <td>female</td>\n",
       "      <td>38</td>\n",
       "      <td>1</td>\n",
       "      <td>0</td>\n",
       "      <td>PC 17599</td>\n",
       "      <td>71.2833</td>\n",
       "      <td>C85</td>\n",
       "      <td>C</td>\n",
       "    </tr>\n",
       "    <tr>\n",
       "      <th>2</th>\n",
       "      <td>3</td>\n",
       "      <td>1</td>\n",
       "      <td>3</td>\n",
       "      <td>Heikkinen, Miss. Laina</td>\n",
       "      <td>female</td>\n",
       "      <td>26</td>\n",
       "      <td>0</td>\n",
       "      <td>0</td>\n",
       "      <td>STON/O2. 3101282</td>\n",
       "      <td>7.9250</td>\n",
       "      <td>NaN</td>\n",
       "      <td>S</td>\n",
       "    </tr>\n",
       "    <tr>\n",
       "      <th>3</th>\n",
       "      <td>4</td>\n",
       "      <td>1</td>\n",
       "      <td>1</td>\n",
       "      <td>Futrelle, Mrs. Jacques Heath (Lily May Peel)</td>\n",
       "      <td>female</td>\n",
       "      <td>35</td>\n",
       "      <td>1</td>\n",
       "      <td>0</td>\n",
       "      <td>113803</td>\n",
       "      <td>53.1000</td>\n",
       "      <td>C123</td>\n",
       "      <td>S</td>\n",
       "    </tr>\n",
       "    <tr>\n",
       "      <th>4</th>\n",
       "      <td>5</td>\n",
       "      <td>0</td>\n",
       "      <td>3</td>\n",
       "      <td>Allen, Mr. William Henry</td>\n",
       "      <td>male</td>\n",
       "      <td>35</td>\n",
       "      <td>0</td>\n",
       "      <td>0</td>\n",
       "      <td>373450</td>\n",
       "      <td>8.0500</td>\n",
       "      <td>NaN</td>\n",
       "      <td>S</td>\n",
       "    </tr>\n",
       "  </tbody>\n",
       "</table>\n",
       "</div>"
      ],
      "text/plain": [
       "   PassengerId  Survived  Pclass  \\\n",
       "0            1         0       3   \n",
       "1            2         1       1   \n",
       "2            3         1       3   \n",
       "3            4         1       1   \n",
       "4            5         0       3   \n",
       "\n",
       "                                                Name     Sex  Age  SibSp  \\\n",
       "0                            Braund, Mr. Owen Harris    male   22      1   \n",
       "1  Cumings, Mrs. John Bradley (Florence Briggs Th...  female   38      1   \n",
       "2                             Heikkinen, Miss. Laina  female   26      0   \n",
       "3       Futrelle, Mrs. Jacques Heath (Lily May Peel)  female   35      1   \n",
       "4                           Allen, Mr. William Henry    male   35      0   \n",
       "\n",
       "   Parch            Ticket     Fare Cabin Embarked  \n",
       "0      0         A/5 21171   7.2500   NaN        S  \n",
       "1      0          PC 17599  71.2833   C85        C  \n",
       "2      0  STON/O2. 3101282   7.9250   NaN        S  \n",
       "3      0            113803  53.1000  C123        S  \n",
       "4      0            373450   8.0500   NaN        S  "
      ]
     },
     "execution_count": 6,
     "metadata": {},
     "output_type": "execute_result"
    }
   ],
   "source": [
    "#Look at our data\n",
    "trainingBatch.head()"
   ]
  },
  {
   "cell_type": "code",
   "execution_count": 7,
   "metadata": {
    "collapsed": false
   },
   "outputs": [
    {
     "data": {
      "text/plain": [
       "Index([u'PassengerId', u'Survived', u'Pclass', u'Name', u'Sex', u'Age',\n",
       "       u'SibSp', u'Parch', u'Ticket', u'Fare', u'Cabin', u'Embarked'],\n",
       "      dtype='object')"
      ]
     },
     "execution_count": 7,
     "metadata": {},
     "output_type": "execute_result"
    }
   ],
   "source": [
    "#Grab our feature names\n",
    "featureNames = trainingBatch.columns\n",
    "featureNames.view()"
   ]
  },
  {
   "cell_type": "code",
   "execution_count": 8,
   "metadata": {
    "collapsed": false
   },
   "outputs": [
    {
     "data": {
      "text/html": [
       "<div>\n",
       "<table border=\"1\" class=\"dataframe\">\n",
       "  <thead>\n",
       "    <tr style=\"text-align: right;\">\n",
       "      <th></th>\n",
       "      <th>PassengerId</th>\n",
       "      <th>Survived</th>\n",
       "      <th>Pclass</th>\n",
       "      <th>Age</th>\n",
       "      <th>SibSp</th>\n",
       "      <th>Parch</th>\n",
       "      <th>Fare</th>\n",
       "    </tr>\n",
       "  </thead>\n",
       "  <tbody>\n",
       "    <tr>\n",
       "      <th>count</th>\n",
       "      <td>713.000000</td>\n",
       "      <td>713.000000</td>\n",
       "      <td>713.000000</td>\n",
       "      <td>580.000000</td>\n",
       "      <td>713.000000</td>\n",
       "      <td>713.000000</td>\n",
       "      <td>713.000000</td>\n",
       "    </tr>\n",
       "    <tr>\n",
       "      <th>mean</th>\n",
       "      <td>445.375877</td>\n",
       "      <td>0.373072</td>\n",
       "      <td>2.314165</td>\n",
       "      <td>29.966103</td>\n",
       "      <td>0.552595</td>\n",
       "      <td>0.349229</td>\n",
       "      <td>30.228967</td>\n",
       "    </tr>\n",
       "    <tr>\n",
       "      <th>std</th>\n",
       "      <td>257.462104</td>\n",
       "      <td>0.483960</td>\n",
       "      <td>0.837689</td>\n",
       "      <td>14.736764</td>\n",
       "      <td>1.167369</td>\n",
       "      <td>0.743929</td>\n",
       "      <td>41.915033</td>\n",
       "    </tr>\n",
       "    <tr>\n",
       "      <th>min</th>\n",
       "      <td>1.000000</td>\n",
       "      <td>0.000000</td>\n",
       "      <td>1.000000</td>\n",
       "      <td>0.420000</td>\n",
       "      <td>0.000000</td>\n",
       "      <td>0.000000</td>\n",
       "      <td>0.000000</td>\n",
       "    </tr>\n",
       "    <tr>\n",
       "      <th>25%</th>\n",
       "      <td>223.000000</td>\n",
       "      <td>0.000000</td>\n",
       "      <td>2.000000</td>\n",
       "      <td>21.000000</td>\n",
       "      <td>0.000000</td>\n",
       "      <td>0.000000</td>\n",
       "      <td>7.895800</td>\n",
       "    </tr>\n",
       "    <tr>\n",
       "      <th>50%</th>\n",
       "      <td>445.000000</td>\n",
       "      <td>0.000000</td>\n",
       "      <td>3.000000</td>\n",
       "      <td>28.000000</td>\n",
       "      <td>0.000000</td>\n",
       "      <td>0.000000</td>\n",
       "      <td>14.400000</td>\n",
       "    </tr>\n",
       "    <tr>\n",
       "      <th>75%</th>\n",
       "      <td>667.000000</td>\n",
       "      <td>1.000000</td>\n",
       "      <td>3.000000</td>\n",
       "      <td>39.000000</td>\n",
       "      <td>1.000000</td>\n",
       "      <td>0.000000</td>\n",
       "      <td>31.275000</td>\n",
       "    </tr>\n",
       "    <tr>\n",
       "      <th>max</th>\n",
       "      <td>891.000000</td>\n",
       "      <td>1.000000</td>\n",
       "      <td>3.000000</td>\n",
       "      <td>80.000000</td>\n",
       "      <td>8.000000</td>\n",
       "      <td>5.000000</td>\n",
       "      <td>512.329200</td>\n",
       "    </tr>\n",
       "  </tbody>\n",
       "</table>\n",
       "</div>"
      ],
      "text/plain": [
       "       PassengerId    Survived      Pclass         Age       SibSp  \\\n",
       "count   713.000000  713.000000  713.000000  580.000000  713.000000   \n",
       "mean    445.375877    0.373072    2.314165   29.966103    0.552595   \n",
       "std     257.462104    0.483960    0.837689   14.736764    1.167369   \n",
       "min       1.000000    0.000000    1.000000    0.420000    0.000000   \n",
       "25%     223.000000    0.000000    2.000000   21.000000    0.000000   \n",
       "50%     445.000000    0.000000    3.000000   28.000000    0.000000   \n",
       "75%     667.000000    1.000000    3.000000   39.000000    1.000000   \n",
       "max     891.000000    1.000000    3.000000   80.000000    8.000000   \n",
       "\n",
       "            Parch        Fare  \n",
       "count  713.000000  713.000000  \n",
       "mean     0.349229   30.228967  \n",
       "std      0.743929   41.915033  \n",
       "min      0.000000    0.000000  \n",
       "25%      0.000000    7.895800  \n",
       "50%      0.000000   14.400000  \n",
       "75%      0.000000   31.275000  \n",
       "max      5.000000  512.329200  "
      ]
     },
     "execution_count": 8,
     "metadata": {},
     "output_type": "execute_result"
    }
   ],
   "source": [
    "#Look at basic statistical summary data\n",
    "trainingBatch.describe()"
   ]
  },
  {
   "cell_type": "code",
   "execution_count": 9,
   "metadata": {
    "collapsed": false
   },
   "outputs": [
    {
     "data": {
      "text/plain": [
       "(-1, 3)"
      ]
     },
     "execution_count": 9,
     "metadata": {},
     "output_type": "execute_result"
    },
    {
     "data": {
      "image/png": "[encoded data removed]",
      "text/plain": [
       "<matplotlib.figure.Figure at 0x1043ee2d0>"
      ]
     },
     "metadata": {},
     "output_type": "display_data"
    }
   ],
   "source": [
    "#Some initial graphical exploration\n",
    "\n",
    "#Specify parameters of graphs\n",
    "SurvivalFigure = plt.figure(figsize=(16,6), dpi=1600)\n",
    "alpha_scatterplot = 0.2\n",
    "alpha_barchart = 0.55\n",
    "\n",
    "#Basic survival plot\n",
    "ax1 = plt.subplot2grid((2,3), (0,0))\n",
    "trainingBatch.loc[ : , 'Survived'].value_counts().plot(kind='bar',alpha=alpha_barchart)\n",
    "ax1.set_xlim(-1,2)\n",
    "plt.title('Distribution of Survival (1=Survived)')\n",
    "\n",
    "#Survival By Age\n",
    "ax2 = plt.subplot2grid((2,3), (0,1))\n",
    "plt.scatter(trainingBatch.loc[:, 'Survived'],trainingBatch.loc[:, 'Age'], c=trainingBatch.loc[:, 'Survived'], cmap='summer', alpha=alpha_scatterplot )\n",
    "plt.grid(b=True, which='major', axis='y')\n",
    "plt.ylabel('age')\n",
    "plt.title('Survival by Age, (Yellow=Survived)')\n",
    "\n",
    "#Passenger Class Distribution\n",
    "ax3 = plt.subplot2grid((2,3), (0,2))\n",
    "trainingBatch.loc[:, 'Pclass'].value_counts().plot(kind='barh', alpha=alpha_barchart)\n",
    "plt.ylabel('Passenger Class')\n",
    "plt.xlabel('Number of passengers')\n",
    "plt.title('Breakdown of number of passengers per class')\n",
    "\n",
    "#Kernel Density Estimate of Age Distribution within classes\n",
    "ax4 = plt.subplot2grid((2,3), (1,0), colspan=2)\n",
    "for classNum in range(3):\n",
    "    trainingBatch.loc[:, 'Age'][trainingBatch.Pclass == classNum+1].plot(kind='kde')\n",
    "plt.xlabel('Age')\n",
    "plt.title('Age Distribution within Classes')\n",
    "plt.legend(('1st class', '2nd class', '3rd class'), loc='best')\n",
    "\n",
    "#Passengers by boarding loc\n",
    "ax5 = plt.subplot2grid((2,3), (1,2))\n",
    "trainingBatch.loc[: , 'Embarked'].value_counts().plot(kind='bar', alpha=alpha_barchart)\n",
    "plt.title('Number of Passengers per boarding loc')\n",
    "ax5.set_xlim(-1,len(trainingBatch.Embarked.value_counts()))"
   ]
  },
  {
   "cell_type": "markdown",
   "metadata": {},
   "source": [
    "###Explore Death/Survival"
   ]
  },
  {
   "cell_type": "code",
   "execution_count": 10,
   "metadata": {
    "collapsed": false
   },
   "outputs": [
    {
     "data": {
      "text/plain": [
       "<matplotlib.text.Text at 0x1097c2290>"
      ]
     },
     "execution_count": 10,
     "metadata": {},
     "output_type": "execute_result"
    },
    {
     "data": {
      "text/plain": [
       "<matplotlib.figure.Figure at 0x108d5dfd0>"
      ]
     },
     "metadata": {},
     "output_type": "display_data"
    },
    {
     "data": {
      "image/png": "[encoded data removed]",
      "text/plain": [
       "<matplotlib.figure.Figure at 0x1095d1c10>"
      ]
     },
     "metadata": {},
     "output_type": "display_data"
    }
   ],
   "source": [
    "plt.figure(figsize=(16,6))\n",
    "fig, ax = plt.subplots()\n",
    "trainingBatch.loc[:, 'Survived'].value_counts().plot(kind='bar', alpha=alpha_barchart)\n",
    "plt.xlabel('number of people')\n",
    "plt.title('Survival Breakdown 1=survived 0=died')"
   ]
  },
  {
   "cell_type": "code",
   "execution_count": 11,
   "metadata": {
    "collapsed": false
   },
   "outputs": [
    {
     "data": {
      "text/plain": [
       "<matplotlib.text.Text at 0x10a965290>"
      ]
     },
     "execution_count": 11,
     "metadata": {},
     "output_type": "execute_result"
    },
    {
     "data": {
      "image/png": "[encoded data removed]",
      "text/plain": [
       "<matplotlib.figure.Figure at 0x109088990>"
      ]
     },
     "metadata": {},
     "output_type": "display_data"
    }
   ],
   "source": [
    "genderFigure = plt.figure(figsize=(16,4))\n",
    "\n",
    "maleAxes = genderFigure.add_subplot(1,2,1)\n",
    "maleMask = trainingBatch.Sex == 'male'\n",
    "maleSurvivalCounts = trainingBatch.Survived[maleMask].value_counts()\n",
    "maleSurvivalCounts.plot(kind='bar', alpha=alpha_barchart)\n",
    "plt.xlabel('Survived/Died')\n",
    "plt.ylabel('Number of people')\n",
    "plt.title('Breakdown of male survival (1=survived)')\n",
    "\n",
    "femaleAxes = genderFigure.add_subplot(1,2,2, sharey=maleAxes)\n",
    "femaleMask = trainingBatch.Sex == 'female'\n",
    "femaleSurvivalCounts = trainingBatch.Survived[femaleMask].value_counts()\n",
    "femaleSurvivalCounts.sort(0) #so both display same x axis\n",
    "femaleSurvivalCounts.plot(kind='bar', alpha=alpha_barchart, color='pink')\n",
    "plt.xlabel('Survived/Died')\n",
    "plt.ylabel('Number of people')\n",
    "plt.title('Breakdown of female survival (1=survived)')"
   ]
  },
  {
   "cell_type": "code",
   "execution_count": 12,
   "metadata": {
    "collapsed": false
   },
   "outputs": [],
   "source": [
    "#Graph survival in terms of percentages\n",
    "numberOfWomen = len(trainingBatch[femaleMask])\n",
    "numberOfMen = len(trainingBatch[maleMask])"
   ]
  },
  {
   "cell_type": "code",
   "execution_count": 13,
   "metadata": {
    "collapsed": false
   },
   "outputs": [
    {
     "data": {
      "text/plain": [
       "<matplotlib.text.Text at 0x10aac5d90>"
      ]
     },
     "execution_count": 13,
     "metadata": {},
     "output_type": "execute_result"
    },
    {
     "data": {
      "image/png": "[encoded data removed]",
      "text/plain": [
       "<matplotlib.figure.Figure at 0x10a2dab50>"
      ]
     },
     "metadata": {},
     "output_type": "display_data"
    }
   ],
   "source": [
    "genderPercentagesFigure = plt.figure(figsize=(16,6))\n",
    "\n",
    "maleAxes = genderPercentagesFigure.add_subplot(1,2,1)\n",
    "maleSurvivalPercentages = maleSurvivalCounts / numberOfMen\n",
    "maleSurvivalPercentages.plot(kind='bar', alpha=alpha_barchart)\n",
    "plt.ylabel('Percentage')\n",
    "plt.title('Percentage of men who survived 1=survived')\n",
    "\n",
    "femaleAxes = genderPercentagesFigure.add_subplot(1,2,2, sharey=maleAxes)\n",
    "femaleSurvivalPercentages = femaleSurvivalCounts / numberOfWomen\n",
    "femaleSurvivalPercentages.plot(kind='bar', alpha=alpha_barchart, color='pink')\n",
    "plt.ylabel('Perctange')\n",
    "plt.title('Percentage of women who survived 1=survived')"
   ]
  },
  {
   "cell_type": "markdown",
   "metadata": {},
   "source": [
    "####Gender Survival Breakdown Into Passenger Class\n"
   ]
  },
  {
   "cell_type": "code",
   "execution_count": 14,
   "metadata": {
    "collapsed": true
   },
   "outputs": [],
   "source": [
    "#Get the three classes\n",
    "upperClass = trainingBatch[trainingBatch.Pclass==1]\n",
    "middleClass = trainingBatch[trainingBatch.Pclass==2]\n",
    "lowerClass = trainingBatch[trainingBatch.Pclass==3]"
   ]
  },
  {
   "cell_type": "code",
   "execution_count": 15,
   "metadata": {
    "collapsed": false
   },
   "outputs": [
    {
     "name": "stderr",
     "output_type": "stream",
     "text": [
      "/Users/Jslice/anaconda/lib/python2.7/site-packages/pandas/core/frame.py:1825: UserWarning: Boolean Series key will be reindexed to match DataFrame index.\n",
      "  \"DataFrame index.\", UserWarning)\n"
     ]
    },
    {
     "data": {
      "text/plain": [
       "<matplotlib.text.Text at 0x10ba866d0>"
      ]
     },
     "execution_count": 15,
     "metadata": {},
     "output_type": "execute_result"
    },
    {
     "data": {
      "image/png": "[encoded data removed]",
      "text/plain": [
       "<matplotlib.figure.Figure at 0x10a2da390>"
      ]
     },
     "metadata": {},
     "output_type": "display_data"
    }
   ],
   "source": [
    "#make gender survival classes for all 3 classes\n",
    "classGenderFigure = plt.figure(figsize=(16,10))\n",
    "\n",
    "##Upper Class##\n",
    "upperClassMaleAx = classGenderFigure.add_subplot(3,2,1)\n",
    "upperClassMaleCount = len(upperClass[maleMask])\n",
    "upperClassMPercentages = upperClass.Survived[maleMask].value_counts() / upperClassMaleCount\n",
    "upperClassMPercentages.plot(kind='bar', alpha=alpha_barchart)\n",
    "plt.title('Upper Class Male Survival Rates (1=survived)')\n",
    "\n",
    "\n",
    "upperClassFemaleAx = classGenderFigure.add_subplot(3,2,2)\n",
    "upperClassFemaleCount = len(upperClass[femaleMask])\n",
    "upperClassFPercentages = upperClass.Survived[femaleMask].value_counts() / upperClassFemaleCount\n",
    "upperClassFPercentages.sort()\n",
    "upperClassFPercentages.plot(kind='bar', alpha=alpha_barchart, color='pink')\n",
    "plt.title('Upper Class Female Survival Rates (1=survived)')\n",
    "\n",
    "\n",
    "##Middle Class##\n",
    "middleClassMaleAx = classGenderFigure.add_subplot(3,2,3)\n",
    "middleClassMaleCount = len(middleClass[maleMask])\n",
    "middleClassMPercentages = middleClass.Survived[maleMask].value_counts() / middleClassMaleCount\n",
    "middleClassMPercentages.plot(kind='bar', alpha=alpha_barchart)\n",
    "plt.title('Middle Class Male Survival Rates (1=survived)')\n",
    "\n",
    "middleClassFemaleAx = classGenderFigure.add_subplot(3,2,4)\n",
    "middleClassFemaleCount = len(middleClass[femaleMask])\n",
    "middleClassFPercentages = middleClass.Survived[femaleMask].value_counts() / middleClassFemaleCount\n",
    "middleClassFPercentages.sort(0)\n",
    "middleClassFPercentages.plot(kind='bar', alpha=alpha_barchart, color='pink')\n",
    "plt.title('Middle Class Female Survival Rates (1=survived)')\n",
    "\n",
    "##Lower Class##\n",
    "lowerClassMaleAx = classGenderFigure.add_subplot(3,2,5)\n",
    "lowerClassMaleCount = len(lowerClass[maleMask])\n",
    "lowerClassMPercentanges = lowerClass.Survived[maleMask].value_counts() / lowerClassMaleCount\n",
    "lowerClassMPercentanges.plot(kind='bar', alpha=alpha_barchart)\n",
    "plt.title('Lower Class Male Survival Rates (1=survived)')\n",
    "\n",
    "\n",
    "lowerClassFemaleAx = classGenderFigure.add_subplot(3,2,6)\n",
    "lowerClassFemaleCount = len(lowerClass[femaleMask])\n",
    "lowerClassFPercentanges = lowerClass.Survived[femaleMask].value_counts() / lowerClassFemaleCount\n",
    "lowerClassFPercentanges.sort(ascending=False)\n",
    "lowerClassFPercentanges.plot(kind='bar', alpha=alpha_barchart, color='pink')\n",
    "plt.title('Lower Class Female Survival Rates (1=survived)')"
   ]
  },
  {
   "cell_type": "markdown",
   "metadata": {},
   "source": [
    "####Higher Dimensional Scatterplot Analysis"
   ]
  },
  {
   "cell_type": "code",
   "execution_count": 16,
   "metadata": {
    "collapsed": true
   },
   "outputs": [],
   "source": [
    "trainingAge = trainingBatch.loc[: , 'Age']\n",
    "trainingFare = trainingBatch.loc[: ,'Fare']\n",
    "trainingSurvived = trainingBatch.loc[:, 'Survived']"
   ]
  },
  {
   "cell_type": "code",
   "execution_count": 17,
   "metadata": {
    "collapsed": false
   },
   "outputs": [
    {
     "data": {
      "text/plain": [
       "<matplotlib.text.Text at 0x10c089a10>"
      ]
     },
     "execution_count": 17,
     "metadata": {},
     "output_type": "execute_result"
    },
    {
     "data": {
      "image/png": "[encoded data removed]",
      "text/plain": [
       "<matplotlib.figure.Figure at 0x1097a7350>"
      ]
     },
     "metadata": {},
     "output_type": "display_data"
    }
   ],
   "source": [
    "plt.scatter(trainingAge, trainingFare, c=trainingSurvived, s=80, cmap='spring', alpha=0.5)\n",
    "plt.colorbar()\n",
    "plt.xlabel('Age')\n",
    "plt.ylabel('Fare')\n",
    "plt.ylim(0,600)\n",
    "plt.title('Plot of Age vs Fare, Yellow=Survived, Pink = Died')"
   ]
  },
  {
   "cell_type": "markdown",
   "metadata": {},
   "source": [
    "###Identify Families/Traveling Groups and Analyze Survival Rates"
   ]
  },
  {
   "cell_type": "code",
   "execution_count": 18,
   "metadata": {
    "collapsed": false
   },
   "outputs": [],
   "source": [
    "ticketGrouping = trainingBatch.groupby(trainingBatch['Ticket'])\n",
    "ticketGroupingSurvivalData = ticketGrouping['Survived'].agg([np.sum, len])\n",
    "ticketGroupingSurvivalData['percentLived'] = ticketGroupingSurvivalData['sum'] / ticketGroupingSurvivalData['len']"
   ]
  },
  {
   "cell_type": "code",
   "execution_count": 19,
   "metadata": {
    "collapsed": false
   },
   "outputs": [
    {
     "data": {
      "text/html": [
       "<div>\n",
       "<table border=\"1\" class=\"dataframe\">\n",
       "  <thead>\n",
       "    <tr style=\"text-align: right;\">\n",
       "      <th></th>\n",
       "      <th></th>\n",
       "      <th>percentLived</th>\n",
       "      <th>sum</th>\n",
       "    </tr>\n",
       "    <tr>\n",
       "      <th>len</th>\n",
       "      <th></th>\n",
       "      <th></th>\n",
       "      <th></th>\n",
       "    </tr>\n",
       "  </thead>\n",
       "  <tbody>\n",
       "    <tr>\n",
       "      <th rowspan=\"8\" valign=\"top\">1</th>\n",
       "      <th>count</th>\n",
       "      <td>472.000000</td>\n",
       "      <td>472.000000</td>\n",
       "    </tr>\n",
       "    <tr>\n",
       "      <th>mean</th>\n",
       "      <td>0.302966</td>\n",
       "      <td>0.302966</td>\n",
       "    </tr>\n",
       "    <tr>\n",
       "      <th>std</th>\n",
       "      <td>0.460028</td>\n",
       "      <td>0.460028</td>\n",
       "    </tr>\n",
       "    <tr>\n",
       "      <th>min</th>\n",
       "      <td>0.000000</td>\n",
       "      <td>0.000000</td>\n",
       "    </tr>\n",
       "    <tr>\n",
       "      <th>25%</th>\n",
       "      <td>0.000000</td>\n",
       "      <td>0.000000</td>\n",
       "    </tr>\n",
       "    <tr>\n",
       "      <th>50%</th>\n",
       "      <td>0.000000</td>\n",
       "      <td>0.000000</td>\n",
       "    </tr>\n",
       "    <tr>\n",
       "      <th>75%</th>\n",
       "      <td>1.000000</td>\n",
       "      <td>1.000000</td>\n",
       "    </tr>\n",
       "    <tr>\n",
       "      <th>max</th>\n",
       "      <td>1.000000</td>\n",
       "      <td>1.000000</td>\n",
       "    </tr>\n",
       "    <tr>\n",
       "      <th rowspan=\"8\" valign=\"top\">2</th>\n",
       "      <th>count</th>\n",
       "      <td>78.000000</td>\n",
       "      <td>78.000000</td>\n",
       "    </tr>\n",
       "    <tr>\n",
       "      <th>mean</th>\n",
       "      <td>0.596154</td>\n",
       "      <td>1.192308</td>\n",
       "    </tr>\n",
       "    <tr>\n",
       "      <th>std</th>\n",
       "      <td>0.411346</td>\n",
       "      <td>0.822693</td>\n",
       "    </tr>\n",
       "    <tr>\n",
       "      <th>min</th>\n",
       "      <td>0.000000</td>\n",
       "      <td>0.000000</td>\n",
       "    </tr>\n",
       "    <tr>\n",
       "      <th>25%</th>\n",
       "      <td>0.125000</td>\n",
       "      <td>0.250000</td>\n",
       "    </tr>\n",
       "    <tr>\n",
       "      <th>50%</th>\n",
       "      <td>0.500000</td>\n",
       "      <td>1.000000</td>\n",
       "    </tr>\n",
       "    <tr>\n",
       "      <th>75%</th>\n",
       "      <td>1.000000</td>\n",
       "      <td>2.000000</td>\n",
       "    </tr>\n",
       "    <tr>\n",
       "      <th>max</th>\n",
       "      <td>1.000000</td>\n",
       "      <td>2.000000</td>\n",
       "    </tr>\n",
       "    <tr>\n",
       "      <th rowspan=\"8\" valign=\"top\">3</th>\n",
       "      <th>count</th>\n",
       "      <td>11.000000</td>\n",
       "      <td>11.000000</td>\n",
       "    </tr>\n",
       "    <tr>\n",
       "      <th>mean</th>\n",
       "      <td>0.575758</td>\n",
       "      <td>1.727273</td>\n",
       "    </tr>\n",
       "    <tr>\n",
       "      <th>std</th>\n",
       "      <td>0.424026</td>\n",
       "      <td>1.272078</td>\n",
       "    </tr>\n",
       "    <tr>\n",
       "      <th>min</th>\n",
       "      <td>0.000000</td>\n",
       "      <td>0.000000</td>\n",
       "    </tr>\n",
       "    <tr>\n",
       "      <th>25%</th>\n",
       "      <td>0.166667</td>\n",
       "      <td>0.500000</td>\n",
       "    </tr>\n",
       "    <tr>\n",
       "      <th>50%</th>\n",
       "      <td>0.666667</td>\n",
       "      <td>2.000000</td>\n",
       "    </tr>\n",
       "    <tr>\n",
       "      <th>75%</th>\n",
       "      <td>1.000000</td>\n",
       "      <td>3.000000</td>\n",
       "    </tr>\n",
       "    <tr>\n",
       "      <th>max</th>\n",
       "      <td>1.000000</td>\n",
       "      <td>3.000000</td>\n",
       "    </tr>\n",
       "    <tr>\n",
       "      <th rowspan=\"8\" valign=\"top\">4</th>\n",
       "      <th>count</th>\n",
       "      <td>3.000000</td>\n",
       "      <td>3.000000</td>\n",
       "    </tr>\n",
       "    <tr>\n",
       "      <th>mean</th>\n",
       "      <td>0.583333</td>\n",
       "      <td>2.333333</td>\n",
       "    </tr>\n",
       "    <tr>\n",
       "      <th>std</th>\n",
       "      <td>0.520416</td>\n",
       "      <td>2.081666</td>\n",
       "    </tr>\n",
       "    <tr>\n",
       "      <th>min</th>\n",
       "      <td>0.000000</td>\n",
       "      <td>0.000000</td>\n",
       "    </tr>\n",
       "    <tr>\n",
       "      <th>25%</th>\n",
       "      <td>0.375000</td>\n",
       "      <td>1.500000</td>\n",
       "    </tr>\n",
       "    <tr>\n",
       "      <th>50%</th>\n",
       "      <td>0.750000</td>\n",
       "      <td>3.000000</td>\n",
       "    </tr>\n",
       "    <tr>\n",
       "      <th>75%</th>\n",
       "      <td>0.875000</td>\n",
       "      <td>3.500000</td>\n",
       "    </tr>\n",
       "    <tr>\n",
       "      <th>max</th>\n",
       "      <td>1.000000</td>\n",
       "      <td>4.000000</td>\n",
       "    </tr>\n",
       "    <tr>\n",
       "      <th rowspan=\"8\" valign=\"top\">5</th>\n",
       "      <th>count</th>\n",
       "      <td>4.000000</td>\n",
       "      <td>4.000000</td>\n",
       "    </tr>\n",
       "    <tr>\n",
       "      <th>mean</th>\n",
       "      <td>0.000000</td>\n",
       "      <td>0.000000</td>\n",
       "    </tr>\n",
       "    <tr>\n",
       "      <th>std</th>\n",
       "      <td>0.000000</td>\n",
       "      <td>0.000000</td>\n",
       "    </tr>\n",
       "    <tr>\n",
       "      <th>min</th>\n",
       "      <td>0.000000</td>\n",
       "      <td>0.000000</td>\n",
       "    </tr>\n",
       "    <tr>\n",
       "      <th>25%</th>\n",
       "      <td>0.000000</td>\n",
       "      <td>0.000000</td>\n",
       "    </tr>\n",
       "    <tr>\n",
       "      <th>50%</th>\n",
       "      <td>0.000000</td>\n",
       "      <td>0.000000</td>\n",
       "    </tr>\n",
       "    <tr>\n",
       "      <th>75%</th>\n",
       "      <td>0.000000</td>\n",
       "      <td>0.000000</td>\n",
       "    </tr>\n",
       "    <tr>\n",
       "      <th>max</th>\n",
       "      <td>0.000000</td>\n",
       "      <td>0.000000</td>\n",
       "    </tr>\n",
       "    <tr>\n",
       "      <th rowspan=\"8\" valign=\"top\">6</th>\n",
       "      <th>count</th>\n",
       "      <td>1.000000</td>\n",
       "      <td>1.000000</td>\n",
       "    </tr>\n",
       "    <tr>\n",
       "      <th>mean</th>\n",
       "      <td>0.666667</td>\n",
       "      <td>4.000000</td>\n",
       "    </tr>\n",
       "    <tr>\n",
       "      <th>std</th>\n",
       "      <td>NaN</td>\n",
       "      <td>NaN</td>\n",
       "    </tr>\n",
       "    <tr>\n",
       "      <th>min</th>\n",
       "      <td>0.666667</td>\n",
       "      <td>4.000000</td>\n",
       "    </tr>\n",
       "    <tr>\n",
       "      <th>25%</th>\n",
       "      <td>0.666667</td>\n",
       "      <td>4.000000</td>\n",
       "    </tr>\n",
       "    <tr>\n",
       "      <th>50%</th>\n",
       "      <td>0.666667</td>\n",
       "      <td>4.000000</td>\n",
       "    </tr>\n",
       "    <tr>\n",
       "      <th>75%</th>\n",
       "      <td>0.666667</td>\n",
       "      <td>4.000000</td>\n",
       "    </tr>\n",
       "    <tr>\n",
       "      <th>max</th>\n",
       "      <td>0.666667</td>\n",
       "      <td>4.000000</td>\n",
       "    </tr>\n",
       "    <tr>\n",
       "      <th rowspan=\"8\" valign=\"top\">7</th>\n",
       "      <th>count</th>\n",
       "      <td>2.000000</td>\n",
       "      <td>2.000000</td>\n",
       "    </tr>\n",
       "    <tr>\n",
       "      <th>mean</th>\n",
       "      <td>0.000000</td>\n",
       "      <td>0.000000</td>\n",
       "    </tr>\n",
       "    <tr>\n",
       "      <th>std</th>\n",
       "      <td>0.000000</td>\n",
       "      <td>0.000000</td>\n",
       "    </tr>\n",
       "    <tr>\n",
       "      <th>min</th>\n",
       "      <td>0.000000</td>\n",
       "      <td>0.000000</td>\n",
       "    </tr>\n",
       "    <tr>\n",
       "      <th>25%</th>\n",
       "      <td>0.000000</td>\n",
       "      <td>0.000000</td>\n",
       "    </tr>\n",
       "    <tr>\n",
       "      <th>50%</th>\n",
       "      <td>0.000000</td>\n",
       "      <td>0.000000</td>\n",
       "    </tr>\n",
       "    <tr>\n",
       "      <th>75%</th>\n",
       "      <td>0.000000</td>\n",
       "      <td>0.000000</td>\n",
       "    </tr>\n",
       "    <tr>\n",
       "      <th>max</th>\n",
       "      <td>0.000000</td>\n",
       "      <td>0.000000</td>\n",
       "    </tr>\n",
       "  </tbody>\n",
       "</table>\n",
       "</div>"
      ],
      "text/plain": [
       "           percentLived         sum\n",
       "len                                \n",
       "1   count    472.000000  472.000000\n",
       "    mean       0.302966    0.302966\n",
       "    std        0.460028    0.460028\n",
       "    min        0.000000    0.000000\n",
       "    25%        0.000000    0.000000\n",
       "    50%        0.000000    0.000000\n",
       "    75%        1.000000    1.000000\n",
       "    max        1.000000    1.000000\n",
       "2   count     78.000000   78.000000\n",
       "    mean       0.596154    1.192308\n",
       "    std        0.411346    0.822693\n",
       "    min        0.000000    0.000000\n",
       "    25%        0.125000    0.250000\n",
       "    50%        0.500000    1.000000\n",
       "    75%        1.000000    2.000000\n",
       "    max        1.000000    2.000000\n",
       "3   count     11.000000   11.000000\n",
       "    mean       0.575758    1.727273\n",
       "    std        0.424026    1.272078\n",
       "    min        0.000000    0.000000\n",
       "    25%        0.166667    0.500000\n",
       "    50%        0.666667    2.000000\n",
       "    75%        1.000000    3.000000\n",
       "    max        1.000000    3.000000\n",
       "4   count      3.000000    3.000000\n",
       "    mean       0.583333    2.333333\n",
       "    std        0.520416    2.081666\n",
       "    min        0.000000    0.000000\n",
       "    25%        0.375000    1.500000\n",
       "    50%        0.750000    3.000000\n",
       "    75%        0.875000    3.500000\n",
       "    max        1.000000    4.000000\n",
       "5   count      4.000000    4.000000\n",
       "    mean       0.000000    0.000000\n",
       "    std        0.000000    0.000000\n",
       "    min        0.000000    0.000000\n",
       "    25%        0.000000    0.000000\n",
       "    50%        0.000000    0.000000\n",
       "    75%        0.000000    0.000000\n",
       "    max        0.000000    0.000000\n",
       "6   count      1.000000    1.000000\n",
       "    mean       0.666667    4.000000\n",
       "    std             NaN         NaN\n",
       "    min        0.666667    4.000000\n",
       "    25%        0.666667    4.000000\n",
       "    50%        0.666667    4.000000\n",
       "    75%        0.666667    4.000000\n",
       "    max        0.666667    4.000000\n",
       "7   count      2.000000    2.000000\n",
       "    mean       0.000000    0.000000\n",
       "    std        0.000000    0.000000\n",
       "    min        0.000000    0.000000\n",
       "    25%        0.000000    0.000000\n",
       "    50%        0.000000    0.000000\n",
       "    75%        0.000000    0.000000\n",
       "    max        0.000000    0.000000"
      ]
     },
     "execution_count": 19,
     "metadata": {},
     "output_type": "execute_result"
    }
   ],
   "source": [
    "ticketGroupingSurvivalGroupSizes = ticketGroupingSurvivalData.groupby('len')\n",
    "ticketGroupingSurvivalGroupSizes.describe()"
   ]
  },
  {
   "cell_type": "code",
   "execution_count": 20,
   "metadata": {
    "collapsed": true
   },
   "outputs": [],
   "source": [
    "ticketGroupingSurvivalGroupSizesMean = ticketGroupingSurvivalGroupSizes['percentLived'].mean()"
   ]
  },
  {
   "cell_type": "code",
   "execution_count": 21,
   "metadata": {
    "collapsed": false
   },
   "outputs": [
    {
     "data": {
      "text/plain": [
       "<matplotlib.text.Text at 0x10c684d10>"
      ]
     },
     "execution_count": 21,
     "metadata": {},
     "output_type": "execute_result"
    },
    {
     "data": {
      "image/png": "[encoded data removed]",
      "text/plain": [
       "<matplotlib.figure.Figure at 0x108e81d10>"
      ]
     },
     "metadata": {},
     "output_type": "display_data"
    }
   ],
   "source": [
    "ticketGroupSurvivalFig = plt.figure(figsize=(16,6))\n",
    "ticketGroupSurvivalAx1 = ticketGroupSurvivalFig.add_subplot(1,2,1)\n",
    "ticketGroupingSurvivalGroupSizesMean.plot(kind='bar', alpha=alpha_barchart)\n",
    "plt.title('Average Survival Rate by Group Size')\n",
    "ticketGroupSurvivalAx2 = ticketGroupSurvivalFig.add_subplot(1,2,2)\n",
    "ticketGroupingSurvivalGroupSizes['percentLived'].count().plot( kind='bar', alpha=alpha_barchart)\n",
    "plt.title('Number of Observations by Group Size')"
   ]
  },
  {
   "cell_type": "markdown",
   "metadata": {},
   "source": [
    "Unfortunately there are serious sample size costraints. The only group sizes we can might be able to use are size one and two"
   ]
  },
  {
   "cell_type": "markdown",
   "metadata": {},
   "source": [
    "##Data Cleaning/Munging"
   ]
  },
  {
   "cell_type": "markdown",
   "metadata": {},
   "source": [
    "Need to come back to this and try other techniques such as using the median or interpolation"
   ]
  },
  {
   "cell_type": "code",
   "execution_count": 22,
   "metadata": {
    "collapsed": false
   },
   "outputs": [
    {
     "data": {
      "text/plain": [
       "PassengerId     0.000000\n",
       "Survived        0.000000\n",
       "Pclass          0.000000\n",
       "Name            0.000000\n",
       "Sex             0.000000\n",
       "Age            18.653576\n",
       "SibSp           0.000000\n",
       "Parch           0.000000\n",
       "Ticket          0.000000\n",
       "Fare            0.000000\n",
       "Cabin          76.718093\n",
       "Embarked        0.280505\n",
       "dtype: float64"
      ]
     },
     "execution_count": 22,
     "metadata": {},
     "output_type": "execute_result"
    }
   ],
   "source": [
    "#Missing Data Amount\n",
    "trainingBatch.isnull().sum() / len(trainingBatch) * 100"
   ]
  },
  {
   "cell_type": "markdown",
   "metadata": {},
   "source": [
    "##Data Modeling"
   ]
  },
  {
   "cell_type": "code",
   "execution_count": 23,
   "metadata": {
    "collapsed": true
   },
   "outputs": [],
   "source": [
    "#Results dictionary to hold regression results\n",
    "results = {}"
   ]
  },
  {
   "cell_type": "markdown",
   "metadata": {},
   "source": [
    "###Random Forest"
   ]
  },
  {
   "cell_type": "code",
   "execution_count": 24,
   "metadata": {
    "collapsed": false
   },
   "outputs": [],
   "source": [
    "#Import ensemble library from sklean\n",
    "import sklearn.ensemble as ske\n",
    "from patsy import dmatrices\n",
    "#make random forst model and fit model to the training data\n",
    "randomForestFormula = 'Survived ~ C(Pclass) + C(Sex) + Age + SibSp + Parch + C(Embarked)'\n",
    "\n",
    "randomForestY, randomForestX = dmatrices(randomForestFormula, data=trainingBatch, return_type='dataframe')"
   ]
  },
  {
   "cell_type": "code",
   "execution_count": 25,
   "metadata": {
    "collapsed": false
   },
   "outputs": [
    {
     "name": "stdout",
     "output_type": "stream",
     "text": [
      "shape of randomForestX (578, 9)\n",
      "shape of randomForestY (578, 1)\n"
     ]
    }
   ],
   "source": [
    "print('shape of randomForestX', randomForestX.shape)\n",
    "print('shape of randomForestY', randomForestY.shape)"
   ]
  },
  {
   "cell_type": "code",
   "execution_count": 26,
   "metadata": {
    "collapsed": false
   },
   "outputs": [
    {
     "data": {
      "text/html": [
       "<div>\n",
       "<table border=\"1\" class=\"dataframe\">\n",
       "  <thead>\n",
       "    <tr style=\"text-align: right;\">\n",
       "      <th></th>\n",
       "      <th>Intercept</th>\n",
       "      <th>C(Pclass)[T.2]</th>\n",
       "      <th>C(Pclass)[T.3]</th>\n",
       "      <th>C(Sex)[T.male]</th>\n",
       "      <th>C(Embarked)[T.Q]</th>\n",
       "      <th>C(Embarked)[T.S]</th>\n",
       "      <th>Age</th>\n",
       "      <th>SibSp</th>\n",
       "      <th>Parch</th>\n",
       "    </tr>\n",
       "  </thead>\n",
       "  <tbody>\n",
       "    <tr>\n",
       "      <th>count</th>\n",
       "      <td>578</td>\n",
       "      <td>578.000000</td>\n",
       "      <td>578.000000</td>\n",
       "      <td>578.000000</td>\n",
       "      <td>578.000000</td>\n",
       "      <td>578.000000</td>\n",
       "      <td>578.000000</td>\n",
       "      <td>578.000000</td>\n",
       "      <td>578.000000</td>\n",
       "    </tr>\n",
       "    <tr>\n",
       "      <th>mean</th>\n",
       "      <td>1</td>\n",
       "      <td>0.233564</td>\n",
       "      <td>0.512111</td>\n",
       "      <td>0.643599</td>\n",
       "      <td>0.038062</td>\n",
       "      <td>0.780277</td>\n",
       "      <td>29.896782</td>\n",
       "      <td>0.522491</td>\n",
       "      <td>0.380623</td>\n",
       "    </tr>\n",
       "    <tr>\n",
       "      <th>std</th>\n",
       "      <td>0</td>\n",
       "      <td>0.423464</td>\n",
       "      <td>0.500286</td>\n",
       "      <td>0.479351</td>\n",
       "      <td>0.191512</td>\n",
       "      <td>0.414418</td>\n",
       "      <td>14.697954</td>\n",
       "      <td>0.947685</td>\n",
       "      <td>0.774667</td>\n",
       "    </tr>\n",
       "    <tr>\n",
       "      <th>min</th>\n",
       "      <td>1</td>\n",
       "      <td>0.000000</td>\n",
       "      <td>0.000000</td>\n",
       "      <td>0.000000</td>\n",
       "      <td>0.000000</td>\n",
       "      <td>0.000000</td>\n",
       "      <td>0.420000</td>\n",
       "      <td>0.000000</td>\n",
       "      <td>0.000000</td>\n",
       "    </tr>\n",
       "    <tr>\n",
       "      <th>25%</th>\n",
       "      <td>1</td>\n",
       "      <td>0.000000</td>\n",
       "      <td>0.000000</td>\n",
       "      <td>0.000000</td>\n",
       "      <td>0.000000</td>\n",
       "      <td>1.000000</td>\n",
       "      <td>21.000000</td>\n",
       "      <td>0.000000</td>\n",
       "      <td>0.000000</td>\n",
       "    </tr>\n",
       "    <tr>\n",
       "      <th>50%</th>\n",
       "      <td>1</td>\n",
       "      <td>0.000000</td>\n",
       "      <td>1.000000</td>\n",
       "      <td>1.000000</td>\n",
       "      <td>0.000000</td>\n",
       "      <td>1.000000</td>\n",
       "      <td>28.000000</td>\n",
       "      <td>0.000000</td>\n",
       "      <td>0.000000</td>\n",
       "    </tr>\n",
       "    <tr>\n",
       "      <th>75%</th>\n",
       "      <td>1</td>\n",
       "      <td>0.000000</td>\n",
       "      <td>1.000000</td>\n",
       "      <td>1.000000</td>\n",
       "      <td>0.000000</td>\n",
       "      <td>1.000000</td>\n",
       "      <td>39.000000</td>\n",
       "      <td>1.000000</td>\n",
       "      <td>0.750000</td>\n",
       "    </tr>\n",
       "    <tr>\n",
       "      <th>max</th>\n",
       "      <td>1</td>\n",
       "      <td>1.000000</td>\n",
       "      <td>1.000000</td>\n",
       "      <td>1.000000</td>\n",
       "      <td>1.000000</td>\n",
       "      <td>1.000000</td>\n",
       "      <td>80.000000</td>\n",
       "      <td>5.000000</td>\n",
       "      <td>5.000000</td>\n",
       "    </tr>\n",
       "  </tbody>\n",
       "</table>\n",
       "</div>"
      ],
      "text/plain": [
       "       Intercept  C(Pclass)[T.2]  C(Pclass)[T.3]  C(Sex)[T.male]  \\\n",
       "count        578      578.000000      578.000000      578.000000   \n",
       "mean           1        0.233564        0.512111        0.643599   \n",
       "std            0        0.423464        0.500286        0.479351   \n",
       "min            1        0.000000        0.000000        0.000000   \n",
       "25%            1        0.000000        0.000000        0.000000   \n",
       "50%            1        0.000000        1.000000        1.000000   \n",
       "75%            1        0.000000        1.000000        1.000000   \n",
       "max            1        1.000000        1.000000        1.000000   \n",
       "\n",
       "       C(Embarked)[T.Q]  C(Embarked)[T.S]         Age       SibSp       Parch  \n",
       "count        578.000000        578.000000  578.000000  578.000000  578.000000  \n",
       "mean           0.038062          0.780277   29.896782    0.522491    0.380623  \n",
       "std            0.191512          0.414418   14.697954    0.947685    0.774667  \n",
       "min            0.000000          0.000000    0.420000    0.000000    0.000000  \n",
       "25%            0.000000          1.000000   21.000000    0.000000    0.000000  \n",
       "50%            0.000000          1.000000   28.000000    0.000000    0.000000  \n",
       "75%            0.000000          1.000000   39.000000    1.000000    0.750000  \n",
       "max            1.000000          1.000000   80.000000    5.000000    5.000000  "
      ]
     },
     "execution_count": 26,
     "metadata": {},
     "output_type": "execute_result"
    }
   ],
   "source": [
    "randomForestX.describe()"
   ]
  },
  {
   "cell_type": "code",
   "execution_count": 27,
   "metadata": {
    "collapsed": true
   },
   "outputs": [],
   "source": [
    "randomForestClassifier = ske.RandomForestClassifier(n_estimators=100)"
   ]
  },
  {
   "cell_type": "code",
   "execution_count": 28,
   "metadata": {
    "collapsed": false
   },
   "outputs": [],
   "source": [
    "randomForestResults = randomForestClassifier.fit(X=randomForestX, y=randomForestY['Survived'])"
   ]
  },
  {
   "cell_type": "code",
   "execution_count": 29,
   "metadata": {
    "collapsed": true
   },
   "outputs": [],
   "source": [
    "#score results\n",
    "randomForestScore = randomForestResults.score(randomForestX, randomForestY) "
   ]
  },
  {
   "cell_type": "code",
   "execution_count": 30,
   "metadata": {
    "collapsed": false
   },
   "outputs": [],
   "source": [
    "randomForestTestingY, randomForestTestingX = dmatrices(randomForestFormula, data= testingBatch, return_type='dataframe')\n",
    "\n",
    "results['randomForest'] = randomForestClassifier.predict(randomForestTestingX)"
   ]
  },
  {
   "cell_type": "markdown",
   "metadata": {},
   "source": [
    "###K-Nearest-Neighbors"
   ]
  },
  {
   "cell_type": "code",
   "execution_count": 31,
   "metadata": {
    "collapsed": true
   },
   "outputs": [],
   "source": [
    "from sklearn import neighbors"
   ]
  },
  {
   "cell_type": "code",
   "execution_count": 32,
   "metadata": {
    "collapsed": false
   },
   "outputs": [],
   "source": [
    "kneighborsFormula = 'Survived ~ Age + Fare'\n",
    "kneighborsData = trainingBatch.ix[:, ['Survived','Age', 'Fare']]\n",
    "kneighborsData = kneighborsData.dropna()\n",
    "kneighborsY = kneighborsData.ix[:,'Survived']\n",
    "kneighborsX = kneighborsData.ix[:, ['Age', 'Fare']]"
   ]
  },
  {
   "cell_type": "code",
   "execution_count": 33,
   "metadata": {
    "collapsed": false
   },
   "outputs": [
    {
     "name": "stdout",
     "output_type": "stream",
     "text": [
      "shape of kneighborsX (580, 2)\n",
      "shape of kneighborsY (580,)\n"
     ]
    }
   ],
   "source": [
    "print('shape of kneighborsX', kneighborsX.shape)\n",
    "print('shape of kneighborsY', kneighborsY.shape)"
   ]
  },
  {
   "cell_type": "code",
   "execution_count": 34,
   "metadata": {
    "collapsed": false
   },
   "outputs": [
    {
     "data": {
      "text/plain": [
       "KNeighborsClassifier(algorithm='auto', leaf_size=30, metric='minkowski',\n",
       "           metric_params=None, n_neighbors=10, p=2, weights='uniform')"
      ]
     },
     "execution_count": 34,
     "metadata": {},
     "output_type": "execute_result"
    }
   ],
   "source": [
    "kneighborsModel = neighbors.KNeighborsClassifier(n_neighbors=10)\n",
    "kneighborsModel.fit(kneighborsX, kneighborsY)"
   ]
  },
  {
   "cell_type": "code",
   "execution_count": 35,
   "metadata": {
    "collapsed": false
   },
   "outputs": [],
   "source": [
    "kneighborsTestingData = testingBatch.ix[:, ['Survived','Age', 'Fare']]\n",
    "kneighborsTestingData = kneighborsTestingData.dropna()\n",
    "kneighborsTestingY = kneighborsTestingData.ix[:,'Survived']\n",
    "kneighborsTestingX = kneighborsTestingData.ix[:, ['Age', 'Fare']]"
   ]
  },
  {
   "cell_type": "code",
   "execution_count": 36,
   "metadata": {
    "collapsed": false
   },
   "outputs": [
    {
     "name": "stdout",
     "output_type": "stream",
     "text": [
      "(580, 2)\n",
      "(64, 2)\n"
     ]
    }
   ],
   "source": [
    "print(kneighborsX.shape)\n",
    "print(kneighborsTestingX.shape)\n",
    "results['kneighbors'] = kneighborsModel.predict(kneighborsTestingX)"
   ]
  },
  {
   "cell_type": "markdown",
   "metadata": {},
   "source": [
    "###Logistic Regression"
   ]
  },
  {
   "cell_type": "code",
   "execution_count": 37,
   "metadata": {
    "collapsed": true
   },
   "outputs": [],
   "source": [
    "from patsy import dmatrices\n",
    "import statsmodels.api as sm"
   ]
  },
  {
   "cell_type": "code",
   "execution_count": 38,
   "metadata": {
    "collapsed": true
   },
   "outputs": [],
   "source": [
    "logisticRegressionFormula ='Survived ~C(Pclass) + C(Sex) + Age + SibSp + C(Embarked) + Fare'\n",
    "logisticRegressionY, logisticRegressionX = dmatrices(logisticRegressionFormula, data=trainingBatch, return_type='dataframe')"
   ]
  },
  {
   "cell_type": "code",
   "execution_count": 39,
   "metadata": {
    "collapsed": false
   },
   "outputs": [
    {
     "name": "stdout",
     "output_type": "stream",
     "text": [
      "shape of logitX (578, 9)\n",
      "shape of logitY (578, 1)\n"
     ]
    }
   ],
   "source": [
    "print('shape of logitX', logisticRegressionX.shape)\n",
    "print('shape of logitY', logisticRegressionY.shape)"
   ]
  },
  {
   "cell_type": "code",
   "execution_count": 40,
   "metadata": {
    "collapsed": false
   },
   "outputs": [
    {
     "name": "stdout",
     "output_type": "stream",
     "text": [
      "Optimization terminated successfully.\n",
      "         Current function value: 0.425401\n",
      "         Iterations 7\n"
     ]
    }
   ],
   "source": [
    "logitModel = sm.Logit(logisticRegressionY, logisticRegressionX)\n",
    "logitResults = logitModel.fit()"
   ]
  },
  {
   "cell_type": "code",
   "execution_count": 41,
   "metadata": {
    "collapsed": true
   },
   "outputs": [],
   "source": [
    "logisticRegressionTestingY, logisticRegressionTestingX = dmatrices(logisticRegressionFormula, data=testingBatch, return_type='dataframe')"
   ]
  },
  {
   "cell_type": "code",
   "execution_count": 42,
   "metadata": {
    "collapsed": false
   },
   "outputs": [],
   "source": [
    "results['logisticRegression'] = logitResults.predict(logisticRegressionTestingX)"
   ]
  },
  {
   "cell_type": "code",
   "execution_count": 43,
   "metadata": {
    "collapsed": false
   },
   "outputs": [],
   "source": [
    "results['logisticRegression'] = results['logisticRegression'].round()"
   ]
  },
  {
   "cell_type": "markdown",
   "metadata": {},
   "source": [
    "##Neural Network"
   ]
  },
  {
   "cell_type": "code",
   "execution_count": 44,
   "metadata": {
    "collapsed": false
   },
   "outputs": [],
   "source": [
    "from Net1 import Network"
   ]
  },
  {
   "cell_type": "code",
   "execution_count": 45,
   "metadata": {
    "collapsed": false
   },
   "outputs": [],
   "source": [
    "netFormula = 'Survived ~ Age + Sex'\n",
    "netData = trainingBatch.ix[:, ['Survived','Age','Sex']]\n",
    "netData = netData.dropna()\n",
    "netY = netData.ix[:,'Survived']\n",
    "netX = netData.ix[:, ['Age', 'Sex']]"
   ]
  },
  {
   "cell_type": "code",
   "execution_count": 47,
   "metadata": {
    "collapsed": false
   },
   "outputs": [],
   "source": [
    "netX['Gender'] = netX['Sex'].apply(lambda x: 1 if x == \"female\" else 0)\n",
    "netX = netX.ix[: , ['Age','Gender']]"
   ]
  },
  {
   "cell_type": "code",
   "execution_count": 48,
   "metadata": {
    "collapsed": false
   },
   "outputs": [],
   "source": [
    "trainingList = zip(netX.as_matrix(), netY.as_matrix())"
   ]
  },
  {
   "cell_type": "code",
   "execution_count": 49,
   "metadata": {
    "collapsed": true
   },
   "outputs": [],
   "source": [
    "netTestData = testingBatch.ix[:, ['Survived','Age','Sex']]\n",
    "netTestData = netTestData.dropna()\n",
    "netTestY = netTestData.ix[:,'Survived']\n",
    "netTestX = netTestData.ix[:, ['Age', 'Sex']]"
   ]
  },
  {
   "cell_type": "code",
   "execution_count": 50,
   "metadata": {
    "collapsed": true
   },
   "outputs": [],
   "source": [
    "netTestX['Gender'] = netTestX['Sex'].apply(lambda x: 1 if x == \"female\" else 0)\n",
    "netTestX = netX.ix[: , ['Age','Gender']]"
   ]
  },
  {
   "cell_type": "code",
   "execution_count": 51,
   "metadata": {
    "collapsed": false
   },
   "outputs": [],
   "source": [
    "testingList = zip(netTestX.as_matrix(), netTestY.as_matrix())"
   ]
  },
  {
   "cell_type": "code",
   "execution_count": 52,
   "metadata": {
    "collapsed": false
   },
   "outputs": [
    {
     "name": "stdout",
     "output_type": "stream",
     "text": [
      "Epoch 0: 26 / 64\n",
      "Epoch 1: 26 / 64\n",
      "Epoch 2: 34 / 64\n",
      "Epoch 3: 38 / 64\n",
      "Epoch 4: 27 / 64\n",
      "Epoch 5: 38 / 64\n",
      "Epoch 6: 38 / 64\n",
      "Epoch 7: 38 / 64\n",
      "Epoch 8: 37 / 64\n",
      "Epoch 9: 34 / 64\n",
      "Epoch 10: 35 / 64\n",
      "Epoch 11: 34 / 64\n",
      "Epoch 12: 38 / 64\n",
      "Epoch 13: 35 / 64\n",
      "Epoch 14: 37 / 64\n",
      "Epoch 15: 38 / 64\n",
      "Epoch 16: 38 / 64\n",
      "Epoch 17: 38 / 64\n",
      "Epoch 18: 29 / 64\n",
      "Epoch 19: 28 / 64\n",
      "Epoch 20: 38 / 64\n",
      "Epoch 21: 27 / 64\n",
      "Epoch 22: 38 / 64\n",
      "Epoch 23: 27 / 64\n",
      "Epoch 24: 27 / 64\n",
      "Epoch 25: 28 / 64\n",
      "Epoch 26: 29 / 64\n",
      "Epoch 27: 38 / 64\n",
      "Epoch 28: 29 / 64\n",
      "Epoch 29: 27 / 64\n"
     ]
    }
   ],
   "source": [
    "\"\"\"\n",
    "Training Data Format:\n",
    "[(x,y)]\n",
    "X: (age, sex)\n",
    "Y: (Survived/Died)\n",
    "\n",
    "Testing Data Format:\n",
    "[(x,y)]\n",
    "x: (age, sex)\n",
    "Y: (Survived/Died)\n",
    "\"\"\"\n",
    "\n",
    "net = Network([2, 2, 1])\n",
    "net.SGD(trainingList, 30, 10, 3.0, test_data=testingList)"
   ]
  },
  {
   "cell_type": "code",
   "execution_count": null,
   "metadata": {
    "collapsed": false
   },
   "outputs": [],
   "source": []
  },
  {
   "cell_type": "markdown",
   "metadata": {},
   "source": [
    "##Model Evaluation/Validation"
   ]
  },
  {
   "cell_type": "code",
   "execution_count": null,
   "metadata": {
    "collapsed": false
   },
   "outputs": [],
   "source": [
    "from ModelValidation import print_model_information, model_accuracy, print_roc_curve, print_confusion_matrix"
   ]
  },
  {
   "cell_type": "code",
   "execution_count": null,
   "metadata": {
    "collapsed": false
   },
   "outputs": [],
   "source": [
    "#Print Model Info\n",
    "print_model_information('RandomForest', randomForestFormula, randomForestX.shape)\n",
    "print_model_information('Logitistic Regression', logisticRegressionFormula, logisticRegressionX.shape)\n",
    "print_model_information('K Nearest Neighbors', kneighborsFormula, kneighborsX.shape)"
   ]
  },
  {
   "cell_type": "code",
   "execution_count": null,
   "metadata": {
    "collapsed": false
   },
   "outputs": [],
   "source": [
    "#Print model accuracies\n",
    "model_accuracy('Random Forest', randomForestTestingY['Survived'], results['randomForest'])\n",
    "model_accuracy('Logistic Regression', logisticRegressionTestingY['Survived'], results['logisticRegression'])\n",
    "model_accuracy('K Nearest Neighbors', kneighborsTestingY, results['kneighbors'])"
   ]
  },
  {
   "cell_type": "code",
   "execution_count": null,
   "metadata": {
    "collapsed": false
   },
   "outputs": [],
   "source": [
    "#Print Confusion Matrices\n",
    "outcomes = ['Died', 'Survived']\n",
    "print_confusion_matrix('Random Forest', results['randomForest'],randomForestTestingY['Survived'],outcomes , title='Random Forest', cmap=plt.cm.Blues)\n",
    "print_confusion_matrix('Logistic Regression', results['logisticRegression'], logisticRegressionTestingY['Survived'], outcomes,title='Logistic Regression', cmap=plt.cm.Blues)\n",
    "print_confusion_matrix('K Nearest Neighbors', results['kneighbors'], kneighborsTestingY,outcomes ,title='K Nearest Neighbors', cmap=plt.cm.Blues)"
   ]
  },
  {
   "cell_type": "code",
   "execution_count": null,
   "metadata": {
    "collapsed": false
   },
   "outputs": [],
   "source": [
    "print_roc_curve('Random Forest', results['randomForest'], randomForestTestingY)\n",
    "print_roc_curve('Logistic Regression', results['logisticRegression'], logisticRegressionTestingY)\n",
    "print_roc_curve('K Nearest Neighbors', kneighborsTestingY, results['kneighbors'])"
   ]
  },
  {
   "cell_type": "code",
   "execution_count": null,
   "metadata": {
    "collapsed": false
   },
   "outputs": [],
   "source": [
    "y_pred = results['randomForest']\n",
    "y_true = randomForestTestingY['Survived']"
   ]
  },
  {
   "cell_type": "code",
   "execution_count": null,
   "metadata": {
    "collapsed": false
   },
   "outputs": [],
   "source": [
    "import numpy as np\n",
    "from scipy.stats import sem\n",
    "from sklearn.metrics import roc_auc_score\n",
    "\n",
    "y_pred = results['randomForest']\n",
    "y_true = randomForestTestingY['Survived']\n",
    "\n",
    "print(\"Original ROC area: {:0.3f}\".format(roc_auc_score(y_true, y_pred)))\n",
    "\n",
    "n_bootstraps = 1000\n",
    "rng_seed = 42  # control reproducibility\n",
    "bootstrapped_scores = []\n",
    "\n",
    "rng = np.random.RandomState(rng_seed)\n",
    "for i in range(n_bootstraps):\n",
    "    # bootstrap by sampling with replacement on the prediction indices\n",
    "    indices = rng.random_integers(0, len(y_pred) - 1, len(y_pred))\n",
    "    if len(np.unique(y_true[indices])) < 2:\n",
    "        # We need at least one positive and one negative sample for ROC AUC\n",
    "        # to be defined: reject the sample\n",
    "        continue\n",
    "\n",
    "    score = roc_auc_score(y_true, y_pred)\n",
    "    bootstrapped_scores.append(score)\n",
    "    print(\"Bootstrap #{} ROC area: {:0.3f}\".format(i + 1, score))\n"
   ]
  }
 ],
 "metadata": {
  "kernelspec": {
   "display_name": "Python 2",
   "language": "python",
   "name": "python2"
  },
  "language_info": {
   "codemirror_mode": {
    "name": "ipython",
    "version": 2
   },
   "file_extension": ".py",
   "mimetype": "text/x-python",
   "name": "python",
   "nbconvert_exporter": "python",
   "pygments_lexer": "ipython2",
   "version": "2.7.10"
  }
 },
 "nbformat": 4,
 "nbformat_minor": 0
}
